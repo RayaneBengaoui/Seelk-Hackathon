{
 "cells": [
  {
   "cell_type": "markdown",
   "metadata": {},
   "source": [
    "***"
   ]
  },
  {
   "cell_type": "markdown",
   "metadata": {},
   "source": [
    "\n",
    "# Hackathon de Rayane Bengaoui sur un dataset fourni par Seelk#\n",
    "\n",
    "\n"
   ]
  },
  {
   "cell_type": "markdown",
   "metadata": {},
   "source": [
    "Cet exercice a pour but de démontrer mes compétences sur un cas concret fourni par Seelk"
   ]
  },
  {
   "cell_type": "markdown",
   "metadata": {},
   "source": [
    "<div class=\"alert alert-block alert-info\">\n",
    "<b>Remarque:</b> Le cellules bleues symboliseront les remarques que je ferais tout au long de mon analyse.\n",
    "</div>"
   ]
  },
  {
   "cell_type": "markdown",
   "metadata": {},
   "source": [
    "Cette analyse s'organise en plusieurs parties :\n",
    "\n",
    "- **1. Identification du type de fichier**\n",
    "- **2. Nettoyage des données**\n",
    "- **3. Importance des features**\n",
    "- **4. Gérer un dataset déséquilibré**\n",
    "- **5. Choisir et évaluer un modèle**\n",
    "- **6. Régler les paramètres des modèles**\n",
    "- **7. Bilan**\n"
   ]
  },
  {
   "cell_type": "markdown",
   "metadata": {},
   "source": [
    "***"
   ]
  },
  {
   "cell_type": "markdown",
   "metadata": {},
   "source": [
    "## 1. Identification du type de fichier"
   ]
  },
  {
   "cell_type": "code",
   "execution_count": 102,
   "metadata": {},
   "outputs": [],
   "source": [
    "#import du module \"os\"\n",
    "import os\n",
    "\n",
    "\n",
    "\n",
    "#Permet de définir mon répertoire de travail où se trouvent le dataset et mes différentes screenshots\n",
    "os.chdir('D:/Travail/Projet_Seelk') "
   ]
  },
  {
   "cell_type": "markdown",
   "metadata": {},
   "source": [
    "\n",
    "\n",
    "\n",
    "\n",
    "Tout d'abord je décide d'ouvrir le fichier **CSV** sous un éditeur de texte **(Notepad++)** pour identifier sa structure."
   ]
  },
  {
   "cell_type": "markdown",
   "metadata": {},
   "source": [
    "***"
   ]
  },
  {
   "cell_type": "markdown",
   "metadata": {},
   "source": [
    "<b><center>\n",
    "    \n",
    "### Fichier ouvert sous un éditeur de texte###\n",
    "\n",
    "</center></b>"
   ]
  },
  {
  "cell_type": "markdown",
   "metadata": {
    "slideshow": {
     "slide_type": "slide"
    }
   },
   "source": [
    "Fichier ouvert sous un éditeur de texte.\n",
    "\n",
    "![Kernel & front-end diagram](Images/1.Ouverture_Notepad.png)"
   ]
  },
  {
   "cell_type": "markdown",
   "metadata": {},
   "source": [
    "***"
   ]
  },
  {
   "cell_type": "markdown",
   "metadata": {},
   "source": [
    "La première chose que je repère est le **délimiteur** du fichier, chaque colonne est séparée par le charactère '**;**' ce qui me sera utile juste après lorsque je voudrais lire le fichier. <br /><br />\n",
    "Je distingue aussi les différents attributs des colonnes ainsi que le contenu de chaque ligne cependant cela reste illisible je décide donc d'utiliser la librairie **Pandas** pour pouvoir charger mes données dans un Dataframe."
   ]
  },
  {
   "cell_type": "code",
   "execution_count": 103,
   "metadata": {},
   "outputs": [
    {
     "data": {
      "text/html": [
       "<div>\n",
       "<style scoped>\n",
       "    .dataframe tbody tr th:only-of-type {\n",
       "        vertical-align: middle;\n",
       "    }\n",
       "\n",
       "    .dataframe tbody tr th {\n",
       "        vertical-align: top;\n",
       "    }\n",
       "\n",
       "    .dataframe thead th {\n",
       "        text-align: right;\n",
       "    }\n",
       "</style>\n",
       "<table border=\"1\" class=\"dataframe\">\n",
       "  <thead>\n",
       "    <tr style=\"text-align: right;\">\n",
       "      <th></th>\n",
       "      <th>offer</th>\n",
       "      <th>scraping_date</th>\n",
       "      <th>buy_box_owner</th>\n",
       "      <th>owner_merchant_id</th>\n",
       "      <th>price_currency</th>\n",
       "      <th>delivery_details</th>\n",
       "      <th>condition</th>\n",
       "      <th>seller_name</th>\n",
       "      <th>rating_text</th>\n",
       "      <th>products_details</th>\n",
       "      <th>fba_text</th>\n",
       "      <th>add_to_basket</th>\n",
       "      <th>url</th>\n",
       "      <th>offer_ranking</th>\n",
       "      <th>merchant_id</th>\n",
       "      <th>shipping_cost</th>\n",
       "      <th>is_global_store</th>\n",
       "      <th>is_prime</th>\n",
       "    </tr>\n",
       "  </thead>\n",
       "  <tbody>\n",
       "    <tr>\n",
       "      <th>0</th>\n",
       "      <td>7247</td>\n",
       "      <td>2018-05-31</td>\n",
       "      <td>Verkauf und Versand durch Die NaturApotheke. F...</td>\n",
       "      <td>A2YQFBJ9TJXWZ0</td>\n",
       "      <td>EUR 19,17</td>\n",
       "      <td>+ EUR 3,95 Versandkosten</td>\n",
       "      <td>Neu</td>\n",
       "      <td>Die NaturApotheke</td>\n",
       "      <td>5 von 5 Sternen 98% positiv in den letzten 12 ...</td>\n",
       "      <td>['Lieferung erfolgt 6.-8. Juni. Weitere Inform...</td>\n",
       "      <td>None</td>\n",
       "      <td>In den Einkaufswagen von Verkäufer Die NaturAp...</td>\n",
       "      <td>https://www.amazon.de/gp/offer-listing/B000M45...</td>\n",
       "      <td>1</td>\n",
       "      <td>A2YQFBJ9TJXWZ0</td>\n",
       "      <td>EUR 3,95</td>\n",
       "      <td>False</td>\n",
       "      <td>False</td>\n",
       "    </tr>\n",
       "    <tr>\n",
       "      <th>1</th>\n",
       "      <td>375109</td>\n",
       "      <td>2018-05-31</td>\n",
       "      <td>Verkauf und Versand durch Amazon. Geschenkverp...</td>\n",
       "      <td>1</td>\n",
       "      <td>EUR 17,50</td>\n",
       "      <td>+ EUR 17,90 Versandkosten</td>\n",
       "      <td>Neu</td>\n",
       "      <td>PICCOLO</td>\n",
       "      <td>5 von 5 Sternen 100% positiv in den letzten 12...</td>\n",
       "      <td>['Lieferung erfolgt 8.-13. Juni. Weitere Infor...</td>\n",
       "      <td>None</td>\n",
       "      <td>In den Einkaufswagen von Verkäufer PICCOLO und...</td>\n",
       "      <td>https://www.amazon.de/gp/offer-listing/B00AUV7...</td>\n",
       "      <td>9</td>\n",
       "      <td>A1OJ6JQSEK83CV</td>\n",
       "      <td>EUR 17,90</td>\n",
       "      <td>False</td>\n",
       "      <td>False</td>\n",
       "    </tr>\n",
       "    <tr>\n",
       "      <th>2</th>\n",
       "      <td>375109</td>\n",
       "      <td>2018-05-31</td>\n",
       "      <td>Verkauf und Versand durch Amazon. Geschenkverp...</td>\n",
       "      <td>1</td>\n",
       "      <td>EUR 20,09</td>\n",
       "      <td>+ EUR 13,06 Versandkosten</td>\n",
       "      <td>Neu</td>\n",
       "      <td>Brikoland</td>\n",
       "      <td>3 von 5 Sternen 57% positiv in den letzten 12 ...</td>\n",
       "      <td>['Lieferung erfolgt 13.-18. Juni. Weitere Info...</td>\n",
       "      <td>None</td>\n",
       "      <td>In den Einkaufswagen von Verkäufer Brikoland u...</td>\n",
       "      <td>https://www.amazon.de/gp/offer-listing/B00AUV7...</td>\n",
       "      <td>8</td>\n",
       "      <td>A14OYWBRW8YQ5Q</td>\n",
       "      <td>EUR 13,06</td>\n",
       "      <td>False</td>\n",
       "      <td>False</td>\n",
       "    </tr>\n",
       "    <tr>\n",
       "      <th>3</th>\n",
       "      <td>375109</td>\n",
       "      <td>2018-05-31</td>\n",
       "      <td>Verkauf und Versand durch Amazon. Geschenkverp...</td>\n",
       "      <td>1</td>\n",
       "      <td>EUR 22,90</td>\n",
       "      <td>+ EUR 10,00 Versandkosten</td>\n",
       "      <td>Neu</td>\n",
       "      <td>Qualazampapetshop</td>\n",
       "      <td>4,5 von 5 Sternen 86% positiv. (7 alle Bewertu...</td>\n",
       "      <td>['Lieferung erfolgt 15.-20. Juni. Weitere Info...</td>\n",
       "      <td>None</td>\n",
       "      <td>In den Einkaufswagen von Verkäufer Qualazampap...</td>\n",
       "      <td>https://www.amazon.de/gp/offer-listing/B00AUV7...</td>\n",
       "      <td>7</td>\n",
       "      <td>A1H4RFP0B0FMHY</td>\n",
       "      <td>EUR 10,00</td>\n",
       "      <td>False</td>\n",
       "      <td>False</td>\n",
       "    </tr>\n",
       "    <tr>\n",
       "      <th>4</th>\n",
       "      <td>375109</td>\n",
       "      <td>2018-05-31</td>\n",
       "      <td>Verkauf und Versand durch Amazon. Geschenkverp...</td>\n",
       "      <td>1</td>\n",
       "      <td>EUR 20,34</td>\n",
       "      <td>+ EUR 11,90 Versandkosten</td>\n",
       "      <td>Neu</td>\n",
       "      <td>Initpc</td>\n",
       "      <td>4 von 5 Sternen 79% positiv. (39 alle Bewertun...</td>\n",
       "      <td>['Lieferung erfolgt 8.-13. Juni. Weitere Infor...</td>\n",
       "      <td>None</td>\n",
       "      <td>In den Einkaufswagen von Verkäufer Initpc und ...</td>\n",
       "      <td>https://www.amazon.de/gp/offer-listing/B00AUV7...</td>\n",
       "      <td>6</td>\n",
       "      <td>A1VCQKXS62I5R</td>\n",
       "      <td>EUR 11,90</td>\n",
       "      <td>False</td>\n",
       "      <td>False</td>\n",
       "    </tr>\n",
       "  </tbody>\n",
       "</table>\n",
       "</div>"
      ],
      "text/plain": [
       "    offer scraping_date                                      buy_box_owner  \\\n",
       "0    7247    2018-05-31  Verkauf und Versand durch Die NaturApotheke. F...   \n",
       "1  375109    2018-05-31  Verkauf und Versand durch Amazon. Geschenkverp...   \n",
       "2  375109    2018-05-31  Verkauf und Versand durch Amazon. Geschenkverp...   \n",
       "3  375109    2018-05-31  Verkauf und Versand durch Amazon. Geschenkverp...   \n",
       "4  375109    2018-05-31  Verkauf und Versand durch Amazon. Geschenkverp...   \n",
       "\n",
       "  owner_merchant_id price_currency           delivery_details condition  \\\n",
       "0    A2YQFBJ9TJXWZ0      EUR 19,17   + EUR 3,95 Versandkosten       Neu   \n",
       "1                 1      EUR 17,50  + EUR 17,90 Versandkosten       Neu   \n",
       "2                 1      EUR 20,09  + EUR 13,06 Versandkosten       Neu   \n",
       "3                 1      EUR 22,90  + EUR 10,00 Versandkosten       Neu   \n",
       "4                 1      EUR 20,34  + EUR 11,90 Versandkosten       Neu   \n",
       "\n",
       "         seller_name                                        rating_text  \\\n",
       "0  Die NaturApotheke  5 von 5 Sternen 98% positiv in den letzten 12 ...   \n",
       "1            PICCOLO  5 von 5 Sternen 100% positiv in den letzten 12...   \n",
       "2          Brikoland  3 von 5 Sternen 57% positiv in den letzten 12 ...   \n",
       "3  Qualazampapetshop  4,5 von 5 Sternen 86% positiv. (7 alle Bewertu...   \n",
       "4             Initpc  4 von 5 Sternen 79% positiv. (39 alle Bewertun...   \n",
       "\n",
       "                                    products_details fba_text  \\\n",
       "0  ['Lieferung erfolgt 6.-8. Juni. Weitere Inform...     None   \n",
       "1  ['Lieferung erfolgt 8.-13. Juni. Weitere Infor...     None   \n",
       "2  ['Lieferung erfolgt 13.-18. Juni. Weitere Info...     None   \n",
       "3  ['Lieferung erfolgt 15.-20. Juni. Weitere Info...     None   \n",
       "4  ['Lieferung erfolgt 8.-13. Juni. Weitere Infor...     None   \n",
       "\n",
       "                                       add_to_basket  \\\n",
       "0  In den Einkaufswagen von Verkäufer Die NaturAp...   \n",
       "1  In den Einkaufswagen von Verkäufer PICCOLO und...   \n",
       "2  In den Einkaufswagen von Verkäufer Brikoland u...   \n",
       "3  In den Einkaufswagen von Verkäufer Qualazampap...   \n",
       "4  In den Einkaufswagen von Verkäufer Initpc und ...   \n",
       "\n",
       "                                                 url  offer_ranking  \\\n",
       "0  https://www.amazon.de/gp/offer-listing/B000M45...              1   \n",
       "1  https://www.amazon.de/gp/offer-listing/B00AUV7...              9   \n",
       "2  https://www.amazon.de/gp/offer-listing/B00AUV7...              8   \n",
       "3  https://www.amazon.de/gp/offer-listing/B00AUV7...              7   \n",
       "4  https://www.amazon.de/gp/offer-listing/B00AUV7...              6   \n",
       "\n",
       "      merchant_id shipping_cost  is_global_store  is_prime  \n",
       "0  A2YQFBJ9TJXWZ0      EUR 3,95            False     False  \n",
       "1  A1OJ6JQSEK83CV     EUR 17,90            False     False  \n",
       "2  A14OYWBRW8YQ5Q     EUR 13,06            False     False  \n",
       "3  A1H4RFP0B0FMHY     EUR 10,00            False     False  \n",
       "4   A1VCQKXS62I5R     EUR 11,90            False     False  "
      ]
     },
     "execution_count": 103,
     "metadata": {},
     "output_type": "execute_result"
    }
   ],
   "source": [
    "# Import des différentes librairies \n",
    "import pandas as pd \n",
    "\n",
    "\n",
    "\n",
    "#Stock la donnée dans un DataFrame en indiquant ';' comme délimiteur \n",
    "data = pd.read_csv(\"Seelk+Data+Science+Hackathon.csv\",sep=';') \n",
    "\n",
    "# Aperçu des 5 premières lignes du fichier\n",
    "data.head()"
   ]
  },
  {
   "cell_type": "markdown",
   "metadata": {},
   "source": [
    "Le fichier est maintenant bien plus lisible, je peux dissocier les différentes colonnes. Ce qui m'intéresse maintenant est de comprendre quel genre de fichier il s'agit. <br /><br />Le premier attribut qui attire mon attention est \"**scraping_date**\" qui m'indique que le contenu du fichier est probablement issu d'un scraping sur le web.<br /><br /> Ensuite les attributs \"**seller_name**\",\"**price_currency**\", \"**delivery_details**\" ou encore \"**add_to_basket**\" m'indiquent très clairement qu'il s'agit d'une page Amazon.<br /><br />Enfin un dernier attribut captive mon attention, il s'agit de \"**URL**\" qui est composé de... une URL ! De ce fait je copie/colle une URL aléatoire pour avoir un aperçu s'il s'agit d'un lien mort ou bien d'un lien actif."
   ]
  },
  {
   "cell_type": "markdown",
   "metadata": {},
   "source": [
    "***"
   ]
  },
  {
   "cell_type": "markdown",
   "metadata": {},
   "source": [
    "<b><center>\n",
    "    \n",
    "### URL de l'une des colonnes###\n",
    "\n",
    "</center></b>"
   ]
  },
  {
  "cell_type": "markdown",
   "metadata": {
    "slideshow": {
     "slide_type": "slide"
    }
   },
   "source": [
    "Vérification sous Excel.\n",
    "\n",
    "![Kernel & front-end diagram](Images/2.Excel.png)"
   ]
  },
  {
   "cell_type": "markdown",
   "metadata": {},
   "source": [
    "***"
   ]
  },
  {
   "cell_type": "markdown",
   "metadata": {},
   "source": [
    "En effet, il s'agit bien d'une page Amazon correspondant à un article spécifique et ses différents vendeurs."
   ]
  },
  {
   "cell_type": "markdown",
   "metadata": {},
   "source": [
    "## 2. Nettoyage des données"
   ]
  },
  {
   "cell_type": "markdown",
   "metadata": {},
   "source": [
    "Après avoir ouvert le fichier j'ai pu remarquer que le dataset contenait des nombreuses informations erronées qu'il faut traiter. <br /><br />De plus, mon but est d'obtenir uniquement des valeurs numériques sur mon dataset final afin de pouvoir l'utiliser dans un modèle."
   ]
  },
  {
   "cell_type": "code",
   "execution_count": 104,
   "metadata": {},
   "outputs": [
    {
     "name": "stdout",
     "output_type": "stream",
     "text": [
      "Le dataset comporte 18 colonnes\n"
     ]
    }
   ],
   "source": [
    "# Nombre de colonnes\n",
    "column_nb = len(data.columns)\n",
    "\n",
    "print(\"Le dataset comporte {} colonnes\".format(column_nb))"
   ]
  },
  {
   "cell_type": "code",
   "execution_count": 105,
   "metadata": {},
   "outputs": [
    {
     "name": "stdout",
     "output_type": "stream",
     "text": [
      "Le dataset comporte les colonnes suivates :\n",
      "offer\n",
      "scraping_date\n",
      "buy_box_owner\n",
      "owner_merchant_id\n",
      "price_currency\n",
      "delivery_details\n",
      "condition\n",
      "seller_name\n",
      "rating_text\n",
      "products_details\n",
      "fba_text\n",
      "add_to_basket\n",
      "url\n",
      "offer_ranking\n",
      "merchant_id\n",
      "shipping_cost\n",
      "is_global_store\n",
      "is_prime\n"
     ]
    }
   ],
   "source": [
    "print(\"Le dataset comporte les colonnes suivates :\")\n",
    "\n",
    "for col in data.columns:\n",
    "    print(col)"
   ]
  },
  {
   "cell_type": "code",
   "execution_count": 106,
   "metadata": {},
   "outputs": [
    {
     "data": {
      "text/plain": [
       "offer                 int64\n",
       "scraping_date        object\n",
       "buy_box_owner        object\n",
       "owner_merchant_id    object\n",
       "price_currency       object\n",
       "delivery_details     object\n",
       "condition            object\n",
       "seller_name          object\n",
       "rating_text          object\n",
       "products_details     object\n",
       "fba_text             object\n",
       "add_to_basket        object\n",
       "url                  object\n",
       "offer_ranking         int64\n",
       "merchant_id          object\n",
       "shipping_cost        object\n",
       "is_global_store        bool\n",
       "is_prime               bool\n",
       "dtype: object"
      ]
     },
     "execution_count": 106,
     "metadata": {},
     "output_type": "execute_result"
    }
   ],
   "source": [
    "#Type des colonnes\n",
    "data.dtypes"
   ]
  },
  {
   "cell_type": "markdown",
   "metadata": {},
   "source": [
    "Je remarque ici que 4/18 des colonnes sont de type '**object**' et donc non exploitables pour mon futur modèle qui nécessitera des colonnes du type **Integer/Float/Boolean** "
   ]
  },
  {
   "cell_type": "markdown",
   "metadata": {},
   "source": [
    "Maintenant je vais analyser chaque colonne du dataset pour pouvoir déterminer les features ainsi que la target de mon modèle."
   ]
  },
  {
   "cell_type": "code",
   "execution_count": 107,
   "metadata": {},
   "outputs": [
    {
     "data": {
      "text/html": [
       "<div>\n",
       "<style scoped>\n",
       "    .dataframe tbody tr th:only-of-type {\n",
       "        vertical-align: middle;\n",
       "    }\n",
       "\n",
       "    .dataframe tbody tr th {\n",
       "        vertical-align: top;\n",
       "    }\n",
       "\n",
       "    .dataframe thead th {\n",
       "        text-align: right;\n",
       "    }\n",
       "</style>\n",
       "<table border=\"1\" class=\"dataframe\">\n",
       "  <thead>\n",
       "    <tr style=\"text-align: right;\">\n",
       "      <th></th>\n",
       "      <th>offer</th>\n",
       "      <th>scraping_date</th>\n",
       "      <th>buy_box_owner</th>\n",
       "      <th>owner_merchant_id</th>\n",
       "      <th>price_currency</th>\n",
       "      <th>delivery_details</th>\n",
       "      <th>condition</th>\n",
       "      <th>seller_name</th>\n",
       "      <th>rating_text</th>\n",
       "      <th>products_details</th>\n",
       "      <th>fba_text</th>\n",
       "      <th>add_to_basket</th>\n",
       "      <th>url</th>\n",
       "      <th>offer_ranking</th>\n",
       "      <th>merchant_id</th>\n",
       "      <th>shipping_cost</th>\n",
       "      <th>is_global_store</th>\n",
       "      <th>is_prime</th>\n",
       "    </tr>\n",
       "  </thead>\n",
       "  <tbody>\n",
       "    <tr>\n",
       "      <th>0</th>\n",
       "      <td>7247</td>\n",
       "      <td>2018-05-31</td>\n",
       "      <td>Verkauf und Versand durch Die NaturApotheke. F...</td>\n",
       "      <td>A2YQFBJ9TJXWZ0</td>\n",
       "      <td>EUR 19,17</td>\n",
       "      <td>+ EUR 3,95 Versandkosten</td>\n",
       "      <td>Neu</td>\n",
       "      <td>Die NaturApotheke</td>\n",
       "      <td>5 von 5 Sternen 98% positiv in den letzten 12 ...</td>\n",
       "      <td>['Lieferung erfolgt 6.-8. Juni. Weitere Inform...</td>\n",
       "      <td>None</td>\n",
       "      <td>In den Einkaufswagen von Verkäufer Die NaturAp...</td>\n",
       "      <td>https://www.amazon.de/gp/offer-listing/B000M45...</td>\n",
       "      <td>1</td>\n",
       "      <td>A2YQFBJ9TJXWZ0</td>\n",
       "      <td>EUR 3,95</td>\n",
       "      <td>False</td>\n",
       "      <td>False</td>\n",
       "    </tr>\n",
       "    <tr>\n",
       "      <th>1</th>\n",
       "      <td>375109</td>\n",
       "      <td>2018-05-31</td>\n",
       "      <td>Verkauf und Versand durch Amazon. Geschenkverp...</td>\n",
       "      <td>1</td>\n",
       "      <td>EUR 17,50</td>\n",
       "      <td>+ EUR 17,90 Versandkosten</td>\n",
       "      <td>Neu</td>\n",
       "      <td>PICCOLO</td>\n",
       "      <td>5 von 5 Sternen 100% positiv in den letzten 12...</td>\n",
       "      <td>['Lieferung erfolgt 8.-13. Juni. Weitere Infor...</td>\n",
       "      <td>None</td>\n",
       "      <td>In den Einkaufswagen von Verkäufer PICCOLO und...</td>\n",
       "      <td>https://www.amazon.de/gp/offer-listing/B00AUV7...</td>\n",
       "      <td>9</td>\n",
       "      <td>A1OJ6JQSEK83CV</td>\n",
       "      <td>EUR 17,90</td>\n",
       "      <td>False</td>\n",
       "      <td>False</td>\n",
       "    </tr>\n",
       "    <tr>\n",
       "      <th>2</th>\n",
       "      <td>375109</td>\n",
       "      <td>2018-05-31</td>\n",
       "      <td>Verkauf und Versand durch Amazon. Geschenkverp...</td>\n",
       "      <td>1</td>\n",
       "      <td>EUR 20,09</td>\n",
       "      <td>+ EUR 13,06 Versandkosten</td>\n",
       "      <td>Neu</td>\n",
       "      <td>Brikoland</td>\n",
       "      <td>3 von 5 Sternen 57% positiv in den letzten 12 ...</td>\n",
       "      <td>['Lieferung erfolgt 13.-18. Juni. Weitere Info...</td>\n",
       "      <td>None</td>\n",
       "      <td>In den Einkaufswagen von Verkäufer Brikoland u...</td>\n",
       "      <td>https://www.amazon.de/gp/offer-listing/B00AUV7...</td>\n",
       "      <td>8</td>\n",
       "      <td>A14OYWBRW8YQ5Q</td>\n",
       "      <td>EUR 13,06</td>\n",
       "      <td>False</td>\n",
       "      <td>False</td>\n",
       "    </tr>\n",
       "    <tr>\n",
       "      <th>3</th>\n",
       "      <td>375109</td>\n",
       "      <td>2018-05-31</td>\n",
       "      <td>Verkauf und Versand durch Amazon. Geschenkverp...</td>\n",
       "      <td>1</td>\n",
       "      <td>EUR 22,90</td>\n",
       "      <td>+ EUR 10,00 Versandkosten</td>\n",
       "      <td>Neu</td>\n",
       "      <td>Qualazampapetshop</td>\n",
       "      <td>4,5 von 5 Sternen 86% positiv. (7 alle Bewertu...</td>\n",
       "      <td>['Lieferung erfolgt 15.-20. Juni. Weitere Info...</td>\n",
       "      <td>None</td>\n",
       "      <td>In den Einkaufswagen von Verkäufer Qualazampap...</td>\n",
       "      <td>https://www.amazon.de/gp/offer-listing/B00AUV7...</td>\n",
       "      <td>7</td>\n",
       "      <td>A1H4RFP0B0FMHY</td>\n",
       "      <td>EUR 10,00</td>\n",
       "      <td>False</td>\n",
       "      <td>False</td>\n",
       "    </tr>\n",
       "    <tr>\n",
       "      <th>4</th>\n",
       "      <td>375109</td>\n",
       "      <td>2018-05-31</td>\n",
       "      <td>Verkauf und Versand durch Amazon. Geschenkverp...</td>\n",
       "      <td>1</td>\n",
       "      <td>EUR 20,34</td>\n",
       "      <td>+ EUR 11,90 Versandkosten</td>\n",
       "      <td>Neu</td>\n",
       "      <td>Initpc</td>\n",
       "      <td>4 von 5 Sternen 79% positiv. (39 alle Bewertun...</td>\n",
       "      <td>['Lieferung erfolgt 8.-13. Juni. Weitere Infor...</td>\n",
       "      <td>None</td>\n",
       "      <td>In den Einkaufswagen von Verkäufer Initpc und ...</td>\n",
       "      <td>https://www.amazon.de/gp/offer-listing/B00AUV7...</td>\n",
       "      <td>6</td>\n",
       "      <td>A1VCQKXS62I5R</td>\n",
       "      <td>EUR 11,90</td>\n",
       "      <td>False</td>\n",
       "      <td>False</td>\n",
       "    </tr>\n",
       "  </tbody>\n",
       "</table>\n",
       "</div>"
      ],
      "text/plain": [
       "    offer scraping_date                                      buy_box_owner  \\\n",
       "0    7247    2018-05-31  Verkauf und Versand durch Die NaturApotheke. F...   \n",
       "1  375109    2018-05-31  Verkauf und Versand durch Amazon. Geschenkverp...   \n",
       "2  375109    2018-05-31  Verkauf und Versand durch Amazon. Geschenkverp...   \n",
       "3  375109    2018-05-31  Verkauf und Versand durch Amazon. Geschenkverp...   \n",
       "4  375109    2018-05-31  Verkauf und Versand durch Amazon. Geschenkverp...   \n",
       "\n",
       "  owner_merchant_id price_currency           delivery_details condition  \\\n",
       "0    A2YQFBJ9TJXWZ0      EUR 19,17   + EUR 3,95 Versandkosten       Neu   \n",
       "1                 1      EUR 17,50  + EUR 17,90 Versandkosten       Neu   \n",
       "2                 1      EUR 20,09  + EUR 13,06 Versandkosten       Neu   \n",
       "3                 1      EUR 22,90  + EUR 10,00 Versandkosten       Neu   \n",
       "4                 1      EUR 20,34  + EUR 11,90 Versandkosten       Neu   \n",
       "\n",
       "         seller_name                                        rating_text  \\\n",
       "0  Die NaturApotheke  5 von 5 Sternen 98% positiv in den letzten 12 ...   \n",
       "1            PICCOLO  5 von 5 Sternen 100% positiv in den letzten 12...   \n",
       "2          Brikoland  3 von 5 Sternen 57% positiv in den letzten 12 ...   \n",
       "3  Qualazampapetshop  4,5 von 5 Sternen 86% positiv. (7 alle Bewertu...   \n",
       "4             Initpc  4 von 5 Sternen 79% positiv. (39 alle Bewertun...   \n",
       "\n",
       "                                    products_details fba_text  \\\n",
       "0  ['Lieferung erfolgt 6.-8. Juni. Weitere Inform...     None   \n",
       "1  ['Lieferung erfolgt 8.-13. Juni. Weitere Infor...     None   \n",
       "2  ['Lieferung erfolgt 13.-18. Juni. Weitere Info...     None   \n",
       "3  ['Lieferung erfolgt 15.-20. Juni. Weitere Info...     None   \n",
       "4  ['Lieferung erfolgt 8.-13. Juni. Weitere Infor...     None   \n",
       "\n",
       "                                       add_to_basket  \\\n",
       "0  In den Einkaufswagen von Verkäufer Die NaturAp...   \n",
       "1  In den Einkaufswagen von Verkäufer PICCOLO und...   \n",
       "2  In den Einkaufswagen von Verkäufer Brikoland u...   \n",
       "3  In den Einkaufswagen von Verkäufer Qualazampap...   \n",
       "4  In den Einkaufswagen von Verkäufer Initpc und ...   \n",
       "\n",
       "                                                 url  offer_ranking  \\\n",
       "0  https://www.amazon.de/gp/offer-listing/B000M45...              1   \n",
       "1  https://www.amazon.de/gp/offer-listing/B00AUV7...              9   \n",
       "2  https://www.amazon.de/gp/offer-listing/B00AUV7...              8   \n",
       "3  https://www.amazon.de/gp/offer-listing/B00AUV7...              7   \n",
       "4  https://www.amazon.de/gp/offer-listing/B00AUV7...              6   \n",
       "\n",
       "      merchant_id shipping_cost  is_global_store  is_prime  \n",
       "0  A2YQFBJ9TJXWZ0      EUR 3,95            False     False  \n",
       "1  A1OJ6JQSEK83CV     EUR 17,90            False     False  \n",
       "2  A14OYWBRW8YQ5Q     EUR 13,06            False     False  \n",
       "3  A1H4RFP0B0FMHY     EUR 10,00            False     False  \n",
       "4   A1VCQKXS62I5R     EUR 11,90            False     False  "
      ]
     },
     "execution_count": 107,
     "metadata": {},
     "output_type": "execute_result"
    }
   ],
   "source": [
    "data.head()"
   ]
  },
  {
   "cell_type": "markdown",
   "metadata": {},
   "source": [
    "### offer :\n",
    "Id de l'offre.\n",
    "\n",
    "### scraping_date :\n",
    "Date durant laquelle le scraping de la page Amazon a été effectué.\n",
    "\n",
    "\n",
    "### buy_box_owner :\n",
    "Entreprise détenant la \"buy_box\" de l'offre.\n",
    "\n",
    "\n",
    "### owner_merchant_id :\n",
    "Id de l'entreprise detenant la \"buy_box\".\n",
    "\n",
    "\n",
    "### price_currency :\n",
    "Prix de l'offre.\n",
    "\n",
    "### delivery_details :\n",
    "Prix de la livraison.\n",
    "\n",
    "### condition :\n",
    "Etat du bien.\n",
    "\n",
    "### seller_name :\n",
    "Nom du vendeur de l'offre.\n",
    "\n",
    "### rating_text :\n",
    "Note et pourcentage de commentaires positifs de l'offre.\n",
    "\n",
    "### products_details :\n",
    "Estimation de la date de livraison.\n",
    "\n",
    "### fba_text :\n",
    "?\n",
    "\n",
    "### add_to_basket :\n",
    "Label du bouton \"Ajouter au panier\".\n",
    "\n",
    "### url :\n",
    "URL de l'offre.\n",
    "\n",
    "### offer_ranking :\n",
    "Rang de l'offre par rapport à la buy_box.\n",
    "\n",
    "### merchant_id :\n",
    "Id du vendeur de l'offre.\n",
    "\n",
    "### shipping_cost :\n",
    "Prix de la livraison.\n",
    "\n",
    "### is_global_store :\n",
    "Indique s'il s'agit d'un vendeur global.\n",
    "\n",
    "### is_prime :\n",
    "Indique si l'offre dispose de l'option Amazon Prime."
   ]
  },
  {
   "cell_type": "markdown",
   "metadata": {},
   "source": [
    "***"
   ]
  },
  {
   "cell_type": "markdown",
   "metadata": {},
   "source": [
    "Le but est de savoir parmi ces offres, lesquelles vont gagner la buy_box. Pour cela il faut que je choisisse les différentes **features** de mon modèle ainsi que ma **target**. <br /><br />\n",
    "\n",
    "Pour la target je choisis la colonne **offer_ranking** puisqu'il s'agit de la colonne qui indique la position de l'offre par rapport à la buy_box. Donc un **offer_ranking** de 1 signifie que l'offre a gagné la buy_box. <br /><br />\n",
    "\n",
    "Ensuite parmi les différentes colonnes présentes je vais effectuer un premier tri en enlevant les colonnes que je juge non pertinentes.\n",
    "\n",
    "<span style=\"color:red\"><b>NON-PERTINENT: </b></span><br />\n",
    "\n",
    "- <b>owner_merchant_id:</b> Il s'agit d'un ID ce qui n'apporte pas d'information utile par rapport au ranking.\n",
    "<br /><br />\n",
    "- <b>merchant_id:</b> Pareil que \"owner_merchant_id\".\n",
    "<br /><br />\n",
    "- <b>buy_box_owner:</b> La colonne \"offer_ranking\" donne directement la position de l'offre qui est ma target, je n'ai pas besoin du nom du vendeur gagnant.\n",
    "<br /><br />\n",
    "- <b>fba_text:</b> Majoritairement remplie de valeurs null cette colonne n'est pas utile.\n",
    "<br /><br />\n",
    "- <b>add_to_basket:</b> Il s'agit du label d'un bouton ce qui est peu intéressant, bien que parfois le prix soit inclu avec je préfere utiliser une autre colonne pour récupérer le prix.\n",
    "<br /><br />\n",
    "- <b>url:</b> L'URL de l'offre qui n'impacte pas son positionnement pour la place de gagnant de la buy_box\n",
    "<br /><br />\n",
    "- <b>delivery_details:</b> Cette colonne est utile néanmoins la colonne \"shipping_cost\" contient la même information avec moins d'information à traiter ce qui rend \"delivery_details\" obsolète.\n"
   ]
  },
  {
   "cell_type": "code",
   "execution_count": 108,
   "metadata": {},
   "outputs": [],
   "source": [
    "# On enlève les colonnes citées ci-dessus de notre dataframe\n",
    "data = data.drop(['owner_merchant_id','merchant_id','buy_box_owner', 'fba_text','add_to_basket','url','delivery_details'], axis=1)"
   ]
  },
  {
   "cell_type": "code",
   "execution_count": 109,
   "metadata": {},
   "outputs": [
    {
     "data": {
      "text/html": [
       "<div>\n",
       "<style scoped>\n",
       "    .dataframe tbody tr th:only-of-type {\n",
       "        vertical-align: middle;\n",
       "    }\n",
       "\n",
       "    .dataframe tbody tr th {\n",
       "        vertical-align: top;\n",
       "    }\n",
       "\n",
       "    .dataframe thead th {\n",
       "        text-align: right;\n",
       "    }\n",
       "</style>\n",
       "<table border=\"1\" class=\"dataframe\">\n",
       "  <thead>\n",
       "    <tr style=\"text-align: right;\">\n",
       "      <th></th>\n",
       "      <th>offer</th>\n",
       "      <th>scraping_date</th>\n",
       "      <th>price_currency</th>\n",
       "      <th>condition</th>\n",
       "      <th>seller_name</th>\n",
       "      <th>rating_text</th>\n",
       "      <th>products_details</th>\n",
       "      <th>offer_ranking</th>\n",
       "      <th>shipping_cost</th>\n",
       "      <th>is_global_store</th>\n",
       "      <th>is_prime</th>\n",
       "    </tr>\n",
       "  </thead>\n",
       "  <tbody>\n",
       "    <tr>\n",
       "      <th>0</th>\n",
       "      <td>7247</td>\n",
       "      <td>2018-05-31</td>\n",
       "      <td>EUR 19,17</td>\n",
       "      <td>Neu</td>\n",
       "      <td>Die NaturApotheke</td>\n",
       "      <td>5 von 5 Sternen 98% positiv in den letzten 12 ...</td>\n",
       "      <td>['Lieferung erfolgt 6.-8. Juni. Weitere Inform...</td>\n",
       "      <td>1</td>\n",
       "      <td>EUR 3,95</td>\n",
       "      <td>False</td>\n",
       "      <td>False</td>\n",
       "    </tr>\n",
       "    <tr>\n",
       "      <th>1</th>\n",
       "      <td>375109</td>\n",
       "      <td>2018-05-31</td>\n",
       "      <td>EUR 17,50</td>\n",
       "      <td>Neu</td>\n",
       "      <td>PICCOLO</td>\n",
       "      <td>5 von 5 Sternen 100% positiv in den letzten 12...</td>\n",
       "      <td>['Lieferung erfolgt 8.-13. Juni. Weitere Infor...</td>\n",
       "      <td>9</td>\n",
       "      <td>EUR 17,90</td>\n",
       "      <td>False</td>\n",
       "      <td>False</td>\n",
       "    </tr>\n",
       "    <tr>\n",
       "      <th>2</th>\n",
       "      <td>375109</td>\n",
       "      <td>2018-05-31</td>\n",
       "      <td>EUR 20,09</td>\n",
       "      <td>Neu</td>\n",
       "      <td>Brikoland</td>\n",
       "      <td>3 von 5 Sternen 57% positiv in den letzten 12 ...</td>\n",
       "      <td>['Lieferung erfolgt 13.-18. Juni. Weitere Info...</td>\n",
       "      <td>8</td>\n",
       "      <td>EUR 13,06</td>\n",
       "      <td>False</td>\n",
       "      <td>False</td>\n",
       "    </tr>\n",
       "    <tr>\n",
       "      <th>3</th>\n",
       "      <td>375109</td>\n",
       "      <td>2018-05-31</td>\n",
       "      <td>EUR 22,90</td>\n",
       "      <td>Neu</td>\n",
       "      <td>Qualazampapetshop</td>\n",
       "      <td>4,5 von 5 Sternen 86% positiv. (7 alle Bewertu...</td>\n",
       "      <td>['Lieferung erfolgt 15.-20. Juni. Weitere Info...</td>\n",
       "      <td>7</td>\n",
       "      <td>EUR 10,00</td>\n",
       "      <td>False</td>\n",
       "      <td>False</td>\n",
       "    </tr>\n",
       "    <tr>\n",
       "      <th>4</th>\n",
       "      <td>375109</td>\n",
       "      <td>2018-05-31</td>\n",
       "      <td>EUR 20,34</td>\n",
       "      <td>Neu</td>\n",
       "      <td>Initpc</td>\n",
       "      <td>4 von 5 Sternen 79% positiv. (39 alle Bewertun...</td>\n",
       "      <td>['Lieferung erfolgt 8.-13. Juni. Weitere Infor...</td>\n",
       "      <td>6</td>\n",
       "      <td>EUR 11,90</td>\n",
       "      <td>False</td>\n",
       "      <td>False</td>\n",
       "    </tr>\n",
       "  </tbody>\n",
       "</table>\n",
       "</div>"
      ],
      "text/plain": [
       "    offer scraping_date price_currency condition        seller_name  \\\n",
       "0    7247    2018-05-31      EUR 19,17       Neu  Die NaturApotheke   \n",
       "1  375109    2018-05-31      EUR 17,50       Neu            PICCOLO   \n",
       "2  375109    2018-05-31      EUR 20,09       Neu          Brikoland   \n",
       "3  375109    2018-05-31      EUR 22,90       Neu  Qualazampapetshop   \n",
       "4  375109    2018-05-31      EUR 20,34       Neu             Initpc   \n",
       "\n",
       "                                         rating_text  \\\n",
       "0  5 von 5 Sternen 98% positiv in den letzten 12 ...   \n",
       "1  5 von 5 Sternen 100% positiv in den letzten 12...   \n",
       "2  3 von 5 Sternen 57% positiv in den letzten 12 ...   \n",
       "3  4,5 von 5 Sternen 86% positiv. (7 alle Bewertu...   \n",
       "4  4 von 5 Sternen 79% positiv. (39 alle Bewertun...   \n",
       "\n",
       "                                    products_details  offer_ranking  \\\n",
       "0  ['Lieferung erfolgt 6.-8. Juni. Weitere Inform...              1   \n",
       "1  ['Lieferung erfolgt 8.-13. Juni. Weitere Infor...              9   \n",
       "2  ['Lieferung erfolgt 13.-18. Juni. Weitere Info...              8   \n",
       "3  ['Lieferung erfolgt 15.-20. Juni. Weitere Info...              7   \n",
       "4  ['Lieferung erfolgt 8.-13. Juni. Weitere Infor...              6   \n",
       "\n",
       "  shipping_cost  is_global_store  is_prime  \n",
       "0      EUR 3,95            False     False  \n",
       "1     EUR 17,90            False     False  \n",
       "2     EUR 13,06            False     False  \n",
       "3     EUR 10,00            False     False  \n",
       "4     EUR 11,90            False     False  "
      ]
     },
     "execution_count": 109,
     "metadata": {},
     "output_type": "execute_result"
    }
   ],
   "source": [
    "data.head()"
   ]
  },
  {
   "cell_type": "markdown",
   "metadata": {},
   "source": [
    "***"
   ]
  },
  {
   "cell_type": "markdown",
   "metadata": {},
   "source": [
    "***"
   ]
  },
  {
   "cell_type": "markdown",
   "metadata": {},
   "source": [
    "Maintenant je vais traiter chaque colonne pour voir si je peux séparer l'information et les convertir en valeurs numériques. Je commence par la colonne **scraping_date** comme la colonne **offer** est déjà au format Integer."
   ]
  },
  {
   "cell_type": "markdown",
   "metadata": {},
   "source": [
    "Comme la date est au format DateTime, il est facile de la manipuler. Je choisis donc de créer 3 nouvelles colonnes qui seront \"**year**\", \"**month**\" et \"**day**\" pour pouvoir dissocier les différents éléments de mes dates."
   ]
  },
  {
   "cell_type": "code",
   "execution_count": 110,
   "metadata": {},
   "outputs": [
    {
     "data": {
      "text/html": [
       "<div>\n",
       "<style scoped>\n",
       "    .dataframe tbody tr th:only-of-type {\n",
       "        vertical-align: middle;\n",
       "    }\n",
       "\n",
       "    .dataframe tbody tr th {\n",
       "        vertical-align: top;\n",
       "    }\n",
       "\n",
       "    .dataframe thead th {\n",
       "        text-align: right;\n",
       "    }\n",
       "</style>\n",
       "<table border=\"1\" class=\"dataframe\">\n",
       "  <thead>\n",
       "    <tr style=\"text-align: right;\">\n",
       "      <th></th>\n",
       "      <th>offer</th>\n",
       "      <th>price_currency</th>\n",
       "      <th>condition</th>\n",
       "      <th>seller_name</th>\n",
       "      <th>rating_text</th>\n",
       "      <th>products_details</th>\n",
       "      <th>offer_ranking</th>\n",
       "      <th>shipping_cost</th>\n",
       "      <th>is_global_store</th>\n",
       "      <th>is_prime</th>\n",
       "      <th>year</th>\n",
       "      <th>month</th>\n",
       "      <th>day</th>\n",
       "    </tr>\n",
       "  </thead>\n",
       "  <tbody>\n",
       "    <tr>\n",
       "      <th>0</th>\n",
       "      <td>7247</td>\n",
       "      <td>EUR 19,17</td>\n",
       "      <td>Neu</td>\n",
       "      <td>Die NaturApotheke</td>\n",
       "      <td>5 von 5 Sternen 98% positiv in den letzten 12 ...</td>\n",
       "      <td>['Lieferung erfolgt 6.-8. Juni. Weitere Inform...</td>\n",
       "      <td>1</td>\n",
       "      <td>EUR 3,95</td>\n",
       "      <td>False</td>\n",
       "      <td>False</td>\n",
       "      <td>2018</td>\n",
       "      <td>5</td>\n",
       "      <td>31</td>\n",
       "    </tr>\n",
       "    <tr>\n",
       "      <th>1</th>\n",
       "      <td>375109</td>\n",
       "      <td>EUR 17,50</td>\n",
       "      <td>Neu</td>\n",
       "      <td>PICCOLO</td>\n",
       "      <td>5 von 5 Sternen 100% positiv in den letzten 12...</td>\n",
       "      <td>['Lieferung erfolgt 8.-13. Juni. Weitere Infor...</td>\n",
       "      <td>9</td>\n",
       "      <td>EUR 17,90</td>\n",
       "      <td>False</td>\n",
       "      <td>False</td>\n",
       "      <td>2018</td>\n",
       "      <td>5</td>\n",
       "      <td>31</td>\n",
       "    </tr>\n",
       "    <tr>\n",
       "      <th>2</th>\n",
       "      <td>375109</td>\n",
       "      <td>EUR 20,09</td>\n",
       "      <td>Neu</td>\n",
       "      <td>Brikoland</td>\n",
       "      <td>3 von 5 Sternen 57% positiv in den letzten 12 ...</td>\n",
       "      <td>['Lieferung erfolgt 13.-18. Juni. Weitere Info...</td>\n",
       "      <td>8</td>\n",
       "      <td>EUR 13,06</td>\n",
       "      <td>False</td>\n",
       "      <td>False</td>\n",
       "      <td>2018</td>\n",
       "      <td>5</td>\n",
       "      <td>31</td>\n",
       "    </tr>\n",
       "    <tr>\n",
       "      <th>3</th>\n",
       "      <td>375109</td>\n",
       "      <td>EUR 22,90</td>\n",
       "      <td>Neu</td>\n",
       "      <td>Qualazampapetshop</td>\n",
       "      <td>4,5 von 5 Sternen 86% positiv. (7 alle Bewertu...</td>\n",
       "      <td>['Lieferung erfolgt 15.-20. Juni. Weitere Info...</td>\n",
       "      <td>7</td>\n",
       "      <td>EUR 10,00</td>\n",
       "      <td>False</td>\n",
       "      <td>False</td>\n",
       "      <td>2018</td>\n",
       "      <td>5</td>\n",
       "      <td>31</td>\n",
       "    </tr>\n",
       "    <tr>\n",
       "      <th>4</th>\n",
       "      <td>375109</td>\n",
       "      <td>EUR 20,34</td>\n",
       "      <td>Neu</td>\n",
       "      <td>Initpc</td>\n",
       "      <td>4 von 5 Sternen 79% positiv. (39 alle Bewertun...</td>\n",
       "      <td>['Lieferung erfolgt 8.-13. Juni. Weitere Infor...</td>\n",
       "      <td>6</td>\n",
       "      <td>EUR 11,90</td>\n",
       "      <td>False</td>\n",
       "      <td>False</td>\n",
       "      <td>2018</td>\n",
       "      <td>5</td>\n",
       "      <td>31</td>\n",
       "    </tr>\n",
       "  </tbody>\n",
       "</table>\n",
       "</div>"
      ],
      "text/plain": [
       "    offer price_currency condition        seller_name  \\\n",
       "0    7247      EUR 19,17       Neu  Die NaturApotheke   \n",
       "1  375109      EUR 17,50       Neu            PICCOLO   \n",
       "2  375109      EUR 20,09       Neu          Brikoland   \n",
       "3  375109      EUR 22,90       Neu  Qualazampapetshop   \n",
       "4  375109      EUR 20,34       Neu             Initpc   \n",
       "\n",
       "                                         rating_text  \\\n",
       "0  5 von 5 Sternen 98% positiv in den letzten 12 ...   \n",
       "1  5 von 5 Sternen 100% positiv in den letzten 12...   \n",
       "2  3 von 5 Sternen 57% positiv in den letzten 12 ...   \n",
       "3  4,5 von 5 Sternen 86% positiv. (7 alle Bewertu...   \n",
       "4  4 von 5 Sternen 79% positiv. (39 alle Bewertun...   \n",
       "\n",
       "                                    products_details  offer_ranking  \\\n",
       "0  ['Lieferung erfolgt 6.-8. Juni. Weitere Inform...              1   \n",
       "1  ['Lieferung erfolgt 8.-13. Juni. Weitere Infor...              9   \n",
       "2  ['Lieferung erfolgt 13.-18. Juni. Weitere Info...              8   \n",
       "3  ['Lieferung erfolgt 15.-20. Juni. Weitere Info...              7   \n",
       "4  ['Lieferung erfolgt 8.-13. Juni. Weitere Infor...              6   \n",
       "\n",
       "  shipping_cost  is_global_store  is_prime  year  month  day  \n",
       "0      EUR 3,95            False     False  2018      5   31  \n",
       "1     EUR 17,90            False     False  2018      5   31  \n",
       "2     EUR 13,06            False     False  2018      5   31  \n",
       "3     EUR 10,00            False     False  2018      5   31  \n",
       "4     EUR 11,90            False     False  2018      5   31  "
      ]
     },
     "execution_count": 110,
     "metadata": {},
     "output_type": "execute_result"
    }
   ],
   "source": [
    "# Créer 3 nouvelles colonnes\n",
    "data['year'] = pd.DatetimeIndex(data['scraping_date']).year\n",
    "data['month'] = pd.DatetimeIndex(data['scraping_date']).month\n",
    "data['day'] = pd.DatetimeIndex(data['scraping_date']).day\n",
    "\n",
    "# Supprimer la colonne \"scrapping_date\"\n",
    "data = data.drop(['scraping_date'], axis=1)\n",
    "                  \n",
    "data.head()"
   ]
  },
  {
   "cell_type": "markdown",
   "metadata": {},
   "source": [
    "***"
   ]
  },
  {
   "cell_type": "markdown",
   "metadata": {},
   "source": [
    "Maintenant passons à la colonne **price_currency**, je vais déjà afficher les valeurs principales de celle-ci pour avoir une idée du format des prix."
   ]
  },
  {
   "cell_type": "code",
   "execution_count": 111,
   "metadata": {},
   "outputs": [
    {
     "data": {
      "text/plain": [
       "EUR 0,01      2626\n",
       "EUR 4,99      1515\n",
       "£5.99         1356\n",
       "EUR 9,99      1339\n",
       "£6.99         1267\n",
       "EUR 8,50      1157\n",
       "£9.99         1045\n",
       "EUR 14,99      988\n",
       "EUR 3,99       963\n",
       "EUR 6,99       955\n",
       "EUR 9,95       952\n",
       "£8.99          949\n",
       "EUR 11,00      944\n",
       "EUR 7,99       931\n",
       "£4.99          931\n",
       "EUR 11,99      930\n",
       "EUR 16,00      907\n",
       "EUR 19,90      900\n",
       "EUR 12,00      888\n",
       "EUR 15,00      877\n",
       "EUR 10,00      875\n",
       "EUR 8,99       830\n",
       "EUR 9,90       793\n",
       "EUR 8,00       790\n",
       "EUR 20,00      776\n",
       "EUR 5,99       771\n",
       "EUR 8,90       769\n",
       "£3.99          730\n",
       "£7.99          729\n",
       "£19.99         720\n",
       "              ... \n",
       "EUR 76,64        1\n",
       "EUR 40,53        1\n",
       "$59.81           1\n",
       "$72.85           1\n",
       "EUR 51,53        1\n",
       "EUR 94,50        1\n",
       "£78.57           1\n",
       "EUR 58,66        1\n",
       "£106.99          1\n",
       "$5.13            1\n",
       "£79.70           1\n",
       "$4.62            1\n",
       "£28.47           1\n",
       "EUR 98,63        1\n",
       "EUR 121,75       1\n",
       "£27.65           1\n",
       "£17.53           1\n",
       "EUR 133,62       1\n",
       "EUR 198,76       1\n",
       "$47.35           1\n",
       "£30.54           1\n",
       "EUR 107,25       1\n",
       "$180.42          1\n",
       "EUR 49,65        1\n",
       "EUR 154,13       1\n",
       "EUR 91,20        1\n",
       "EUR 45,91        1\n",
       "£39.06           1\n",
       "£120.98          1\n",
       "EUR 52,81        1\n",
       "Name: price_currency, Length: 19124, dtype: int64"
      ]
     },
     "execution_count": 111,
     "metadata": {},
     "output_type": "execute_result"
    }
   ],
   "source": [
    "data.price_currency.value_counts()"
   ]
  },
  {
   "cell_type": "markdown",
   "metadata": {},
   "source": [
    "Ici on peut voir que ce qui ressort le plus souvent sont des prix :\n",
    "\n",
    "- en Euro\n",
    "- en Dollar\n",
    "- en Livre\n",
    "\n",
    "avec comme spécificité que les prix en euros sont séparés par un espace (EUR 10) contrairement aux dollars/livres qui eux sont directement attachés ($3/£4) <br />\n",
    "\n",
    "De ce fait, je vais convertir tous les prix en euros afin d'homogénéiser ma colonne de prix."
   ]
  },
  {
   "cell_type": "code",
   "execution_count": 112,
   "metadata": {},
   "outputs": [
    {
     "data": {
      "text/plain": [
       "['EUR', '19,17']"
      ]
     },
     "execution_count": 112,
     "metadata": {},
     "output_type": "execute_result"
    }
   ],
   "source": [
    "#Exemple du résultat de la fonction split() sur une ligne, on peut voir qu'il nous suffit\n",
    "#de garder seulement le 2ème index du tableau\n",
    "\n",
    "data.price_currency[0].split()"
   ]
  },
  {
   "cell_type": "code",
   "execution_count": 113,
   "metadata": {},
   "outputs": [],
   "source": [
    "#On enlève les quelques valeurs qui étaient à None\n",
    "data = data[data.price_currency != 'None']\n"
   ]
  },
  {
   "cell_type": "code",
   "execution_count": 114,
   "metadata": {},
   "outputs": [],
   "source": [
    "pd.options.mode.chained_assignment = None\n",
    "\n",
    "def convertDollar(number):\n",
    "    \"\"\"\n",
    "    Convertit un prix en dollars en euro\n",
    "    \n",
    "    Exemple:\n",
    "    \n",
    "    money = 3$\n",
    "    \n",
    "    >>> convertDollar(3)\n",
    "    2.7\n",
    "    \"\"\"\n",
    "    \n",
    "    return  number * 0.9\n",
    "\n",
    "\n",
    "def convertLivreSterling(number):\n",
    "    \"\"\"\n",
    "    Convertit un prix en livre en euro\n",
    "    \n",
    "    Exemple:\n",
    "    \n",
    "    money = 3£\n",
    "    \n",
    "    >>> convertLivreSterling(3)\n",
    "    3.48\n",
    "    \"\"\"\n",
    "    \n",
    "    return number * 1.16\n",
    "\n",
    "\n",
    "\n",
    "def changeCurrency(myList):\n",
    "    \"\"\"\n",
    "    Retourne un prix en euro en traitant les différentes devises et les virgules/points dans les nombres\n",
    "    \"\"\"\n",
    "   \n",
    "    # Remplace l'ensemble des ',' dans le mot afin de standardiser le format et de pouvoir le convertir en float\n",
    "    myList = myList.replace(',','.')\n",
    "   \n",
    "  \n",
    "    # Enlève les différents points dans certains nombre (Exemple: 23.299.999 -> 23.299999)\n",
    "    if myList.count('.') > 1:\n",
    "        while myList.count('.') > 1:\n",
    "            myList = myList[:myList.rfind('.')] + myList[(myList.rfind('.')+1):]\n",
    "            \n",
    "\n",
    "    # Les prix en euro sont composés de 2 éléments le 1er est le mot 'EUR' et le 2ème est le prix, je garde donc uniquement le 2ème  \n",
    "    if len(myList.split())>1:\n",
    "        myList = float(myList.split()[1])\n",
    "        \n",
    "    # Enlève le signe $ et convertit en flaot\n",
    "    elif myList[0] == '$':\n",
    "        myList = myList.replace('$','')\n",
    "        myList = convertDollar(float(myList)) \n",
    "    # Enlève le signe £ et convertit en float   \n",
    "    elif myList[0] == '£':\n",
    "        myList = myList.replace('£','')\n",
    "        myList = convertLivreSterling(float(myList)) \n",
    "        \n",
    "\n",
    "    return myList"
   ]
  },
  {
   "cell_type": "code",
   "execution_count": 115,
   "metadata": {},
   "outputs": [],
   "source": [
    "# On applique la fonction sur la colonne \"price_currency\"\n",
    "data['price_currency']= data.price_currency.apply(changeCurrency)"
   ]
  },
  {
   "cell_type": "markdown",
   "metadata": {},
   "source": [
    "On utilise la fonction **describe()** pour avoir un aperçu global de la **moyenne** des prix ainsi que de **l'écart-type** <br />\n",
    "\n",
    "Les chiffres obtenus sont plutôt cohérents avec une moyenne ~= 20 et un écart-type ~= 37 ce qui montre qu'il y a peu de dispersion au niveau du prix. De plus, la valeur maximale est d'environ 1159 ce qui est aussi plausible. <br />\n",
    "\n",
    "Les résultats m'auraient alerté si jamais l'écart-type avait été beaucoup plus élevé avec une valeur maximale au delà des milliers d'euros. Cela aurait signifié que ma fonction de conversion était fausse et que je ne gérais pas correctement le traitement des points/virgules.\n",
    "\n"
   ]
  },
  {
   "cell_type": "code",
   "execution_count": 116,
   "metadata": {},
   "outputs": [
    {
     "data": {
      "text/plain": [
       "count    547173.000000\n",
       "mean         20.042002\n",
       "std          36.566753\n",
       "min           0.009000\n",
       "25%           7.730000\n",
       "50%          12.924000\n",
       "75%          22.230000\n",
       "max        1158.840000\n",
       "Name: price_currency, dtype: float64"
      ]
     },
     "execution_count": 116,
     "metadata": {},
     "output_type": "execute_result"
    }
   ],
   "source": [
    "data.price_currency.describe()"
   ]
  },
  {
   "cell_type": "code",
   "execution_count": 117,
   "metadata": {},
   "outputs": [
    {
     "data": {
      "text/html": [
       "<div>\n",
       "<style scoped>\n",
       "    .dataframe tbody tr th:only-of-type {\n",
       "        vertical-align: middle;\n",
       "    }\n",
       "\n",
       "    .dataframe tbody tr th {\n",
       "        vertical-align: top;\n",
       "    }\n",
       "\n",
       "    .dataframe thead th {\n",
       "        text-align: right;\n",
       "    }\n",
       "</style>\n",
       "<table border=\"1\" class=\"dataframe\">\n",
       "  <thead>\n",
       "    <tr style=\"text-align: right;\">\n",
       "      <th></th>\n",
       "      <th>offer</th>\n",
       "      <th>price_currency</th>\n",
       "      <th>condition</th>\n",
       "      <th>seller_name</th>\n",
       "      <th>rating_text</th>\n",
       "      <th>products_details</th>\n",
       "      <th>offer_ranking</th>\n",
       "      <th>shipping_cost</th>\n",
       "      <th>is_global_store</th>\n",
       "      <th>is_prime</th>\n",
       "      <th>year</th>\n",
       "      <th>month</th>\n",
       "      <th>day</th>\n",
       "    </tr>\n",
       "  </thead>\n",
       "  <tbody>\n",
       "    <tr>\n",
       "      <th>0</th>\n",
       "      <td>7247</td>\n",
       "      <td>19.17</td>\n",
       "      <td>Neu</td>\n",
       "      <td>Die NaturApotheke</td>\n",
       "      <td>5 von 5 Sternen 98% positiv in den letzten 12 ...</td>\n",
       "      <td>['Lieferung erfolgt 6.-8. Juni. Weitere Inform...</td>\n",
       "      <td>1</td>\n",
       "      <td>EUR 3,95</td>\n",
       "      <td>False</td>\n",
       "      <td>False</td>\n",
       "      <td>2018</td>\n",
       "      <td>5</td>\n",
       "      <td>31</td>\n",
       "    </tr>\n",
       "    <tr>\n",
       "      <th>1</th>\n",
       "      <td>375109</td>\n",
       "      <td>17.50</td>\n",
       "      <td>Neu</td>\n",
       "      <td>PICCOLO</td>\n",
       "      <td>5 von 5 Sternen 100% positiv in den letzten 12...</td>\n",
       "      <td>['Lieferung erfolgt 8.-13. Juni. Weitere Infor...</td>\n",
       "      <td>9</td>\n",
       "      <td>EUR 17,90</td>\n",
       "      <td>False</td>\n",
       "      <td>False</td>\n",
       "      <td>2018</td>\n",
       "      <td>5</td>\n",
       "      <td>31</td>\n",
       "    </tr>\n",
       "    <tr>\n",
       "      <th>2</th>\n",
       "      <td>375109</td>\n",
       "      <td>20.09</td>\n",
       "      <td>Neu</td>\n",
       "      <td>Brikoland</td>\n",
       "      <td>3 von 5 Sternen 57% positiv in den letzten 12 ...</td>\n",
       "      <td>['Lieferung erfolgt 13.-18. Juni. Weitere Info...</td>\n",
       "      <td>8</td>\n",
       "      <td>EUR 13,06</td>\n",
       "      <td>False</td>\n",
       "      <td>False</td>\n",
       "      <td>2018</td>\n",
       "      <td>5</td>\n",
       "      <td>31</td>\n",
       "    </tr>\n",
       "    <tr>\n",
       "      <th>3</th>\n",
       "      <td>375109</td>\n",
       "      <td>22.90</td>\n",
       "      <td>Neu</td>\n",
       "      <td>Qualazampapetshop</td>\n",
       "      <td>4,5 von 5 Sternen 86% positiv. (7 alle Bewertu...</td>\n",
       "      <td>['Lieferung erfolgt 15.-20. Juni. Weitere Info...</td>\n",
       "      <td>7</td>\n",
       "      <td>EUR 10,00</td>\n",
       "      <td>False</td>\n",
       "      <td>False</td>\n",
       "      <td>2018</td>\n",
       "      <td>5</td>\n",
       "      <td>31</td>\n",
       "    </tr>\n",
       "    <tr>\n",
       "      <th>4</th>\n",
       "      <td>375109</td>\n",
       "      <td>20.34</td>\n",
       "      <td>Neu</td>\n",
       "      <td>Initpc</td>\n",
       "      <td>4 von 5 Sternen 79% positiv. (39 alle Bewertun...</td>\n",
       "      <td>['Lieferung erfolgt 8.-13. Juni. Weitere Infor...</td>\n",
       "      <td>6</td>\n",
       "      <td>EUR 11,90</td>\n",
       "      <td>False</td>\n",
       "      <td>False</td>\n",
       "      <td>2018</td>\n",
       "      <td>5</td>\n",
       "      <td>31</td>\n",
       "    </tr>\n",
       "  </tbody>\n",
       "</table>\n",
       "</div>"
      ],
      "text/plain": [
       "    offer  price_currency condition        seller_name  \\\n",
       "0    7247           19.17       Neu  Die NaturApotheke   \n",
       "1  375109           17.50       Neu            PICCOLO   \n",
       "2  375109           20.09       Neu          Brikoland   \n",
       "3  375109           22.90       Neu  Qualazampapetshop   \n",
       "4  375109           20.34       Neu             Initpc   \n",
       "\n",
       "                                         rating_text  \\\n",
       "0  5 von 5 Sternen 98% positiv in den letzten 12 ...   \n",
       "1  5 von 5 Sternen 100% positiv in den letzten 12...   \n",
       "2  3 von 5 Sternen 57% positiv in den letzten 12 ...   \n",
       "3  4,5 von 5 Sternen 86% positiv. (7 alle Bewertu...   \n",
       "4  4 von 5 Sternen 79% positiv. (39 alle Bewertun...   \n",
       "\n",
       "                                    products_details  offer_ranking  \\\n",
       "0  ['Lieferung erfolgt 6.-8. Juni. Weitere Inform...              1   \n",
       "1  ['Lieferung erfolgt 8.-13. Juni. Weitere Infor...              9   \n",
       "2  ['Lieferung erfolgt 13.-18. Juni. Weitere Info...              8   \n",
       "3  ['Lieferung erfolgt 15.-20. Juni. Weitere Info...              7   \n",
       "4  ['Lieferung erfolgt 8.-13. Juni. Weitere Infor...              6   \n",
       "\n",
       "  shipping_cost  is_global_store  is_prime  year  month  day  \n",
       "0      EUR 3,95            False     False  2018      5   31  \n",
       "1     EUR 17,90            False     False  2018      5   31  \n",
       "2     EUR 13,06            False     False  2018      5   31  \n",
       "3     EUR 10,00            False     False  2018      5   31  \n",
       "4     EUR 11,90            False     False  2018      5   31  "
      ]
     },
     "execution_count": 117,
     "metadata": {},
     "output_type": "execute_result"
    }
   ],
   "source": [
    "data.head()"
   ]
  },
  {
   "cell_type": "markdown",
   "metadata": {},
   "source": [
    "***"
   ]
  },
  {
   "cell_type": "markdown",
   "metadata": {},
   "source": [
    "On passe maintenant à la colonne **condition**"
   ]
  },
  {
   "cell_type": "code",
   "execution_count": 118,
   "metadata": {},
   "outputs": [
    {
     "data": {
      "text/plain": [
       "New                      197328\n",
       "Neu                      107691\n",
       "Neuf                     104396\n",
       "Nuevo                     70750\n",
       "Nuovo                     66957\n",
       "Certified Refurbished         7\n",
       "Name: condition, dtype: int64"
      ]
     },
     "execution_count": 118,
     "metadata": {},
     "output_type": "execute_result"
    }
   ],
   "source": [
    "data.condition.value_counts()"
   ]
  },
  {
   "cell_type": "markdown",
   "metadata": {},
   "source": [
    "On voit tous les articles sont neufs à l'exception de 7 d'entre eux. Cela pose la question de l'utilité de cette colonne étant donné qu'elle apporte peu d'informations et pourrait même générer de **l'overfitting** dans notre futur modèle. Néanmoins je la garde pour l'instant et reviendrai dessus quand j'utiliserai une **matrice de corrélation** pour vérifier l'impact de cette colonne. <br /><br /> Ici je choisis simplement de passer les offres neuves à 1 et les offres reconditionnées à 0."
   ]
  },
  {
   "cell_type": "code",
   "execution_count": 119,
   "metadata": {},
   "outputs": [],
   "source": [
    "liste_neuf = ['New','Neu','Neuf','Nuevo','Nuovo']\n",
    "liste_occasion =['Certified Refurbished']\n",
    "\n",
    "# On remplace les termes par 0 ou 1 en fonction de leur présence dans les listes ci-dessus\n",
    "data.loc[data.condition.isin(liste_neuf), 'condition'] = 1\n",
    "data.loc[data.condition.isin(liste_occasion), 'condition'] = 0"
   ]
  },
  {
   "cell_type": "code",
   "execution_count": 120,
   "metadata": {},
   "outputs": [
    {
     "data": {
      "text/plain": [
       "1    547122\n",
       "0         7\n",
       "Name: condition, dtype: int64"
      ]
     },
     "execution_count": 120,
     "metadata": {},
     "output_type": "execute_result"
    }
   ],
   "source": [
    "data.condition.value_counts()"
   ]
  },
  {
   "cell_type": "code",
   "execution_count": 121,
   "metadata": {},
   "outputs": [
    {
     "data": {
      "text/html": [
       "<div>\n",
       "<style scoped>\n",
       "    .dataframe tbody tr th:only-of-type {\n",
       "        vertical-align: middle;\n",
       "    }\n",
       "\n",
       "    .dataframe tbody tr th {\n",
       "        vertical-align: top;\n",
       "    }\n",
       "\n",
       "    .dataframe thead th {\n",
       "        text-align: right;\n",
       "    }\n",
       "</style>\n",
       "<table border=\"1\" class=\"dataframe\">\n",
       "  <thead>\n",
       "    <tr style=\"text-align: right;\">\n",
       "      <th></th>\n",
       "      <th>offer</th>\n",
       "      <th>price_currency</th>\n",
       "      <th>condition</th>\n",
       "      <th>seller_name</th>\n",
       "      <th>rating_text</th>\n",
       "      <th>products_details</th>\n",
       "      <th>offer_ranking</th>\n",
       "      <th>shipping_cost</th>\n",
       "      <th>is_global_store</th>\n",
       "      <th>is_prime</th>\n",
       "      <th>year</th>\n",
       "      <th>month</th>\n",
       "      <th>day</th>\n",
       "    </tr>\n",
       "  </thead>\n",
       "  <tbody>\n",
       "    <tr>\n",
       "      <th>0</th>\n",
       "      <td>7247</td>\n",
       "      <td>19.17</td>\n",
       "      <td>1</td>\n",
       "      <td>Die NaturApotheke</td>\n",
       "      <td>5 von 5 Sternen 98% positiv in den letzten 12 ...</td>\n",
       "      <td>['Lieferung erfolgt 6.-8. Juni. Weitere Inform...</td>\n",
       "      <td>1</td>\n",
       "      <td>EUR 3,95</td>\n",
       "      <td>False</td>\n",
       "      <td>False</td>\n",
       "      <td>2018</td>\n",
       "      <td>5</td>\n",
       "      <td>31</td>\n",
       "    </tr>\n",
       "    <tr>\n",
       "      <th>1</th>\n",
       "      <td>375109</td>\n",
       "      <td>17.50</td>\n",
       "      <td>1</td>\n",
       "      <td>PICCOLO</td>\n",
       "      <td>5 von 5 Sternen 100% positiv in den letzten 12...</td>\n",
       "      <td>['Lieferung erfolgt 8.-13. Juni. Weitere Infor...</td>\n",
       "      <td>9</td>\n",
       "      <td>EUR 17,90</td>\n",
       "      <td>False</td>\n",
       "      <td>False</td>\n",
       "      <td>2018</td>\n",
       "      <td>5</td>\n",
       "      <td>31</td>\n",
       "    </tr>\n",
       "    <tr>\n",
       "      <th>2</th>\n",
       "      <td>375109</td>\n",
       "      <td>20.09</td>\n",
       "      <td>1</td>\n",
       "      <td>Brikoland</td>\n",
       "      <td>3 von 5 Sternen 57% positiv in den letzten 12 ...</td>\n",
       "      <td>['Lieferung erfolgt 13.-18. Juni. Weitere Info...</td>\n",
       "      <td>8</td>\n",
       "      <td>EUR 13,06</td>\n",
       "      <td>False</td>\n",
       "      <td>False</td>\n",
       "      <td>2018</td>\n",
       "      <td>5</td>\n",
       "      <td>31</td>\n",
       "    </tr>\n",
       "    <tr>\n",
       "      <th>3</th>\n",
       "      <td>375109</td>\n",
       "      <td>22.90</td>\n",
       "      <td>1</td>\n",
       "      <td>Qualazampapetshop</td>\n",
       "      <td>4,5 von 5 Sternen 86% positiv. (7 alle Bewertu...</td>\n",
       "      <td>['Lieferung erfolgt 15.-20. Juni. Weitere Info...</td>\n",
       "      <td>7</td>\n",
       "      <td>EUR 10,00</td>\n",
       "      <td>False</td>\n",
       "      <td>False</td>\n",
       "      <td>2018</td>\n",
       "      <td>5</td>\n",
       "      <td>31</td>\n",
       "    </tr>\n",
       "    <tr>\n",
       "      <th>4</th>\n",
       "      <td>375109</td>\n",
       "      <td>20.34</td>\n",
       "      <td>1</td>\n",
       "      <td>Initpc</td>\n",
       "      <td>4 von 5 Sternen 79% positiv. (39 alle Bewertun...</td>\n",
       "      <td>['Lieferung erfolgt 8.-13. Juni. Weitere Infor...</td>\n",
       "      <td>6</td>\n",
       "      <td>EUR 11,90</td>\n",
       "      <td>False</td>\n",
       "      <td>False</td>\n",
       "      <td>2018</td>\n",
       "      <td>5</td>\n",
       "      <td>31</td>\n",
       "    </tr>\n",
       "  </tbody>\n",
       "</table>\n",
       "</div>"
      ],
      "text/plain": [
       "    offer  price_currency condition        seller_name  \\\n",
       "0    7247           19.17         1  Die NaturApotheke   \n",
       "1  375109           17.50         1            PICCOLO   \n",
       "2  375109           20.09         1          Brikoland   \n",
       "3  375109           22.90         1  Qualazampapetshop   \n",
       "4  375109           20.34         1             Initpc   \n",
       "\n",
       "                                         rating_text  \\\n",
       "0  5 von 5 Sternen 98% positiv in den letzten 12 ...   \n",
       "1  5 von 5 Sternen 100% positiv in den letzten 12...   \n",
       "2  3 von 5 Sternen 57% positiv in den letzten 12 ...   \n",
       "3  4,5 von 5 Sternen 86% positiv. (7 alle Bewertu...   \n",
       "4  4 von 5 Sternen 79% positiv. (39 alle Bewertun...   \n",
       "\n",
       "                                    products_details  offer_ranking  \\\n",
       "0  ['Lieferung erfolgt 6.-8. Juni. Weitere Inform...              1   \n",
       "1  ['Lieferung erfolgt 8.-13. Juni. Weitere Infor...              9   \n",
       "2  ['Lieferung erfolgt 13.-18. Juni. Weitere Info...              8   \n",
       "3  ['Lieferung erfolgt 15.-20. Juni. Weitere Info...              7   \n",
       "4  ['Lieferung erfolgt 8.-13. Juni. Weitere Infor...              6   \n",
       "\n",
       "  shipping_cost  is_global_store  is_prime  year  month  day  \n",
       "0      EUR 3,95            False     False  2018      5   31  \n",
       "1     EUR 17,90            False     False  2018      5   31  \n",
       "2     EUR 13,06            False     False  2018      5   31  \n",
       "3     EUR 10,00            False     False  2018      5   31  \n",
       "4     EUR 11,90            False     False  2018      5   31  "
      ]
     },
     "execution_count": 121,
     "metadata": {},
     "output_type": "execute_result"
    }
   ],
   "source": [
    "data.head()"
   ]
  },
  {
   "cell_type": "markdown",
   "metadata": {},
   "source": [
    "***"
   ]
  },
  {
   "cell_type": "markdown",
   "metadata": {},
   "source": [
    "Toujours pareil mais pour la colonne **seller_name** maintenant:"
   ]
  },
  {
   "cell_type": "code",
   "execution_count": 122,
   "metadata": {},
   "outputs": [
    {
     "data": {
      "text/plain": [
       "Stock Bureau Direct                                                                   16881\n",
       "PARADIS CONSO SAS                                                                      4234\n",
       "francejouet                                                                            3892\n",
       "Parkem Retail                                                                          3607\n",
       "nrsolutions                                                                            3436\n",
       "FreeShopping                                                                           3303\n",
       "E-COMMERCE EUROPE                                                                      3281\n",
       "AZBURO WORLD                                                                           3253\n",
       "Yeppon                                                                                 3076\n",
       "Initpc                                                                                 3021\n",
       "Office Marketplace                                                                     2975\n",
       "Widescreen Ltd                                                                         2685\n",
       "ibazar                                                                                 2618\n",
       "Compatinta Papeleria                                                                   2595\n",
       "TU BOULEVARD 365                                                                       2445\n",
       "Techosa International                                                                  2445\n",
       "limuno                                                                                 2431\n",
       "Amazon Global Store UK                                                                 2320\n",
       "Greens Pharmacy                                                                        2307\n",
       "NegozioElettrodomestici.it                                                             2218\n",
       "DaBaDú marKet                                                                          2134\n",
       "papeterie neveu                                                                        2003\n",
       "ZOOM ICI                                                                               1979\n",
       "TiendaTop                                                                              1961\n",
       "Nuevas Iniciativas Digitales                                                           1956\n",
       "LASTPRICE                                                                              1898\n",
       "L'Objet du Monde                                                                       1823\n",
       "priz24                                                                                 1815\n",
       "ma papeterie                                                                           1797\n",
       "OFITURIA                                                                               1769\n",
       "                                                                                      ...  \n",
       "TELESHOPPINGCENTER SOCIETE FRANCAISE                                                      1\n",
       "Hartes Department Store & Christmas Shop Blackpool                                        1\n",
       "IQ Frankenschaum                                                                          1\n",
       "EZI TRADING LTD                                                                           1\n",
       "Sonic Bargains                                                                            1\n",
       "Honest-Deals                                                                              1\n",
       "tianshengshop                                                                             1\n",
       "Super Duper                                                                               1\n",
       "POLKA WEB                                                                                 1\n",
       "SHERRY HENRICKSON                                                                         1\n",
       "Powerbuy24, Preise inkl. MwSt., Impressum und AGB finden Sie unter Verkäufer-Hilfe        1\n",
       "billy hefline                                                                             1\n",
       "GSC Toys (No envíos a Baleares)                                                           1\n",
       "jadeenterprises                                                                           1\n",
       "muskelando                                                                                1\n",
       "Erica Hogan                                                                               1\n",
       "Cash Converters North East                                                                1\n",
       "Sunvis Store- VAT Registered                                                              1\n",
       "Firatec - Markenqualität vom Fachhändler !!!                                              1\n",
       "NewHorizonElectronics                                                                     1\n",
       "GoPrice                                                                                   1\n",
       "CE Showroom                                                                               1\n",
       "OUTO UK (VAT Reg)                                                                         1\n",
       "BICIGRINO S.L                                                                             1\n",
       "CENTRO GIOCHI 2000                                                                        1\n",
       "tomeshiya lovett                                                                          1\n",
       "AWMF STORE                                                                                1\n",
       "salonservice                                                                              1\n",
       "Perfumería Esotérica Seven Keys                                                           1\n",
       "EzAccsUK                                                                                  1\n",
       "Name: seller_name, Length: 6607, dtype: int64"
      ]
     },
     "execution_count": 122,
     "metadata": {},
     "output_type": "execute_result"
    }
   ],
   "source": [
    "data.seller_name.value_counts()"
   ]
  },
  {
   "cell_type": "markdown",
   "metadata": {},
   "source": [
    "La première chose que je remarque ici est l'absence de Amazon en tant que vendeur qui est incohérent étant donné que je l'avais vu inscrit dans la colonne **buy_box_owner** au début de mon analyse. Je décide de regarder rapidement le fichier sous excel pour essayer de mieux comprendre."
   ]
  },
  {
  "cell_type": "markdown",
   "metadata": {
    "slideshow": {
     "slide_type": "slide"
    }
   },
   "source": [
    "Ouverture d'un URL.\n",
    "\n",
    "![Kernel & front-end diagram](Images/2.URL.png)"
   ]
  },
  {
   "cell_type": "markdown",
   "metadata": {},
   "source": [
    "Je vois que presque à chaque fois que la colonne **seller_name** est vide, le **buy_box_owner** contient Amazon. Ainsi je remplace l'ensemble des **seller_name** vident par 1 qui correspondra à Amazon et les autres vendeurs qui seront initialisés à 0."
   ]
  },
  {
   "cell_type": "markdown",
   "metadata": {},
   "source": [
    "<div class=\"alert alert-block alert-info\">\n",
    "    <b>Remarque:</b> Dans la partie suivante sur la colonne **seller_name** je fais une erreur que j'ai remarquée avoir fini mon analyse, l'ensemble des **seller_name** ne correspond pas toujours à Amazon. Je reviens dessus en détails à la fin de l'analyse dans la partie **Bilan**\n",
    "</div>"
   ]
  },
  {
   "cell_type": "code",
   "execution_count": 123,
   "metadata": {},
   "outputs": [
    {
     "data": {
      "text/plain": [
       "0    492025\n",
       "1     55148\n",
       "Name: seller_name, dtype: int64"
      ]
     },
     "execution_count": 123,
     "metadata": {},
     "output_type": "execute_result"
    }
   ],
   "source": [
    "# Change les NaN par Amazon\n",
    "data.seller_name.fillna('Amazon',inplace=True)\n",
    "\n",
    "# Remplace Amazon par 1 et le reste apr 0\n",
    "data.loc[(data.seller_name == 'Amazon' ),'seller_name']=1\n",
    "data.loc[(data.seller_name != 1 ),'seller_name']=0\n",
    "\n",
    "data.seller_name.value_counts()"
   ]
  },
  {
   "cell_type": "code",
   "execution_count": 124,
   "metadata": {},
   "outputs": [
    {
     "data": {
      "text/html": [
       "<div>\n",
       "<style scoped>\n",
       "    .dataframe tbody tr th:only-of-type {\n",
       "        vertical-align: middle;\n",
       "    }\n",
       "\n",
       "    .dataframe tbody tr th {\n",
       "        vertical-align: top;\n",
       "    }\n",
       "\n",
       "    .dataframe thead th {\n",
       "        text-align: right;\n",
       "    }\n",
       "</style>\n",
       "<table border=\"1\" class=\"dataframe\">\n",
       "  <thead>\n",
       "    <tr style=\"text-align: right;\">\n",
       "      <th></th>\n",
       "      <th>offer</th>\n",
       "      <th>price_currency</th>\n",
       "      <th>condition</th>\n",
       "      <th>seller_name</th>\n",
       "      <th>rating_text</th>\n",
       "      <th>products_details</th>\n",
       "      <th>offer_ranking</th>\n",
       "      <th>shipping_cost</th>\n",
       "      <th>is_global_store</th>\n",
       "      <th>is_prime</th>\n",
       "      <th>year</th>\n",
       "      <th>month</th>\n",
       "      <th>day</th>\n",
       "    </tr>\n",
       "  </thead>\n",
       "  <tbody>\n",
       "    <tr>\n",
       "      <th>0</th>\n",
       "      <td>7247</td>\n",
       "      <td>19.17</td>\n",
       "      <td>1</td>\n",
       "      <td>0</td>\n",
       "      <td>5 von 5 Sternen 98% positiv in den letzten 12 ...</td>\n",
       "      <td>['Lieferung erfolgt 6.-8. Juni. Weitere Inform...</td>\n",
       "      <td>1</td>\n",
       "      <td>EUR 3,95</td>\n",
       "      <td>False</td>\n",
       "      <td>False</td>\n",
       "      <td>2018</td>\n",
       "      <td>5</td>\n",
       "      <td>31</td>\n",
       "    </tr>\n",
       "    <tr>\n",
       "      <th>1</th>\n",
       "      <td>375109</td>\n",
       "      <td>17.50</td>\n",
       "      <td>1</td>\n",
       "      <td>0</td>\n",
       "      <td>5 von 5 Sternen 100% positiv in den letzten 12...</td>\n",
       "      <td>['Lieferung erfolgt 8.-13. Juni. Weitere Infor...</td>\n",
       "      <td>9</td>\n",
       "      <td>EUR 17,90</td>\n",
       "      <td>False</td>\n",
       "      <td>False</td>\n",
       "      <td>2018</td>\n",
       "      <td>5</td>\n",
       "      <td>31</td>\n",
       "    </tr>\n",
       "    <tr>\n",
       "      <th>2</th>\n",
       "      <td>375109</td>\n",
       "      <td>20.09</td>\n",
       "      <td>1</td>\n",
       "      <td>0</td>\n",
       "      <td>3 von 5 Sternen 57% positiv in den letzten 12 ...</td>\n",
       "      <td>['Lieferung erfolgt 13.-18. Juni. Weitere Info...</td>\n",
       "      <td>8</td>\n",
       "      <td>EUR 13,06</td>\n",
       "      <td>False</td>\n",
       "      <td>False</td>\n",
       "      <td>2018</td>\n",
       "      <td>5</td>\n",
       "      <td>31</td>\n",
       "    </tr>\n",
       "    <tr>\n",
       "      <th>3</th>\n",
       "      <td>375109</td>\n",
       "      <td>22.90</td>\n",
       "      <td>1</td>\n",
       "      <td>0</td>\n",
       "      <td>4,5 von 5 Sternen 86% positiv. (7 alle Bewertu...</td>\n",
       "      <td>['Lieferung erfolgt 15.-20. Juni. Weitere Info...</td>\n",
       "      <td>7</td>\n",
       "      <td>EUR 10,00</td>\n",
       "      <td>False</td>\n",
       "      <td>False</td>\n",
       "      <td>2018</td>\n",
       "      <td>5</td>\n",
       "      <td>31</td>\n",
       "    </tr>\n",
       "    <tr>\n",
       "      <th>4</th>\n",
       "      <td>375109</td>\n",
       "      <td>20.34</td>\n",
       "      <td>1</td>\n",
       "      <td>0</td>\n",
       "      <td>4 von 5 Sternen 79% positiv. (39 alle Bewertun...</td>\n",
       "      <td>['Lieferung erfolgt 8.-13. Juni. Weitere Infor...</td>\n",
       "      <td>6</td>\n",
       "      <td>EUR 11,90</td>\n",
       "      <td>False</td>\n",
       "      <td>False</td>\n",
       "      <td>2018</td>\n",
       "      <td>5</td>\n",
       "      <td>31</td>\n",
       "    </tr>\n",
       "  </tbody>\n",
       "</table>\n",
       "</div>"
      ],
      "text/plain": [
       "    offer  price_currency condition  seller_name  \\\n",
       "0    7247           19.17         1            0   \n",
       "1  375109           17.50         1            0   \n",
       "2  375109           20.09         1            0   \n",
       "3  375109           22.90         1            0   \n",
       "4  375109           20.34         1            0   \n",
       "\n",
       "                                         rating_text  \\\n",
       "0  5 von 5 Sternen 98% positiv in den letzten 12 ...   \n",
       "1  5 von 5 Sternen 100% positiv in den letzten 12...   \n",
       "2  3 von 5 Sternen 57% positiv in den letzten 12 ...   \n",
       "3  4,5 von 5 Sternen 86% positiv. (7 alle Bewertu...   \n",
       "4  4 von 5 Sternen 79% positiv. (39 alle Bewertun...   \n",
       "\n",
       "                                    products_details  offer_ranking  \\\n",
       "0  ['Lieferung erfolgt 6.-8. Juni. Weitere Inform...              1   \n",
       "1  ['Lieferung erfolgt 8.-13. Juni. Weitere Infor...              9   \n",
       "2  ['Lieferung erfolgt 13.-18. Juni. Weitere Info...              8   \n",
       "3  ['Lieferung erfolgt 15.-20. Juni. Weitere Info...              7   \n",
       "4  ['Lieferung erfolgt 8.-13. Juni. Weitere Infor...              6   \n",
       "\n",
       "  shipping_cost  is_global_store  is_prime  year  month  day  \n",
       "0      EUR 3,95            False     False  2018      5   31  \n",
       "1     EUR 17,90            False     False  2018      5   31  \n",
       "2     EUR 13,06            False     False  2018      5   31  \n",
       "3     EUR 10,00            False     False  2018      5   31  \n",
       "4     EUR 11,90            False     False  2018      5   31  "
      ]
     },
     "execution_count": 124,
     "metadata": {},
     "output_type": "execute_result"
    }
   ],
   "source": [
    "data.head()"
   ]
  },
  {
   "cell_type": "markdown",
   "metadata": {},
   "source": [
    "***"
   ]
  },
  {
   "cell_type": "markdown",
   "metadata": {},
   "source": [
    "Maintenant je m'intéresse à la colonne **rating_text**."
   ]
  },
  {
   "cell_type": "code",
   "execution_count": 125,
   "metadata": {},
   "outputs": [
    {
     "data": {
      "text/plain": [
       "None                                                                                        57427\n",
       "Neuer Verkäufer (Verkäuferprofil)                                                            5844\n",
       "Just Launched (Seller Profile)                                                               5670\n",
       "Nuevo vendedor (Perfil del vendedor)                                                         5564\n",
       "Nouveau Vendeur (Profil du vendeur)                                                          3447\n",
       "Nuovo venditore (Profilo del venditore)                                                      3092\n",
       "5 out of 5 stars 100% positive over the past 12 months. (1 total ratings)                    2553\n",
       "5 sur 5 étoiles 100% positif au cours des derniers 12 mois. (1 évaluations totales)          1785\n",
       "5 out of 5 stars 100% positive over the past 12 months. (2 total ratings)                    1729\n",
       "5 von 5 Sternen 100% positiv in den letzten 12 Monaten. (1 Bewertungen insgesamt)            1603\n",
       "4 sur 5 étoiles 80% positif au cours des derniers 12 mois. (5 évaluations totales)           1445\n",
       "4,5 sur 5 étoiles 88% positif au cours des derniers 12 mois. (56 évaluations totales)        1403\n",
       "4,5 von 5 Sternen 91% positiv in den letzten 12 Monaten. (157 Bewertungen insgesamt)         1333\n",
       "5 estrellas de 5 100% positivas en los últimos 12 meses. (1 valoraciones totales)            1260\n",
       "5 su 5 stelle 100% positivo negli ultimi 12 mesi. (1 valutazioni totali)                     1213\n",
       "2,5 sur 5 étoiles 33% positif au cours des derniers 12 mois. (3 évaluations totales)         1146\n",
       "5 estrellas de 5 100% positivas en los últimos 12 meses. (2 valoraciones totales)            1070\n",
       "4.5 out of 5 stars 83% positive. (6 total ratings)                                           1057\n",
       "4 sur 5 étoiles 100% positif au cours des derniers 12 mois. (2 évaluations totales)          1052\n",
       "3.5 out of 5 stars 65% positive. (34 total ratings)                                          1039\n",
       "4,5 von 5 Sternen 93% positiv. (30 alle Bewertungen)                                         1031\n",
       "5 von 5 Sternen 100% positiv in den letzten 12 Monaten. (3 Bewertungen insgesamt)            1012\n",
       "4 estrellas de 5 80% positivo. (10 valoraciones en total)                                    1001\n",
       "4 von 5 Sternen 79% positiv. (39 alle Bewertungen)                                            961\n",
       "4 out of 5 stars 78% positive. (9 total ratings)                                              958\n",
       "5 su 5 stelle 100% positivo. (7 valutazioni totali)                                           895\n",
       "4 su 5 stelle 75% positivo. (4 valutazioni totali)                                            894\n",
       "3.5 out of 5 stars 60% positive. (5 total ratings)                                            879\n",
       "4 sur 5 étoiles 78% positif au cours des derniers 12 mois. (1 471 évaluations totales)        878\n",
       "2,5 von 5 Sternen 33% positiv. (3 alle Bewertungen)                                           841\n",
       "                                                                                            ...  \n",
       "5 out of 5 stars 100% positive over the past 12 months. (2,488 total ratings)                   1\n",
       "4,5 von 5 Sternen 92% positiv in den letzten 12 Monaten. (210 Bewertungen insgesamt)            1\n",
       "4,5 sur 5 étoiles 87% positif au cours des derniers 12 mois. (438 évaluations totales)          1\n",
       "4.5 out of 5 stars 95% positive over the past 12 months. (5,435 total ratings)                  1\n",
       "4.5 out of 5 stars 95% positive over the past 12 months. (81,793 total ratings)                 1\n",
       "5 von 5 Sternen 97% positiv in den letzten 12 Monaten. (41.240 Bewertungen insgesamt)           1\n",
       "5 von 5 Sternen 99% positiv in den letzten 12 Monaten. (316 Bewertungen insgesamt)              1\n",
       "5 von 5 Sternen 96% positiv in den letzten 12 Monaten. (426 Bewertungen insgesamt)              1\n",
       "4.5 out of 5 stars 94% positive over the past 12 months. (27,529 total ratings)                 1\n",
       "5 out of 5 stars 98% positive over the past 12 months. (331,531 total ratings)                  1\n",
       "5 su 5 stelle 97% positivo negli ultimi 12 mesi. (847 valutazioni totali)                       1\n",
       "4,5 sur 5 étoiles 85% positif au cours des derniers 12 mois. (434 évaluations totales)          1\n",
       "4.5 out of 5 stars 90% positive over the past 12 months. (251 total ratings)                    1\n",
       "4.5 out of 5 stars 91% positive over the past 12 months. (3,160 total ratings)                  1\n",
       "4,5 su 5 stelle 88% positivo negli ultimi 12 mesi. (51 valutazioni totali)                      1\n",
       "4,5 von 5 Sternen 82% positiv in den letzten 12 Monaten. (435 Bewertungen insgesamt)            1\n",
       "5 estrellas de 5 100% positivas en los últimos 12 meses. (430 valoraciones totales)             1\n",
       "5 out of 5 stars 98% positive over the past 12 months. (246,244 total ratings)                  1\n",
       "4.5 out of 5 stars 79% positive over the past 12 months. (965 total ratings)                    1\n",
       "4,5 sur 5 étoiles 88% positif au cours des derniers 12 mois. (1 277 évaluations totales)        1\n",
       "4,5 su 5 stelle 93% positivo negli ultimi 12 mesi. (5.076 valutazioni totali)                   1\n",
       "4,5 von 5 Sternen 95% positiv in den letzten 12 Monaten. (2.124 Bewertungen insgesamt)          1\n",
       "5 su 5 stelle 98% positivo negli ultimi 12 mesi. (695 valutazioni totali)                       1\n",
       "4 estrellas de 5 88% positivo. (42 valoraciones en total)                                       1\n",
       "5 out of 5 stars 99% positive over the past 12 months. (1,762 total ratings)                    1\n",
       "4,5 von 5 Sternen 86% positiv in den letzten 12 Monaten. (7.813 Bewertungen insgesamt)          1\n",
       "4.5 out of 5 stars 95% positive over the past 12 months. (244,152 total ratings)                1\n",
       "5 von 5 Sternen 100% positiv in den letzten 12 Monaten. (1.084 Bewertungen insgesamt)           1\n",
       "5 sur 5 étoiles 96% positif au cours des derniers 12 mois. (11 089 évaluations totales)         1\n",
       "5 von 5 Sternen 97% positiv in den letzten 12 Monaten. (116.689 Bewertungen insgesamt)          1\n",
       "Name: rating_text, Length: 34192, dtype: int64"
      ]
     },
     "execution_count": 125,
     "metadata": {},
     "output_type": "execute_result"
    }
   ],
   "source": [
    "data.rating_text.value_counts()"
   ]
  },
  {
   "cell_type": "markdown",
   "metadata": {},
   "source": [
    "Je remarque plusieurs choses après avoir affiché certaines valeurs de cette colonne :\n",
    "\n",
    "- Il y a 57 427 valeurs à 'None'.\n",
    "\n",
    "- Le texte comporte une note sur 5.\n",
    "\n",
    "- Il y a un pourcentage qui correspond au nombre d'avis positif.\n",
    "\n",
    "- Le nombre total de notes est indiqué.\n",
    "    \n",
    "De ce fait, je vais pouvoir diviser cette colonne en 4 sous colonnes. "
   ]
  },
  {
   "cell_type": "markdown",
   "metadata": {},
   "source": [
    "Pour pallier le problème des valeurs à **None** je définis une colonne **has_rating** qui sera initialisé à 1 si l'offre possède une note et 0 dans le cas contraire."
   ]
  },
  {
   "cell_type": "code",
   "execution_count": 126,
   "metadata": {},
   "outputs": [],
   "source": [
    "def createHasRatingColumn(row):\n",
    "    \"\"\"\n",
    "    Retourne 0 si la valeur est égale à 'None', sinon retourne 1.\n",
    "    \"\"\"\n",
    "    \n",
    "    if row == 'None':\n",
    "        val = 0\n",
    "    else:\n",
    "        val = 1\n",
    "    \n",
    "    return val\n",
    "\n",
    "data['has_rating'] = data.rating_text.apply(createHasRatingColumn)"
   ]
  },
  {
   "cell_type": "markdown",
   "metadata": {},
   "source": [
    "On obtient 489 746 offres avec une note et 57 427 sans notes."
   ]
  },
  {
   "cell_type": "code",
   "execution_count": 127,
   "metadata": {},
   "outputs": [
    {
     "data": {
      "text/plain": [
       "1    489746\n",
       "0     57427\n",
       "Name: has_rating, dtype: int64"
      ]
     },
     "execution_count": 127,
     "metadata": {},
     "output_type": "execute_result"
    }
   ],
   "source": [
    "data.has_rating.value_counts()"
   ]
  },
  {
   "cell_type": "markdown",
   "metadata": {},
   "source": [
    "Chaque texte commence par un chiffre entre 0 ou 5. Seules les valeurs à **None** ne commencent pas par un chiffre. De ce fait je crée une nouvelle colonne **rating_mark** qui correspond à la note sur 5 de l'offre."
   ]
  },
  {
   "cell_type": "code",
   "execution_count": 128,
   "metadata": {},
   "outputs": [
    {
     "data": {
      "text/plain": [
       "0    5 von 5 Sternen 98% positiv in den letzten 12 ...\n",
       "1    5 von 5 Sternen 100% positiv in den letzten 12...\n",
       "2    3 von 5 Sternen 57% positiv in den letzten 12 ...\n",
       "3    4,5 von 5 Sternen 86% positiv. (7 alle Bewertu...\n",
       "4    4 von 5 Sternen 79% positiv. (39 alle Bewertun...\n",
       "Name: rating_text, dtype: object"
      ]
     },
     "execution_count": 128,
     "metadata": {},
     "output_type": "execute_result"
    }
   ],
   "source": [
    "data.rating_text.head()"
   ]
  },
  {
   "cell_type": "code",
   "execution_count": 129,
   "metadata": {},
   "outputs": [],
   "source": [
    "def createRatingMarkColumn(row):\n",
    "    \"\"\"\n",
    "    Retourne 0 si le premier caractère du paramètre n'est pas un chiffre, sinon retourne le 1 caractère de la chaîne en entrée.\n",
    "    \"\"\"\n",
    "    \n",
    "    #Pour détecter les lignes 'None'\n",
    "    if not row[0].isdigit():\n",
    "        val = 0\n",
    "    else:\n",
    "        val = float(row[0])\n",
    "    \n",
    "    return val\n",
    "\n",
    "data['rating_mark'] = data.rating_text.apply(createRatingMarkColumn)\n"
   ]
  },
  {
   "cell_type": "markdown",
   "metadata": {},
   "source": [
    "Création de la colonne **positive_percentage** qui contient le pourcentage de notes positives de l'offre. Pour cela on cherche le chiffre/nombre attaché au signe '%' puis on l'extrait."
   ]
  },
  {
   "cell_type": "code",
   "execution_count": 130,
   "metadata": {},
   "outputs": [],
   "source": [
    "def createPositiveAdviceRateColumn(row):   \n",
    "    \"\"\"\n",
    "    Retourne le nombre entre 0 et 100 avant le premier '%' dans une chaîne de caractères.\n",
    "    \"\"\"\n",
    "    \n",
    "    index = row.find('%')\n",
    "    \n",
    "    #Si le fichier ne contient pas de '%' index sera à -1 donc les offres sans pourcentage seront initialisées à 0.\n",
    "    if index==-1:\n",
    "        return -1\n",
    "    \n",
    "    #Nombre 100\n",
    "    elif row[index-3:index]== '100':  \n",
    "        return 100\n",
    "    \n",
    "    #Nombres à 2 digits\n",
    "    elif row[index-2]== ' ':\n",
    "        return int(row[index-1])\n",
    "    \n",
    "    #Chiffres\n",
    "    elif row[index-3]== ' ':\n",
    "        return int(row[index-2:index])\n",
    "\n",
    "data['positive_percentage'] = data.rating_text.apply(createPositiveAdviceRateColumn)"
   ]
  },
  {
   "cell_type": "markdown",
   "metadata": {},
   "source": [
    "Création de la colonne **number_of_rates** qui contient le nombre total de notes associées à l'offre. Le nombre de notes est toujours entre parathèse ce qui permettra de l'extraire plus simplement."
   ]
  },
  {
   "cell_type": "code",
   "execution_count": 131,
   "metadata": {},
   "outputs": [],
   "source": [
    "def hasNumbers(inputString):\n",
    "    \"\"\"\n",
    "    Retourne True si la chaîne possède au moins 1 chiffre, sinon retourne False.\n",
    "    \"\"\"\n",
    "    return any(char.isdigit() for char in inputString)\n",
    "\n",
    "\n",
    "def createRateNumbersColumn(row):\n",
    "    \"\"\"\n",
    "    Retourne le nombre après une parenthèse, sinon retourne 0 si le string n'a ni parenthèses ni nombres.\n",
    "    \"\"\"\n",
    "    \n",
    "    index = row.find('(')\n",
    "    \n",
    "    # Retourne 0 si le String ne contient pas de '(' ou de nombres.\n",
    "    if index==-1 or hasNumbers(row)==False:\n",
    "        return 0\n",
    "    \n",
    "    i = 1\n",
    "    \n",
    "    number=''\n",
    "    \n",
    "    special_char=['.',',']\n",
    "    \n",
    "    # Chaque nombre se termine par un espace, donc tant que je ne recontre pas d'espace je parcours la chaine de caractères.\n",
    "    while row[index+i]!=' ':\n",
    "        \n",
    "        # Des '.' ou ',' séparent parfois les milliers donc je passe au caractère suivant si je rencontre un des deux.\n",
    "        if row[index+i] in special_char:\n",
    "            i+=1\n",
    "            \n",
    "        # Si il s'agit d'un chiffre je l'ajoute à mon nombre.\n",
    "        else:\n",
    "            number = number+row[index+i]\n",
    "            i+=1\n",
    "    \n",
    "    return int(number)\n",
    "    \n",
    "        \n",
    "\n",
    "data['number_of_rates'] = data.rating_text.apply(createRateNumbersColumn)"
   ]
  },
  {
   "cell_type": "markdown",
   "metadata": {},
   "source": [
    "On a extrait tout ce que l'on souhaitait de la colonne**rating_text**, on peut donc la supprimer."
   ]
  },
  {
   "cell_type": "code",
   "execution_count": 132,
   "metadata": {},
   "outputs": [],
   "source": [
    "data = data.drop(['rating_text'], axis=1)"
   ]
  },
  {
   "cell_type": "code",
   "execution_count": 133,
   "metadata": {},
   "outputs": [
    {
     "data": {
      "text/html": [
       "<div>\n",
       "<style scoped>\n",
       "    .dataframe tbody tr th:only-of-type {\n",
       "        vertical-align: middle;\n",
       "    }\n",
       "\n",
       "    .dataframe tbody tr th {\n",
       "        vertical-align: top;\n",
       "    }\n",
       "\n",
       "    .dataframe thead th {\n",
       "        text-align: right;\n",
       "    }\n",
       "</style>\n",
       "<table border=\"1\" class=\"dataframe\">\n",
       "  <thead>\n",
       "    <tr style=\"text-align: right;\">\n",
       "      <th></th>\n",
       "      <th>offer</th>\n",
       "      <th>price_currency</th>\n",
       "      <th>condition</th>\n",
       "      <th>seller_name</th>\n",
       "      <th>products_details</th>\n",
       "      <th>offer_ranking</th>\n",
       "      <th>shipping_cost</th>\n",
       "      <th>is_global_store</th>\n",
       "      <th>is_prime</th>\n",
       "      <th>year</th>\n",
       "      <th>month</th>\n",
       "      <th>day</th>\n",
       "      <th>has_rating</th>\n",
       "      <th>rating_mark</th>\n",
       "      <th>positive_percentage</th>\n",
       "      <th>number_of_rates</th>\n",
       "    </tr>\n",
       "  </thead>\n",
       "  <tbody>\n",
       "    <tr>\n",
       "      <th>0</th>\n",
       "      <td>7247</td>\n",
       "      <td>19.17</td>\n",
       "      <td>1</td>\n",
       "      <td>0</td>\n",
       "      <td>['Lieferung erfolgt 6.-8. Juni. Weitere Inform...</td>\n",
       "      <td>1</td>\n",
       "      <td>EUR 3,95</td>\n",
       "      <td>False</td>\n",
       "      <td>False</td>\n",
       "      <td>2018</td>\n",
       "      <td>5</td>\n",
       "      <td>31</td>\n",
       "      <td>1</td>\n",
       "      <td>5.0</td>\n",
       "      <td>98</td>\n",
       "      <td>1876</td>\n",
       "    </tr>\n",
       "    <tr>\n",
       "      <th>1</th>\n",
       "      <td>375109</td>\n",
       "      <td>17.50</td>\n",
       "      <td>1</td>\n",
       "      <td>0</td>\n",
       "      <td>['Lieferung erfolgt 8.-13. Juni. Weitere Infor...</td>\n",
       "      <td>9</td>\n",
       "      <td>EUR 17,90</td>\n",
       "      <td>False</td>\n",
       "      <td>False</td>\n",
       "      <td>2018</td>\n",
       "      <td>5</td>\n",
       "      <td>31</td>\n",
       "      <td>1</td>\n",
       "      <td>5.0</td>\n",
       "      <td>100</td>\n",
       "      <td>1</td>\n",
       "    </tr>\n",
       "    <tr>\n",
       "      <th>2</th>\n",
       "      <td>375109</td>\n",
       "      <td>20.09</td>\n",
       "      <td>1</td>\n",
       "      <td>0</td>\n",
       "      <td>['Lieferung erfolgt 13.-18. Juni. Weitere Info...</td>\n",
       "      <td>8</td>\n",
       "      <td>EUR 13,06</td>\n",
       "      <td>False</td>\n",
       "      <td>False</td>\n",
       "      <td>2018</td>\n",
       "      <td>5</td>\n",
       "      <td>31</td>\n",
       "      <td>1</td>\n",
       "      <td>3.0</td>\n",
       "      <td>57</td>\n",
       "      <td>54</td>\n",
       "    </tr>\n",
       "    <tr>\n",
       "      <th>3</th>\n",
       "      <td>375109</td>\n",
       "      <td>22.90</td>\n",
       "      <td>1</td>\n",
       "      <td>0</td>\n",
       "      <td>['Lieferung erfolgt 15.-20. Juni. Weitere Info...</td>\n",
       "      <td>7</td>\n",
       "      <td>EUR 10,00</td>\n",
       "      <td>False</td>\n",
       "      <td>False</td>\n",
       "      <td>2018</td>\n",
       "      <td>5</td>\n",
       "      <td>31</td>\n",
       "      <td>1</td>\n",
       "      <td>4.0</td>\n",
       "      <td>86</td>\n",
       "      <td>7</td>\n",
       "    </tr>\n",
       "    <tr>\n",
       "      <th>4</th>\n",
       "      <td>375109</td>\n",
       "      <td>20.34</td>\n",
       "      <td>1</td>\n",
       "      <td>0</td>\n",
       "      <td>['Lieferung erfolgt 8.-13. Juni. Weitere Infor...</td>\n",
       "      <td>6</td>\n",
       "      <td>EUR 11,90</td>\n",
       "      <td>False</td>\n",
       "      <td>False</td>\n",
       "      <td>2018</td>\n",
       "      <td>5</td>\n",
       "      <td>31</td>\n",
       "      <td>1</td>\n",
       "      <td>4.0</td>\n",
       "      <td>79</td>\n",
       "      <td>39</td>\n",
       "    </tr>\n",
       "  </tbody>\n",
       "</table>\n",
       "</div>"
      ],
      "text/plain": [
       "    offer  price_currency condition  seller_name  \\\n",
       "0    7247           19.17         1            0   \n",
       "1  375109           17.50         1            0   \n",
       "2  375109           20.09         1            0   \n",
       "3  375109           22.90         1            0   \n",
       "4  375109           20.34         1            0   \n",
       "\n",
       "                                    products_details  offer_ranking  \\\n",
       "0  ['Lieferung erfolgt 6.-8. Juni. Weitere Inform...              1   \n",
       "1  ['Lieferung erfolgt 8.-13. Juni. Weitere Infor...              9   \n",
       "2  ['Lieferung erfolgt 13.-18. Juni. Weitere Info...              8   \n",
       "3  ['Lieferung erfolgt 15.-20. Juni. Weitere Info...              7   \n",
       "4  ['Lieferung erfolgt 8.-13. Juni. Weitere Infor...              6   \n",
       "\n",
       "  shipping_cost  is_global_store  is_prime  year  month  day  has_rating  \\\n",
       "0      EUR 3,95            False     False  2018      5   31           1   \n",
       "1     EUR 17,90            False     False  2018      5   31           1   \n",
       "2     EUR 13,06            False     False  2018      5   31           1   \n",
       "3     EUR 10,00            False     False  2018      5   31           1   \n",
       "4     EUR 11,90            False     False  2018      5   31           1   \n",
       "\n",
       "   rating_mark  positive_percentage  number_of_rates  \n",
       "0          5.0                   98             1876  \n",
       "1          5.0                  100                1  \n",
       "2          3.0                   57               54  \n",
       "3          4.0                   86                7  \n",
       "4          4.0                   79               39  "
      ]
     },
     "execution_count": 133,
     "metadata": {},
     "output_type": "execute_result"
    }
   ],
   "source": [
    "data.head()"
   ]
  },
  {
   "cell_type": "markdown",
   "metadata": {},
   "source": [
    "***"
   ]
  },
  {
   "cell_type": "markdown",
   "metadata": {},
   "source": [
    "On passe à une des dernières colonnes avec beaucoup d'informations : **products_details**"
   ]
  },
  {
   "cell_type": "code",
   "execution_count": 134,
   "metadata": {},
   "outputs": [
    {
     "data": {
      "text/plain": [
       "['In stock.', 'Dispatched from United Kingdom.', 'Delivery rates and return policy.']                                                                                                                                                                                                                                                                                                                                                                                                                                                                                   11167\n",
       "['Spedizione da: Italia.', 'Costi di spedizione e politica resi.']                                                                                                                                                                                                                                                                                                                                                                                                                                                                                                       7956\n",
       "['Get it as soon as 2-4 business days when you choose Priority Global Shipping at checkout.', 'Shipping rates and return policy.', 'International products are sold from abroad and may differ from local products, including fit, age ratings, and language of product, labeling or instructions.', 'Manufacturer warranty may not apply.', 'Local Customer Service and hassle free returns within 30 days.', 'All import customs duties and taxes included at the time of purchase.', 'Learn more about Amazon Global Store.']                                         2320\n",
       "['Lieferung erfolgt 4.-7. Juni. Weitere Informationen', 'Versand aus Deutschland', 'Versandtarife']                                                                                                                                                                                                                                                                                                                                                                                                                                                                      1982\n",
       "['Lieferung erfolgt 24.-26. Mai. Weitere Informationen', 'Versand aus Deutschland', 'Versandtarife']                                                                                                                                                                                                                                                                                                                                                                                                                                                                     1680\n",
       "['Lieferung erfolgt 19.-23. Mai. Weitere Informationen', 'Versand aus Deutschland', 'Versandtarife']                                                                                                                                                                                                                                                                                                                                                                                                                                                                     1649\n",
       "['Spedizione da: Francia.', 'Costi di spedizione e politica resi.']                                                                                                                                                                                                                                                                                                                                                                                                                                                                                                      1550\n",
       "['Lieferung erfolgt 1.-4. Juni. Weitere Informationen', 'Versand aus Deutschland', 'Versandtarife']                                                                                                                                                                                                                                                                                                                                                                                                                                                                      1499\n",
       "['Lieferung erfolgt 25.-28. Mai. Weitere Informationen', 'Versand aus Deutschland', 'Versandtarife']                                                                                                                                                                                                                                                                                                                                                                                                                                                                     1457\n",
       "['In stock.', 'Dispatched from Spain.', 'Delivery rates and return policy.']                                                                                                                                                                                                                                                                                                                                                                                                                                                                                             1437\n",
       "['Lieferung erfolgt 18.-22. Mai. Weitere Informationen', 'Versand aus Deutschland', 'Versandtarife']                                                                                                                                                                                                                                                                                                                                                                                                                                                                     1413\n",
       "['Arrives between May 31 - Jun. 2. Read more', 'Want delivery by Friday, 1 June? Choose Express Delivery at checkout.', 'Delivery rates and return policy.']                                                                                                                                                                                                                                                                                                                                                                                                             1390\n",
       "['In stock.', 'Dispatched from Italy.', 'Delivery rates and return policy.']                                                                                                                                                                                                                                                                                                                                                                                                                                                                                             1370\n",
       "['Arrives between Wed, May 16 - Thu, May 17. Read more', 'Want delivery by Wednesday, 16 May? Choose Express Delivery at checkout.', 'Delivery rates and return policy.']                                                                                                                                                                                                                                                                                                                                                                                                1340\n",
       "['Arrives between Thu, May 31 - Fri, Jun. 1. Read more', 'Want delivery by Thursday, 31 May? Choose Express Delivery at checkout.', 'Delivery rates and return policy.']                                                                                                                                                                                                                                                                                                                                                                                                 1328\n",
       "['Arrives between Wed, May 23 - Thu, May 24. Read more', 'Want delivery by Wednesday, 23 May? Choose Express Delivery at checkout.', 'Delivery rates and return policy.']                                                                                                                                                                                                                                                                                                                                                                                                1315\n",
       "['Lieferung erfolgt 26.-29. Mai. Weitere Informationen', 'Versand aus Deutschland', 'Versandtarife']                                                                                                                                                                                                                                                                                                                                                                                                                                                                     1295\n",
       "['Arrives between May 25-29. Read more', 'Want delivery by Saturday, 26 May? Choose Express Delivery at checkout.', 'Delivery rates and return policy.']                                                                                                                                                                                                                                                                                                                                                                                                                 1289\n",
       "['Arrives between Wed, May 23 - Fri, May 25. Read more', 'Want delivery by Thursday, 24 May? Choose Express Delivery at checkout.', 'Delivery rates and return policy.']                                                                                                                                                                                                                                                                                                                                                                                                 1288\n",
       "['Arrives between Sat, Jun. 2 - Tue, Jun. 5. Read more', 'Want delivery by Monday, 4 June? Choose Express Delivery at checkout.', 'Delivery rates and return policy.']                                                                                                                                                                                                                                                                                                                                                                                                   1282\n",
       "['Arrives between Wed, May 16 - Fri, May 18. Read more', 'Want delivery by Thursday, 17 May? Choose Express Delivery at checkout.', 'Delivery rates and return policy.']                                                                                                                                                                                                                                                                                                                                                                                                 1248\n",
       "['Arrives between Sat, May 19 - Tue, May 22. Read more', 'Want delivery by Monday, 21 May? Choose Express Delivery at checkout.', 'Delivery rates and return policy.']                                                                                                                                                                                                                                                                                                                                                                                                   1248\n",
       "['Lieferung erfolgt 12.-16. Mai. Weitere Informationen', 'Versand aus Deutschland', 'Versandtarife']                                                                                                                                                                                                                                                                                                                                                                                                                                                                     1219\n",
       "['Arrives between May 31 - Jun. 2. Read more', 'Dispatched from United Kingdom.', 'Delivery rates and return policy.']                                                                                                                                                                                                                                                                                                                                                                                                                                                   1213\n",
       "['Ankunft zwischen Mai 30 - Juni 2. Weitere Informationen', 'Versand aus Deutschland', 'Versandtarife']                                                                                                                                                                                                                                                                                                                                                                                                                                                                  1199\n",
       "['Lieferung erfolgt 2.-5. Juni. Weitere Informationen', 'Versand aus Deutschland', 'Versandtarife']                                                                                                                                                                                                                                                                                                                                                                                                                                                                      1199\n",
       "['Arrives between Thu, May 31 - Sat, Jun. 2. Read more', 'Want delivery by Friday, 1 June? Choose Express Delivery at checkout.', 'Delivery rates and return policy.']                                                                                                                                                                                                                                                                                                                                                                                                   1147\n",
       "['Arrives between Fri, Jun. 1 - Mon, Jun. 4. Read more', 'Want delivery by Saturday, 2 June? Choose Express Delivery at checkout.', 'Delivery rates and return policy.']                                                                                                                                                                                                                                                                                                                                                                                                 1121\n",
       "['Lieferung zwischen Donnerstag, Mai 24 - Samstag, Mai 26. Weitere Informationen', 'Versand aus Deutschland', 'Versandtarife']                                                                                                                                                                                                                                                                                                                                                                                                                                           1068\n",
       "['Costi di spedizione e politica resi.']                                                                                                                                                                                                                                                                                                                                                                                                                                                                                                                                 1042\n",
       "                                                                                                                                                                                                                                                                                                                                                                                                                                                                                                                                                                        ...  \n",
       "['Arrives between June 9-20. Read more', 'Dispatched from Portugal.', 'Delivery rates and return policy.']                                                                                                                                                                                                                                                                                                                                                                                                                                                                  1\n",
       "['In stock. Is usually dispatched within 4 - 5 working days.', 'Dispatched from Cyprus.', 'Delivery rates and return policy.']                                                                                                                                                                                                                                                                                                                                                                                                                                              1\n",
       "['Lieferung erfolgt 26.-30. Mai. Weitere Informationen', 'Lieferung bis Mittwoch, 23. Mai: Bestellen Sie in den nächsten , und wählen Sie an der Kasse 2-Tage-Versand. Siehe Details.', 'Versandtarife']                                                                                                                                                                                                                                                                                                                                                                    1\n",
       "['Livraison entre le 2 et le 12 juin. En lire plus', 'Expédié depuis Espagne.', \"Frais d'expédition et politique pour les retours.\"]                                                                                                                                                                                                                                                                                                                                                                                                                                        1\n",
       "['Arrives between May 15-31. Read more', 'Ships from NH, United States.', 'Shipping rates and return policy.']                                                                                                                                                                                                                                                                                                                                                                                                                                                              1\n",
       "['Arrives between May 19 - Jun. 8. Read more', 'Delivery rates and return policy.']                                                                                                                                                                                                                                                                                                                                                                                                                                                                                         1\n",
       "['Llega entre el 1 y el 11 de junio. Leer más', 'Se envía desde Dinamarca.', 'Tarifas de envío y política de devoluciones.']                                                                                                                                                                                                                                                                                                                                                                                                                                                1\n",
       "['Arrives between June 5-26. Read more', 'Ships from Germany. Learn more about import fees and international shipping time.', 'Shipping rates and return policy.']                                                                                                                                                                                                                                                                                                                                                                                                          1\n",
       "['Llega entre el 24 y el 31 de mayo. Leer más', 'Se envía desde España.', 'Tarifas de envío y política de devoluciones.']                                                                                                                                                                                                                                                                                                                                                                                                                                                   1\n",
       "['Dieser Artikel ist ab Juni 5 wieder erhältlich. Bestellen Sie jetzt Ihr Exemplar vor. Weitere Informationen', 'Versandtarife und Rücknahmerichtlinien.']                                                                                                                                                                                                                                                                                                                                                                                                                  1\n",
       "['Voulez-vous le faire livrer le jeudi 31 mai ? Ajoutez-le à une commande éligible dans les et choisissez la Livraison ce soir sur votre bon de commande. Voir les détails', 'Livraison planifiée disponible.', \"Frais d'expédition et politique pour les retours.\", \"Livraison gratuite en 1 jour ouvré sur des millions d'articles\", 'Accès prioritaire aux Ventes Flash éligibles', 'Stockage gratuit et illimité de vos photos dans le Cloud Drive Amazon', \"Empruntez un eBook Kindle par mois gratuitement parmi une sélection de plus de 1 million d'eBooks\"]        1\n",
       "['Arrives between June 6-9. Read more', 'Want delivery by Friday, 1 June? Choose One-Day Delivery at checkout.', 'Delivery rates and return policy.']                                                                                                                                                                                                                                                                                                                                                                                                                       1\n",
       "['Llega entre el 12 y el 16 de mayo. Leer más', 'Se envía desde Austria.', 'Tarifas de envío y política de devoluciones.']                                                                                                                                                                                                                                                                                                                                                                                                                                                  1\n",
       "['Arriva tra mag. 31 - giu. 14. Leggi altro', 'Spedizione da: Spagna.', 'Costi di spedizione e politica resi.']                                                                                                                                                                                                                                                                                                                                                                                                                                                             1\n",
       "['Vuoi la consegna garantita entro mercoledì 6 giugno? Ordinalo e scegli la spedizione 2 giorni. Dettagli', 'Costi di spedizione e politica resi.']                                                                                                                                                                                                                                                                                                                                                                                                                         1\n",
       "['Lieferung zwischen Donnerstag, Mai 17 - Samstag, Mai 19. Weitere Informationen', 'Versand aus Vereinigtes Königreich', 'Versandtarife']                                                                                                                                                                                                                                                                                                                                                                                                                                   1\n",
       "['Arriva tra maggio 16-28. Leggi altro', 'Spedizione da: Belgio.', 'Costi di spedizione e politica resi.']                                                                                                                                                                                                                                                                                                                                                                                                                                                                  1\n",
       "['Livraison entre le 4 et le 11 juin. En lire plus', 'Expédié depuis France.', \"Frais d'expédition et politique pour les retours.\"]                                                                                                                                                                                                                                                                                                                                                                                                                                         1\n",
       "['Arriva tra giugno 7-16. Leggi altro', 'Spedizione da: Cina. Maggiori informazioni sulla spedizione internazionale.', 'Costi di spedizione e politica resi.']                                                                                                                                                                                                                                                                                                                                                                                                              1\n",
       "['Arrives between May 22 - June 4. Read more', 'Ships from UT, United States.', 'Shipping rates and return policy.']                                                                                                                                                                                                                                                                                                                                                                                                                                                        1\n",
       "['Voulez-vous le faire livrer le mercredi 9 mai ? Commandez-le dans les et choisissez la Livraison en soirée sur votre bon de commande. Voir les détails', 'Livraison planifiée disponible.', \"Frais d'expédition et politique pour les retours.\", \"Livraison gratuite en 1 jour ouvré sur des millions d'articles\", 'Accès prioritaire aux Ventes Flash éligibles', 'Stockage gratuit et illimité de vos photos dans le Cloud Drive Amazon', \"Empruntez un eBook Kindle par mois gratuitement parmi une sélection de plus de 1 million d'eBooks\"]                          1\n",
       "['Arriva tra maggio 18-23. Leggi altro', 'Spedizione da: Austria.', 'Costi di spedizione e politica resi.']                                                                                                                                                                                                                                                                                                                                                                                                                                                                 1\n",
       "['Arrives between May 30 - June 14. Read more', 'Ships from WA, United States.', 'Shipping rates and return policy.']                                                                                                                                                                                                                                                                                                                                                                                                                                                       1\n",
       "['Arrives by Sat, May 19. Read more', 'Dispatched from United Kingdom.', 'Delivery rates and return policy.']                                                                                                                                                                                                                                                                                                                                                                                                                                                               1\n",
       "['Arriva tra giugno 9-18. Leggi altro', 'Vuoi la consegna garantita entro venerdì 15 giugno? Scegli Express alla cassa.', 'Costi di spedizione e politica resi.']                                                                                                                                                                                                                                                                                                                                                                                                           1\n",
       "['Arrives between May 10-17. Read more', 'Want it delivered Thursday, May 3? Choose Two-Day Shipping at checkout.', 'Shipping rates and return policy.']                                                                                                                                                                                                                                                                                                                                                                                                                    1\n",
       "['Arriva tra maggio 17-25. Leggi altro', 'Spedizione da: Belgio.', 'Costi di spedizione e politica resi.']                                                                                                                                                                                                                                                                                                                                                                                                                                                                  1\n",
       "['Arrives between June 5-7. Read more', 'Want it delivered Wednesday, June 6? Choose Expedited Shipping at checkout.', 'Shipping rates and return policy.']                                                                                                                                                                                                                                                                                                                                                                                                                 1\n",
       "['Estará disponible el mayo 30. Leer más', 'Tarifas de envío y política de devoluciones.']                                                                                                                                                                                                                                                                                                                                                                                                                                                                                  1\n",
       "['Llega entre el 29 de mayo y el 7 de jun. Leer más', 'Se envía desde Francia.', 'Tarifas de envío y política de devoluciones.']                                                                                                                                                                                                                                                                                                                                                                                                                                            1\n",
       "Name: products_details, Length: 15031, dtype: int64"
      ]
     },
     "execution_count": 134,
     "metadata": {},
     "output_type": "execute_result"
    }
   ],
   "source": [
    "data.products_details.value_counts()"
   ]
  },
  {
   "cell_type": "markdown",
   "metadata": {},
   "source": [
    "Je remarque que parmi cette masse d'informations il y a la **date d'estimation de livraison** or, comme je possède déjà la date de commande de l'offre (Les 3 colonnes **year**,**month** et **day**) je peux calculer une approximation du **temps de livraison de la commande**."
   ]
  },
  {
   "cell_type": "code",
   "execution_count": 135,
   "metadata": {},
   "outputs": [],
   "source": [
    "import re\n",
    "from math import *\n",
    "\n",
    "\n",
    "def createDeliveryLengthColumn(row):\n",
    "    \"\"\"\n",
    "    Retourne un entier qui correspond une approximation du temps de livraison en jour, retourne -1 si jamais l'offre \n",
    "    ne possède pas d'informations sur la date de livraison.\n",
    "    \"\"\"\n",
    "    \n",
    "    col_product_details = row['products_details']\n",
    "    col_day_commande = row['day']\n",
    "    \n",
    "    # Stock l'ensemble des nombres\n",
    "    temp = re.findall(r'\\b\\d+\\b', col_product_details)\n",
    "    \n",
    "    if len(temp)>=2:\n",
    "        number1 = int(temp[0])\n",
    "        number2= int(temp[1])\n",
    "        \n",
    "        arrival_time = floor(float((number2 + number1)/2))\n",
    "        \n",
    "        if col_day_commande < arrival_time:\n",
    "            shipping_length = arrival_time - col_day_commande\n",
    "            return int(shipping_length)\n",
    "        \n",
    "        elif col_day_commande >= arrival_time:\n",
    "            shipping_length = (31 - col_day_commande)+ arrival_time\n",
    "            return int(shipping_length)\n",
    "                 \n",
    "    else:\n",
    "        return -1\n",
    "    \n",
    "   \n",
    "       \n",
    "data['delivery_length'] = data.apply(createDeliveryLengthColumn, axis=1)"
   ]
  },
  {
   "cell_type": "markdown",
   "metadata": {},
   "source": [
    "<div class=\"alert alert-block alert-info\">\n",
    "    <b>Remarque:</b> Cette fonction comporte des erreurs qui  pénaliseront peu le résultat final mais dont je reviendrai plus en détails dans la partie Bilan\n",
    "</div>"
   ]
  },
  {
   "cell_type": "code",
   "execution_count": 136,
   "metadata": {},
   "outputs": [
    {
     "data": {
      "text/plain": [
       "-1      89566\n",
       " 4      46171\n",
       " 5      45155\n",
       " 8      38844\n",
       " 6      36659\n",
       " 9      31809\n",
       " 10     30669\n",
       " 11     23402\n",
       " 7      21345\n",
       " 12     20404\n",
       " 3      15746\n",
       " 13     15113\n",
       " 22     10558\n",
       " 14      9668\n",
       " 24      9603\n",
       " 25      8550\n",
       " 21      7933\n",
       " 23      7798\n",
       " 26      7683\n",
       " 27      7493\n",
       " 20      7409\n",
       " 15      7296\n",
       " 19      6394\n",
       " 18      5724\n",
       " 28      5483\n",
       " 30      4843\n",
       " 16      4559\n",
       " 1       4492\n",
       " 17      4474\n",
       " 29      4397\n",
       " 31      4151\n",
       " 2       3771\n",
       " 955        7\n",
       " 991        2\n",
       " 984        2\n",
       "Name: delivery_length, dtype: int64"
      ]
     },
     "execution_count": 136,
     "metadata": {},
     "output_type": "execute_result"
    }
   ],
   "source": [
    "data.delivery_length.value_counts()"
   ]
  },
  {
   "cell_type": "markdown",
   "metadata": {},
   "source": [
    "Je vois que j'ai 11 colonnes qui ont des valeurs supérieures à 31 ce qui est impossible. L'erreur vient du fait que je fais une approximation entre 2 valeurs puis je gère la transition entre les mois juste en soustrayant 31 à la date de commande alors qu'il y a des mois qui finissent au bout de 30 jours. <br /><br />\n",
    "\n",
    "Comme il s'agit d'uniquement 11 colonnes je décide de les supprimer pour gagner du temps."
   ]
  },
  {
   "cell_type": "code",
   "execution_count": 137,
   "metadata": {},
   "outputs": [],
   "source": [
    "data.loc[(data.delivery_length >31 ),'delivery_length']=-1"
   ]
  },
  {
   "cell_type": "code",
   "execution_count": 138,
   "metadata": {},
   "outputs": [
    {
     "data": {
      "text/plain": [
       "-1     89577\n",
       " 4     46171\n",
       " 5     45155\n",
       " 8     38844\n",
       " 6     36659\n",
       " 9     31809\n",
       " 10    30669\n",
       " 11    23402\n",
       " 7     21345\n",
       " 12    20404\n",
       " 3     15746\n",
       " 13    15113\n",
       " 22    10558\n",
       " 14     9668\n",
       " 24     9603\n",
       " 25     8550\n",
       " 21     7933\n",
       " 23     7798\n",
       " 26     7683\n",
       " 27     7493\n",
       " 20     7409\n",
       " 15     7296\n",
       " 19     6394\n",
       " 18     5724\n",
       " 28     5483\n",
       " 30     4843\n",
       " 16     4559\n",
       " 1      4492\n",
       " 17     4474\n",
       " 29     4397\n",
       " 31     4151\n",
       " 2      3771\n",
       "Name: delivery_length, dtype: int64"
      ]
     },
     "execution_count": 138,
     "metadata": {},
     "output_type": "execute_result"
    }
   ],
   "source": [
    "data.delivery_length.value_counts()"
   ]
  },
  {
   "cell_type": "markdown",
   "metadata": {},
   "source": [
    "On supprime la colonne **products_details**"
   ]
  },
  {
   "cell_type": "code",
   "execution_count": 139,
   "metadata": {},
   "outputs": [
    {
     "data": {
      "text/html": [
       "<div>\n",
       "<style scoped>\n",
       "    .dataframe tbody tr th:only-of-type {\n",
       "        vertical-align: middle;\n",
       "    }\n",
       "\n",
       "    .dataframe tbody tr th {\n",
       "        vertical-align: top;\n",
       "    }\n",
       "\n",
       "    .dataframe thead th {\n",
       "        text-align: right;\n",
       "    }\n",
       "</style>\n",
       "<table border=\"1\" class=\"dataframe\">\n",
       "  <thead>\n",
       "    <tr style=\"text-align: right;\">\n",
       "      <th></th>\n",
       "      <th>offer</th>\n",
       "      <th>price_currency</th>\n",
       "      <th>condition</th>\n",
       "      <th>seller_name</th>\n",
       "      <th>offer_ranking</th>\n",
       "      <th>shipping_cost</th>\n",
       "      <th>is_global_store</th>\n",
       "      <th>is_prime</th>\n",
       "      <th>year</th>\n",
       "      <th>month</th>\n",
       "      <th>day</th>\n",
       "      <th>has_rating</th>\n",
       "      <th>rating_mark</th>\n",
       "      <th>positive_percentage</th>\n",
       "      <th>number_of_rates</th>\n",
       "      <th>delivery_length</th>\n",
       "    </tr>\n",
       "  </thead>\n",
       "  <tbody>\n",
       "    <tr>\n",
       "      <th>0</th>\n",
       "      <td>7247</td>\n",
       "      <td>19.17</td>\n",
       "      <td>1</td>\n",
       "      <td>0</td>\n",
       "      <td>1</td>\n",
       "      <td>EUR 3,95</td>\n",
       "      <td>False</td>\n",
       "      <td>False</td>\n",
       "      <td>2018</td>\n",
       "      <td>5</td>\n",
       "      <td>31</td>\n",
       "      <td>1</td>\n",
       "      <td>5.0</td>\n",
       "      <td>98</td>\n",
       "      <td>1876</td>\n",
       "      <td>7</td>\n",
       "    </tr>\n",
       "    <tr>\n",
       "      <th>1</th>\n",
       "      <td>375109</td>\n",
       "      <td>17.50</td>\n",
       "      <td>1</td>\n",
       "      <td>0</td>\n",
       "      <td>9</td>\n",
       "      <td>EUR 17,90</td>\n",
       "      <td>False</td>\n",
       "      <td>False</td>\n",
       "      <td>2018</td>\n",
       "      <td>5</td>\n",
       "      <td>31</td>\n",
       "      <td>1</td>\n",
       "      <td>5.0</td>\n",
       "      <td>100</td>\n",
       "      <td>1</td>\n",
       "      <td>10</td>\n",
       "    </tr>\n",
       "    <tr>\n",
       "      <th>2</th>\n",
       "      <td>375109</td>\n",
       "      <td>20.09</td>\n",
       "      <td>1</td>\n",
       "      <td>0</td>\n",
       "      <td>8</td>\n",
       "      <td>EUR 13,06</td>\n",
       "      <td>False</td>\n",
       "      <td>False</td>\n",
       "      <td>2018</td>\n",
       "      <td>5</td>\n",
       "      <td>31</td>\n",
       "      <td>1</td>\n",
       "      <td>3.0</td>\n",
       "      <td>57</td>\n",
       "      <td>54</td>\n",
       "      <td>15</td>\n",
       "    </tr>\n",
       "    <tr>\n",
       "      <th>3</th>\n",
       "      <td>375109</td>\n",
       "      <td>22.90</td>\n",
       "      <td>1</td>\n",
       "      <td>0</td>\n",
       "      <td>7</td>\n",
       "      <td>EUR 10,00</td>\n",
       "      <td>False</td>\n",
       "      <td>False</td>\n",
       "      <td>2018</td>\n",
       "      <td>5</td>\n",
       "      <td>31</td>\n",
       "      <td>1</td>\n",
       "      <td>4.0</td>\n",
       "      <td>86</td>\n",
       "      <td>7</td>\n",
       "      <td>17</td>\n",
       "    </tr>\n",
       "    <tr>\n",
       "      <th>4</th>\n",
       "      <td>375109</td>\n",
       "      <td>20.34</td>\n",
       "      <td>1</td>\n",
       "      <td>0</td>\n",
       "      <td>6</td>\n",
       "      <td>EUR 11,90</td>\n",
       "      <td>False</td>\n",
       "      <td>False</td>\n",
       "      <td>2018</td>\n",
       "      <td>5</td>\n",
       "      <td>31</td>\n",
       "      <td>1</td>\n",
       "      <td>4.0</td>\n",
       "      <td>79</td>\n",
       "      <td>39</td>\n",
       "      <td>10</td>\n",
       "    </tr>\n",
       "  </tbody>\n",
       "</table>\n",
       "</div>"
      ],
      "text/plain": [
       "    offer  price_currency condition  seller_name  offer_ranking shipping_cost  \\\n",
       "0    7247           19.17         1            0              1      EUR 3,95   \n",
       "1  375109           17.50         1            0              9     EUR 17,90   \n",
       "2  375109           20.09         1            0              8     EUR 13,06   \n",
       "3  375109           22.90         1            0              7     EUR 10,00   \n",
       "4  375109           20.34         1            0              6     EUR 11,90   \n",
       "\n",
       "   is_global_store  is_prime  year  month  day  has_rating  rating_mark  \\\n",
       "0            False     False  2018      5   31           1          5.0   \n",
       "1            False     False  2018      5   31           1          5.0   \n",
       "2            False     False  2018      5   31           1          3.0   \n",
       "3            False     False  2018      5   31           1          4.0   \n",
       "4            False     False  2018      5   31           1          4.0   \n",
       "\n",
       "   positive_percentage  number_of_rates  delivery_length  \n",
       "0                   98             1876                7  \n",
       "1                  100                1               10  \n",
       "2                   57               54               15  \n",
       "3                   86                7               17  \n",
       "4                   79               39               10  "
      ]
     },
     "execution_count": 139,
     "metadata": {},
     "output_type": "execute_result"
    }
   ],
   "source": [
    "data = data.drop(['products_details'], axis=1)\n",
    "\n",
    "data.head()"
   ]
  },
  {
   "cell_type": "markdown",
   "metadata": {},
   "source": [
    "***"
   ]
  },
  {
   "cell_type": "markdown",
   "metadata": {},
   "source": [
    "On finit avec la colonne **shipping_cost** :"
   ]
  },
  {
   "cell_type": "code",
   "execution_count": 140,
   "metadata": {},
   "outputs": [
    {
     "data": {
      "text/plain": [
       "None         258082\n",
       "EUR 2,99      11895\n",
       "EUR 3,00       8801\n",
       "£2.99          6299\n",
       "EUR 3,99       6089\n",
       "EUR 10,00      4414\n",
       "EUR 4,99       4292\n",
       "EUR 7,00       3671\n",
       "EUR 5,99       3246\n",
       "EUR 30,00      3077\n",
       "EUR 4,50       2939\n",
       "EUR 15,00      2909\n",
       "EUR 9,99       2898\n",
       "EUR 14,99      2671\n",
       "EUR 6,90       2628\n",
       "EUR 6,99       2537\n",
       "EUR 12,00      2499\n",
       "EUR 3,50       2403\n",
       "EUR 3,95       2397\n",
       "EUR 3,90       2343\n",
       "EUR 7,50       2171\n",
       "EUR 8,90       2151\n",
       "$3.99          2144\n",
       "£5.40          2066\n",
       "EUR 7,99       2028\n",
       "EUR 15,18      1947\n",
       "EUR 10,90      1921\n",
       "£3.99          1873\n",
       "EUR 13,00      1826\n",
       "EUR 9,90       1807\n",
       "              ...  \n",
       "£21.50            1\n",
       "EUR 23,32         1\n",
       "EUR 17,37         1\n",
       "EUR 13,28         1\n",
       "EUR 7,45          1\n",
       "£6.19             1\n",
       "£33.89            1\n",
       "£10.83            1\n",
       "£13.85            1\n",
       "EUR 15,51         1\n",
       "EUR 21,07         1\n",
       "EUR 16,16         1\n",
       "£16.58            1\n",
       "EUR 11,71         1\n",
       "EUR 34,26         1\n",
       "£11.35            1\n",
       "£22.64            1\n",
       "$16.18            1\n",
       "EUR 4,41          1\n",
       "£4.41             1\n",
       "EUR 19,23         1\n",
       "EUR 25,20         1\n",
       "£5.93             1\n",
       "$4.15             1\n",
       "EUR 1,86          1\n",
       "£5.31             1\n",
       "EUR 32,97         1\n",
       "EUR 4,77          1\n",
       "EUR 96,00         1\n",
       "EUR 66,20         1\n",
       "Name: shipping_cost, Length: 3387, dtype: int64"
      ]
     },
     "execution_count": 140,
     "metadata": {},
     "output_type": "execute_result"
    }
   ],
   "source": [
    "data.shipping_cost.value_counts()"
   ]
  },
  {
   "cell_type": "markdown",
   "metadata": {},
   "source": [
    "La colonne **shipping_cost** est au même format que **price_currency** je peux donc réutiliser ma fonction **changeCurrency()** pour uniformiser la colonne."
   ]
  },
  {
   "cell_type": "code",
   "execution_count": 141,
   "metadata": {},
   "outputs": [],
   "source": [
    "data['shipping_cost'] = data.shipping_cost.apply(changeCurrency)"
   ]
  },
  {
   "cell_type": "code",
   "execution_count": 142,
   "metadata": {},
   "outputs": [
    {
     "data": {
      "text/plain": [
       "None                  258082\n",
       "2.99                   11895\n",
       "3.0                     8801\n",
       "3.4684                  6299\n",
       "3.99                    6089\n",
       "10.0                    4414\n",
       "4.99                    4292\n",
       "7.0                     3671\n",
       "5.99                    3246\n",
       "30.0                    3077\n",
       "4.5                     2953\n",
       "15.0                    2909\n",
       "9.99                    2898\n",
       "14.99                   2671\n",
       "6.9                     2628\n",
       "6.99                    2537\n",
       "12.0                    2499\n",
       "3.5                     2403\n",
       "3.95                    2397\n",
       "3.9                     2343\n",
       "7.5                     2171\n",
       "8.9                     2151\n",
       "3.591                   2144\n",
       "6.264                   2070\n",
       "7.99                    2028\n",
       "15.18                   1947\n",
       "10.9                    1921\n",
       "4.6284                  1873\n",
       "13.0                    1826\n",
       "9.9                     1807\n",
       "                       ...  \n",
       "20.47                      1\n",
       "1.746                      1\n",
       "41.06399999999999          1\n",
       "0.16                       1\n",
       "10.567599999999999         1\n",
       "28.24                      1\n",
       "9.42                       1\n",
       "7.8068                     1\n",
       "12.5628                    1\n",
       "20.926399999999997         1\n",
       "10.74                      1\n",
       "13.676399999999997         1\n",
       "2.9250000000000003         1\n",
       "11.5768                    1\n",
       "17.33                      1\n",
       "10.72                      1\n",
       "16.066                     1\n",
       "26.71                      1\n",
       "25.63                      1\n",
       "29.38                      1\n",
       "30.19                      1\n",
       "19.96                      1\n",
       "16.46                      1\n",
       "5.8812                     1\n",
       "21.6224                    1\n",
       "7.28                       1\n",
       "28.74                      1\n",
       "31.28                      1\n",
       "26.99                      1\n",
       "6.612                      1\n",
       "Name: shipping_cost, Length: 3313, dtype: int64"
      ]
     },
     "execution_count": 142,
     "metadata": {},
     "output_type": "execute_result"
    }
   ],
   "source": [
    "data.shipping_cost.value_counts()"
   ]
  },
  {
   "cell_type": "markdown",
   "metadata": {},
   "source": [
    "Les valeurs à **None** représentent les livraisons gratuites/offertes, je les initialise donc à 0."
   ]
  },
  {
   "cell_type": "code",
   "execution_count": 143,
   "metadata": {},
   "outputs": [],
   "source": [
    "data.loc[(data.shipping_cost =='None' ),'shipping_cost']=0"
   ]
  },
  {
   "cell_type": "code",
   "execution_count": 144,
   "metadata": {},
   "outputs": [
    {
     "data": {
      "text/plain": [
       "0.0000     258082\n",
       "2.9900      11895\n",
       "3.0000       8801\n",
       "3.4684       6299\n",
       "3.9900       6089\n",
       "10.0000      4414\n",
       "4.9900       4292\n",
       "7.0000       3671\n",
       "5.9900       3246\n",
       "30.0000      3077\n",
       "4.5000       2953\n",
       "15.0000      2909\n",
       "9.9900       2898\n",
       "14.9900      2671\n",
       "6.9000       2628\n",
       "6.9900       2537\n",
       "12.0000      2499\n",
       "3.5000       2403\n",
       "3.9500       2397\n",
       "3.9000       2343\n",
       "7.5000       2171\n",
       "8.9000       2151\n",
       "3.5910       2144\n",
       "6.2640       2070\n",
       "7.9900       2028\n",
       "15.1800      1947\n",
       "10.9000      1921\n",
       "4.6284       1873\n",
       "13.0000      1826\n",
       "9.9000       1807\n",
       "            ...  \n",
       "18.0496         1\n",
       "19.2300         1\n",
       "27.7000         1\n",
       "0.1600          1\n",
       "8.0388          1\n",
       "17.2900         1\n",
       "6.8092          1\n",
       "5.8696          1\n",
       "14.6300         1\n",
       "15.6600         1\n",
       "17.1600         1\n",
       "8.1270          1\n",
       "16.7100         1\n",
       "9.8000          1\n",
       "5.4270          1\n",
       "12.4500         1\n",
       "12.3656         1\n",
       "6.5520          1\n",
       "30.9100         1\n",
       "5.0576          1\n",
       "29.4100         1\n",
       "16.5900         1\n",
       "17.3000         1\n",
       "18.8000         1\n",
       "5.0130          1\n",
       "13.4500         1\n",
       "16.1600         1\n",
       "2.9520          1\n",
       "14.4100         1\n",
       "7.4500          1\n",
       "Name: shipping_cost, Length: 3313, dtype: int64"
      ]
     },
     "execution_count": 144,
     "metadata": {},
     "output_type": "execute_result"
    }
   ],
   "source": [
    "data.shipping_cost.value_counts()"
   ]
  },
  {
   "cell_type": "code",
   "execution_count": 145,
   "metadata": {},
   "outputs": [
    {
     "data": {
      "text/html": [
       "<div>\n",
       "<style scoped>\n",
       "    .dataframe tbody tr th:only-of-type {\n",
       "        vertical-align: middle;\n",
       "    }\n",
       "\n",
       "    .dataframe tbody tr th {\n",
       "        vertical-align: top;\n",
       "    }\n",
       "\n",
       "    .dataframe thead th {\n",
       "        text-align: right;\n",
       "    }\n",
       "</style>\n",
       "<table border=\"1\" class=\"dataframe\">\n",
       "  <thead>\n",
       "    <tr style=\"text-align: right;\">\n",
       "      <th></th>\n",
       "      <th>offer</th>\n",
       "      <th>price_currency</th>\n",
       "      <th>condition</th>\n",
       "      <th>seller_name</th>\n",
       "      <th>offer_ranking</th>\n",
       "      <th>shipping_cost</th>\n",
       "      <th>is_global_store</th>\n",
       "      <th>is_prime</th>\n",
       "      <th>year</th>\n",
       "      <th>month</th>\n",
       "      <th>day</th>\n",
       "      <th>has_rating</th>\n",
       "      <th>rating_mark</th>\n",
       "      <th>positive_percentage</th>\n",
       "      <th>number_of_rates</th>\n",
       "      <th>delivery_length</th>\n",
       "    </tr>\n",
       "  </thead>\n",
       "  <tbody>\n",
       "    <tr>\n",
       "      <th>0</th>\n",
       "      <td>7247</td>\n",
       "      <td>19.17</td>\n",
       "      <td>1</td>\n",
       "      <td>0</td>\n",
       "      <td>1</td>\n",
       "      <td>3.95</td>\n",
       "      <td>False</td>\n",
       "      <td>False</td>\n",
       "      <td>2018</td>\n",
       "      <td>5</td>\n",
       "      <td>31</td>\n",
       "      <td>1</td>\n",
       "      <td>5.0</td>\n",
       "      <td>98</td>\n",
       "      <td>1876</td>\n",
       "      <td>7</td>\n",
       "    </tr>\n",
       "    <tr>\n",
       "      <th>1</th>\n",
       "      <td>375109</td>\n",
       "      <td>17.50</td>\n",
       "      <td>1</td>\n",
       "      <td>0</td>\n",
       "      <td>9</td>\n",
       "      <td>17.9</td>\n",
       "      <td>False</td>\n",
       "      <td>False</td>\n",
       "      <td>2018</td>\n",
       "      <td>5</td>\n",
       "      <td>31</td>\n",
       "      <td>1</td>\n",
       "      <td>5.0</td>\n",
       "      <td>100</td>\n",
       "      <td>1</td>\n",
       "      <td>10</td>\n",
       "    </tr>\n",
       "    <tr>\n",
       "      <th>2</th>\n",
       "      <td>375109</td>\n",
       "      <td>20.09</td>\n",
       "      <td>1</td>\n",
       "      <td>0</td>\n",
       "      <td>8</td>\n",
       "      <td>13.06</td>\n",
       "      <td>False</td>\n",
       "      <td>False</td>\n",
       "      <td>2018</td>\n",
       "      <td>5</td>\n",
       "      <td>31</td>\n",
       "      <td>1</td>\n",
       "      <td>3.0</td>\n",
       "      <td>57</td>\n",
       "      <td>54</td>\n",
       "      <td>15</td>\n",
       "    </tr>\n",
       "    <tr>\n",
       "      <th>3</th>\n",
       "      <td>375109</td>\n",
       "      <td>22.90</td>\n",
       "      <td>1</td>\n",
       "      <td>0</td>\n",
       "      <td>7</td>\n",
       "      <td>10</td>\n",
       "      <td>False</td>\n",
       "      <td>False</td>\n",
       "      <td>2018</td>\n",
       "      <td>5</td>\n",
       "      <td>31</td>\n",
       "      <td>1</td>\n",
       "      <td>4.0</td>\n",
       "      <td>86</td>\n",
       "      <td>7</td>\n",
       "      <td>17</td>\n",
       "    </tr>\n",
       "    <tr>\n",
       "      <th>4</th>\n",
       "      <td>375109</td>\n",
       "      <td>20.34</td>\n",
       "      <td>1</td>\n",
       "      <td>0</td>\n",
       "      <td>6</td>\n",
       "      <td>11.9</td>\n",
       "      <td>False</td>\n",
       "      <td>False</td>\n",
       "      <td>2018</td>\n",
       "      <td>5</td>\n",
       "      <td>31</td>\n",
       "      <td>1</td>\n",
       "      <td>4.0</td>\n",
       "      <td>79</td>\n",
       "      <td>39</td>\n",
       "      <td>10</td>\n",
       "    </tr>\n",
       "  </tbody>\n",
       "</table>\n",
       "</div>"
      ],
      "text/plain": [
       "    offer  price_currency condition  seller_name  offer_ranking shipping_cost  \\\n",
       "0    7247           19.17         1            0              1          3.95   \n",
       "1  375109           17.50         1            0              9          17.9   \n",
       "2  375109           20.09         1            0              8         13.06   \n",
       "3  375109           22.90         1            0              7            10   \n",
       "4  375109           20.34         1            0              6          11.9   \n",
       "\n",
       "   is_global_store  is_prime  year  month  day  has_rating  rating_mark  \\\n",
       "0            False     False  2018      5   31           1          5.0   \n",
       "1            False     False  2018      5   31           1          5.0   \n",
       "2            False     False  2018      5   31           1          3.0   \n",
       "3            False     False  2018      5   31           1          4.0   \n",
       "4            False     False  2018      5   31           1          4.0   \n",
       "\n",
       "   positive_percentage  number_of_rates  delivery_length  \n",
       "0                   98             1876                7  \n",
       "1                  100                1               10  \n",
       "2                   57               54               15  \n",
       "3                   86                7               17  \n",
       "4                   79               39               10  "
      ]
     },
     "execution_count": 145,
     "metadata": {},
     "output_type": "execute_result"
    }
   ],
   "source": [
    "data.head()"
   ]
  },
  {
   "cell_type": "markdown",
   "metadata": {},
   "source": [
    "***"
   ]
  },
  {
   "cell_type": "code",
   "execution_count": 146,
   "metadata": {},
   "outputs": [
    {
     "data": {
      "text/plain": [
       "offer                    int64\n",
       "price_currency         float64\n",
       "condition               object\n",
       "seller_name              int64\n",
       "offer_ranking            int64\n",
       "shipping_cost           object\n",
       "is_global_store           bool\n",
       "is_prime                  bool\n",
       "year                     int64\n",
       "month                    int64\n",
       "day                      int64\n",
       "has_rating               int64\n",
       "rating_mark            float64\n",
       "positive_percentage      int64\n",
       "number_of_rates          int64\n",
       "delivery_length          int64\n",
       "dtype: object"
      ]
     },
     "execution_count": 146,
     "metadata": {},
     "output_type": "execute_result"
    }
   ],
   "source": [
    "data.dtypes"
   ]
  },
  {
   "cell_type": "markdown",
   "metadata": {},
   "source": [
    "Toutes les colonnes sont exploitables à l'exception de **condition** et **shipping_cost** que j'avais laissé en type **object**. Je change les deux colonnes en **Boolean** et **Float** pour pouvoir les utiliser."
   ]
  },
  {
   "cell_type": "code",
   "execution_count": 147,
   "metadata": {},
   "outputs": [],
   "source": [
    "data['shipping_cost']= data['shipping_cost'].astype(str).astype(float)\n",
    "data['condition']= data['condition'].astype(bool)"
   ]
  },
  {
   "cell_type": "code",
   "execution_count": 148,
   "metadata": {},
   "outputs": [
    {
     "data": {
      "text/plain": [
       "offer                    int64\n",
       "price_currency         float64\n",
       "condition                 bool\n",
       "seller_name              int64\n",
       "offer_ranking            int64\n",
       "shipping_cost          float64\n",
       "is_global_store           bool\n",
       "is_prime                  bool\n",
       "year                     int64\n",
       "month                    int64\n",
       "day                      int64\n",
       "has_rating               int64\n",
       "rating_mark            float64\n",
       "positive_percentage      int64\n",
       "number_of_rates          int64\n",
       "delivery_length          int64\n",
       "dtype: object"
      ]
     },
     "execution_count": 148,
     "metadata": {},
     "output_type": "execute_result"
    }
   ],
   "source": [
    "data.dtypes"
   ]
  },
  {
   "cell_type": "code",
   "execution_count": 149,
   "metadata": {},
   "outputs": [
    {
     "data": {
      "text/html": [
       "<div>\n",
       "<style scoped>\n",
       "    .dataframe tbody tr th:only-of-type {\n",
       "        vertical-align: middle;\n",
       "    }\n",
       "\n",
       "    .dataframe tbody tr th {\n",
       "        vertical-align: top;\n",
       "    }\n",
       "\n",
       "    .dataframe thead th {\n",
       "        text-align: right;\n",
       "    }\n",
       "</style>\n",
       "<table border=\"1\" class=\"dataframe\">\n",
       "  <thead>\n",
       "    <tr style=\"text-align: right;\">\n",
       "      <th></th>\n",
       "      <th>offer</th>\n",
       "      <th>price_currency</th>\n",
       "      <th>condition</th>\n",
       "      <th>seller_name</th>\n",
       "      <th>offer_ranking</th>\n",
       "      <th>shipping_cost</th>\n",
       "      <th>is_global_store</th>\n",
       "      <th>is_prime</th>\n",
       "      <th>year</th>\n",
       "      <th>month</th>\n",
       "      <th>day</th>\n",
       "      <th>has_rating</th>\n",
       "      <th>rating_mark</th>\n",
       "      <th>positive_percentage</th>\n",
       "      <th>number_of_rates</th>\n",
       "      <th>delivery_length</th>\n",
       "    </tr>\n",
       "  </thead>\n",
       "  <tbody>\n",
       "    <tr>\n",
       "      <th>0</th>\n",
       "      <td>7247</td>\n",
       "      <td>19.17</td>\n",
       "      <td>True</td>\n",
       "      <td>0</td>\n",
       "      <td>1</td>\n",
       "      <td>3.95</td>\n",
       "      <td>False</td>\n",
       "      <td>False</td>\n",
       "      <td>2018</td>\n",
       "      <td>5</td>\n",
       "      <td>31</td>\n",
       "      <td>1</td>\n",
       "      <td>5.0</td>\n",
       "      <td>98</td>\n",
       "      <td>1876</td>\n",
       "      <td>7</td>\n",
       "    </tr>\n",
       "    <tr>\n",
       "      <th>1</th>\n",
       "      <td>375109</td>\n",
       "      <td>17.50</td>\n",
       "      <td>True</td>\n",
       "      <td>0</td>\n",
       "      <td>9</td>\n",
       "      <td>17.90</td>\n",
       "      <td>False</td>\n",
       "      <td>False</td>\n",
       "      <td>2018</td>\n",
       "      <td>5</td>\n",
       "      <td>31</td>\n",
       "      <td>1</td>\n",
       "      <td>5.0</td>\n",
       "      <td>100</td>\n",
       "      <td>1</td>\n",
       "      <td>10</td>\n",
       "    </tr>\n",
       "    <tr>\n",
       "      <th>2</th>\n",
       "      <td>375109</td>\n",
       "      <td>20.09</td>\n",
       "      <td>True</td>\n",
       "      <td>0</td>\n",
       "      <td>8</td>\n",
       "      <td>13.06</td>\n",
       "      <td>False</td>\n",
       "      <td>False</td>\n",
       "      <td>2018</td>\n",
       "      <td>5</td>\n",
       "      <td>31</td>\n",
       "      <td>1</td>\n",
       "      <td>3.0</td>\n",
       "      <td>57</td>\n",
       "      <td>54</td>\n",
       "      <td>15</td>\n",
       "    </tr>\n",
       "    <tr>\n",
       "      <th>3</th>\n",
       "      <td>375109</td>\n",
       "      <td>22.90</td>\n",
       "      <td>True</td>\n",
       "      <td>0</td>\n",
       "      <td>7</td>\n",
       "      <td>10.00</td>\n",
       "      <td>False</td>\n",
       "      <td>False</td>\n",
       "      <td>2018</td>\n",
       "      <td>5</td>\n",
       "      <td>31</td>\n",
       "      <td>1</td>\n",
       "      <td>4.0</td>\n",
       "      <td>86</td>\n",
       "      <td>7</td>\n",
       "      <td>17</td>\n",
       "    </tr>\n",
       "    <tr>\n",
       "      <th>4</th>\n",
       "      <td>375109</td>\n",
       "      <td>20.34</td>\n",
       "      <td>True</td>\n",
       "      <td>0</td>\n",
       "      <td>6</td>\n",
       "      <td>11.90</td>\n",
       "      <td>False</td>\n",
       "      <td>False</td>\n",
       "      <td>2018</td>\n",
       "      <td>5</td>\n",
       "      <td>31</td>\n",
       "      <td>1</td>\n",
       "      <td>4.0</td>\n",
       "      <td>79</td>\n",
       "      <td>39</td>\n",
       "      <td>10</td>\n",
       "    </tr>\n",
       "  </tbody>\n",
       "</table>\n",
       "</div>"
      ],
      "text/plain": [
       "    offer  price_currency  condition  seller_name  offer_ranking  \\\n",
       "0    7247           19.17       True            0              1   \n",
       "1  375109           17.50       True            0              9   \n",
       "2  375109           20.09       True            0              8   \n",
       "3  375109           22.90       True            0              7   \n",
       "4  375109           20.34       True            0              6   \n",
       "\n",
       "   shipping_cost  is_global_store  is_prime  year  month  day  has_rating  \\\n",
       "0           3.95            False     False  2018      5   31           1   \n",
       "1          17.90            False     False  2018      5   31           1   \n",
       "2          13.06            False     False  2018      5   31           1   \n",
       "3          10.00            False     False  2018      5   31           1   \n",
       "4          11.90            False     False  2018      5   31           1   \n",
       "\n",
       "   rating_mark  positive_percentage  number_of_rates  delivery_length  \n",
       "0          5.0                   98             1876                7  \n",
       "1          5.0                  100                1               10  \n",
       "2          3.0                   57               54               15  \n",
       "3          4.0                   86                7               17  \n",
       "4          4.0                   79               39               10  "
      ]
     },
     "execution_count": 149,
     "metadata": {},
     "output_type": "execute_result"
    }
   ],
   "source": [
    "data.head()"
   ]
  },
  {
   "cell_type": "markdown",
   "metadata": {},
   "source": [
    "***"
   ]
  },
  {
   "cell_type": "code",
   "execution_count": 150,
   "metadata": {},
   "outputs": [
    {
     "data": {
      "text/plain": [
       "False    480795\n",
       "True      66378\n",
       "Name: is_prime, dtype: int64"
      ]
     },
     "execution_count": 150,
     "metadata": {},
     "output_type": "execute_result"
    }
   ],
   "source": [
    "data.is_prime.value_counts()"
   ]
  },
  {
   "cell_type": "code",
   "execution_count": 151,
   "metadata": {},
   "outputs": [
    {
     "data": {
      "text/plain": [
       "False    547171\n",
       "True          2\n",
       "Name: is_global_store, dtype: int64"
      ]
     },
     "execution_count": 151,
     "metadata": {},
     "output_type": "execute_result"
    }
   ],
   "source": [
    "data.is_global_store.value_counts()"
   ]
  },
  {
   "cell_type": "markdown",
   "metadata": {},
   "source": [
    "Je ne modifie pas les colonnes **is_global_store** et **is_prime** qui sont déjà au bon format et sans erreur."
   ]
  },
  {
   "cell_type": "markdown",
   "metadata": {},
   "source": [
    "***"
   ]
  },
  {
   "cell_type": "markdown",
   "metadata": {},
   "source": [
    "Je décide de créer une dernière colonne **total_price** qui regroupe le prix de l'offre et de la livraison."
   ]
  },
  {
   "cell_type": "code",
   "execution_count": 152,
   "metadata": {},
   "outputs": [],
   "source": [
    "def createTotalPrice(row):\n",
    "    \"\"\"\n",
    "    Retourne la somme d'un prix de 'price_currency' et 'shipping_cost'\n",
    "    \"\"\"\n",
    "    \n",
    "    col_product_price = row['price_currency']\n",
    "    col_shipping_price = row['shipping_cost']\n",
    "    \n",
    "    return float(col_product_price + col_shipping_price)\n",
    "    \n",
    "      \n",
    "data['total_price'] = data.apply(createTotalPrice, axis=1)"
   ]
  },
  {
   "cell_type": "code",
   "execution_count": 153,
   "metadata": {},
   "outputs": [
    {
     "data": {
      "text/html": [
       "<div>\n",
       "<style scoped>\n",
       "    .dataframe tbody tr th:only-of-type {\n",
       "        vertical-align: middle;\n",
       "    }\n",
       "\n",
       "    .dataframe tbody tr th {\n",
       "        vertical-align: top;\n",
       "    }\n",
       "\n",
       "    .dataframe thead th {\n",
       "        text-align: right;\n",
       "    }\n",
       "</style>\n",
       "<table border=\"1\" class=\"dataframe\">\n",
       "  <thead>\n",
       "    <tr style=\"text-align: right;\">\n",
       "      <th></th>\n",
       "      <th>offer</th>\n",
       "      <th>price_currency</th>\n",
       "      <th>condition</th>\n",
       "      <th>seller_name</th>\n",
       "      <th>offer_ranking</th>\n",
       "      <th>shipping_cost</th>\n",
       "      <th>is_global_store</th>\n",
       "      <th>is_prime</th>\n",
       "      <th>year</th>\n",
       "      <th>month</th>\n",
       "      <th>day</th>\n",
       "      <th>has_rating</th>\n",
       "      <th>rating_mark</th>\n",
       "      <th>positive_percentage</th>\n",
       "      <th>number_of_rates</th>\n",
       "      <th>delivery_length</th>\n",
       "      <th>total_price</th>\n",
       "    </tr>\n",
       "  </thead>\n",
       "  <tbody>\n",
       "    <tr>\n",
       "      <th>0</th>\n",
       "      <td>7247</td>\n",
       "      <td>19.17</td>\n",
       "      <td>True</td>\n",
       "      <td>0</td>\n",
       "      <td>1</td>\n",
       "      <td>3.95</td>\n",
       "      <td>False</td>\n",
       "      <td>False</td>\n",
       "      <td>2018</td>\n",
       "      <td>5</td>\n",
       "      <td>31</td>\n",
       "      <td>1</td>\n",
       "      <td>5.0</td>\n",
       "      <td>98</td>\n",
       "      <td>1876</td>\n",
       "      <td>7</td>\n",
       "      <td>23.12</td>\n",
       "    </tr>\n",
       "    <tr>\n",
       "      <th>1</th>\n",
       "      <td>375109</td>\n",
       "      <td>17.50</td>\n",
       "      <td>True</td>\n",
       "      <td>0</td>\n",
       "      <td>9</td>\n",
       "      <td>17.90</td>\n",
       "      <td>False</td>\n",
       "      <td>False</td>\n",
       "      <td>2018</td>\n",
       "      <td>5</td>\n",
       "      <td>31</td>\n",
       "      <td>1</td>\n",
       "      <td>5.0</td>\n",
       "      <td>100</td>\n",
       "      <td>1</td>\n",
       "      <td>10</td>\n",
       "      <td>35.40</td>\n",
       "    </tr>\n",
       "    <tr>\n",
       "      <th>2</th>\n",
       "      <td>375109</td>\n",
       "      <td>20.09</td>\n",
       "      <td>True</td>\n",
       "      <td>0</td>\n",
       "      <td>8</td>\n",
       "      <td>13.06</td>\n",
       "      <td>False</td>\n",
       "      <td>False</td>\n",
       "      <td>2018</td>\n",
       "      <td>5</td>\n",
       "      <td>31</td>\n",
       "      <td>1</td>\n",
       "      <td>3.0</td>\n",
       "      <td>57</td>\n",
       "      <td>54</td>\n",
       "      <td>15</td>\n",
       "      <td>33.15</td>\n",
       "    </tr>\n",
       "    <tr>\n",
       "      <th>3</th>\n",
       "      <td>375109</td>\n",
       "      <td>22.90</td>\n",
       "      <td>True</td>\n",
       "      <td>0</td>\n",
       "      <td>7</td>\n",
       "      <td>10.00</td>\n",
       "      <td>False</td>\n",
       "      <td>False</td>\n",
       "      <td>2018</td>\n",
       "      <td>5</td>\n",
       "      <td>31</td>\n",
       "      <td>1</td>\n",
       "      <td>4.0</td>\n",
       "      <td>86</td>\n",
       "      <td>7</td>\n",
       "      <td>17</td>\n",
       "      <td>32.90</td>\n",
       "    </tr>\n",
       "    <tr>\n",
       "      <th>4</th>\n",
       "      <td>375109</td>\n",
       "      <td>20.34</td>\n",
       "      <td>True</td>\n",
       "      <td>0</td>\n",
       "      <td>6</td>\n",
       "      <td>11.90</td>\n",
       "      <td>False</td>\n",
       "      <td>False</td>\n",
       "      <td>2018</td>\n",
       "      <td>5</td>\n",
       "      <td>31</td>\n",
       "      <td>1</td>\n",
       "      <td>4.0</td>\n",
       "      <td>79</td>\n",
       "      <td>39</td>\n",
       "      <td>10</td>\n",
       "      <td>32.24</td>\n",
       "    </tr>\n",
       "  </tbody>\n",
       "</table>\n",
       "</div>"
      ],
      "text/plain": [
       "    offer  price_currency  condition  seller_name  offer_ranking  \\\n",
       "0    7247           19.17       True            0              1   \n",
       "1  375109           17.50       True            0              9   \n",
       "2  375109           20.09       True            0              8   \n",
       "3  375109           22.90       True            0              7   \n",
       "4  375109           20.34       True            0              6   \n",
       "\n",
       "   shipping_cost  is_global_store  is_prime  year  month  day  has_rating  \\\n",
       "0           3.95            False     False  2018      5   31           1   \n",
       "1          17.90            False     False  2018      5   31           1   \n",
       "2          13.06            False     False  2018      5   31           1   \n",
       "3          10.00            False     False  2018      5   31           1   \n",
       "4          11.90            False     False  2018      5   31           1   \n",
       "\n",
       "   rating_mark  positive_percentage  number_of_rates  delivery_length  \\\n",
       "0          5.0                   98             1876                7   \n",
       "1          5.0                  100                1               10   \n",
       "2          3.0                   57               54               15   \n",
       "3          4.0                   86                7               17   \n",
       "4          4.0                   79               39               10   \n",
       "\n",
       "   total_price  \n",
       "0        23.12  \n",
       "1        35.40  \n",
       "2        33.15  \n",
       "3        32.90  \n",
       "4        32.24  "
      ]
     },
     "execution_count": 153,
     "metadata": {},
     "output_type": "execute_result"
    }
   ],
   "source": [
    "data.head()"
   ]
  },
  {
   "cell_type": "markdown",
   "metadata": {},
   "source": [
    "***"
   ]
  },
  {
   "cell_type": "markdown",
   "metadata": {},
   "source": [
    "***"
   ]
  },
  {
   "cell_type": "markdown",
   "metadata": {},
   "source": [
    "## 3. Importance des features"
   ]
  },
  {
   "attachments": {
    "3.but.png": {
     "image/png": "[encoded data removed]"
    }
   },
   "cell_type": "markdown",
   "metadata": {
    "slideshow": {
     "slide_type": "slide"
    }
   },
   "source": [
    "\n",
    "\n",
    "![Kernel & front-end diagram](Images/3.but.png)"
   ]
  },
  {
   "cell_type": "markdown",
   "metadata": {},
   "source": [
    "En reprenant l'énoncé, je comprends que le but est de savoir si **OUI** ou **NON** une offre est gagnante de la Buy Box. Donc que la position dans le ranking importe peu. Je décide donc de tourner le problème vers un problème de **classification** avec **offer_ranking == 1** les offres gagnantes et **offer_ranking ==0** les offres non-gagnantes donc 2,3, etc ... ."
   ]
  },
  {
   "cell_type": "code",
   "execution_count": 154,
   "metadata": {},
   "outputs": [],
   "source": [
    "data.loc[(data.offer_ranking > 1 ),'offer_ranking']=0"
   ]
  },
  {
   "cell_type": "code",
   "execution_count": 155,
   "metadata": {},
   "outputs": [
    {
     "data": {
      "text/html": [
       "<div>\n",
       "<style scoped>\n",
       "    .dataframe tbody tr th:only-of-type {\n",
       "        vertical-align: middle;\n",
       "    }\n",
       "\n",
       "    .dataframe tbody tr th {\n",
       "        vertical-align: top;\n",
       "    }\n",
       "\n",
       "    .dataframe thead th {\n",
       "        text-align: right;\n",
       "    }\n",
       "</style>\n",
       "<table border=\"1\" class=\"dataframe\">\n",
       "  <thead>\n",
       "    <tr style=\"text-align: right;\">\n",
       "      <th></th>\n",
       "      <th>offer</th>\n",
       "      <th>price_currency</th>\n",
       "      <th>condition</th>\n",
       "      <th>seller_name</th>\n",
       "      <th>offer_ranking</th>\n",
       "      <th>shipping_cost</th>\n",
       "      <th>is_global_store</th>\n",
       "      <th>is_prime</th>\n",
       "      <th>year</th>\n",
       "      <th>month</th>\n",
       "      <th>day</th>\n",
       "      <th>has_rating</th>\n",
       "      <th>rating_mark</th>\n",
       "      <th>positive_percentage</th>\n",
       "      <th>number_of_rates</th>\n",
       "      <th>delivery_length</th>\n",
       "      <th>total_price</th>\n",
       "    </tr>\n",
       "  </thead>\n",
       "  <tbody>\n",
       "    <tr>\n",
       "      <th>0</th>\n",
       "      <td>7247</td>\n",
       "      <td>19.17</td>\n",
       "      <td>True</td>\n",
       "      <td>0</td>\n",
       "      <td>1</td>\n",
       "      <td>3.95</td>\n",
       "      <td>False</td>\n",
       "      <td>False</td>\n",
       "      <td>2018</td>\n",
       "      <td>5</td>\n",
       "      <td>31</td>\n",
       "      <td>1</td>\n",
       "      <td>5.0</td>\n",
       "      <td>98</td>\n",
       "      <td>1876</td>\n",
       "      <td>7</td>\n",
       "      <td>23.12</td>\n",
       "    </tr>\n",
       "    <tr>\n",
       "      <th>1</th>\n",
       "      <td>375109</td>\n",
       "      <td>17.50</td>\n",
       "      <td>True</td>\n",
       "      <td>0</td>\n",
       "      <td>0</td>\n",
       "      <td>17.90</td>\n",
       "      <td>False</td>\n",
       "      <td>False</td>\n",
       "      <td>2018</td>\n",
       "      <td>5</td>\n",
       "      <td>31</td>\n",
       "      <td>1</td>\n",
       "      <td>5.0</td>\n",
       "      <td>100</td>\n",
       "      <td>1</td>\n",
       "      <td>10</td>\n",
       "      <td>35.40</td>\n",
       "    </tr>\n",
       "    <tr>\n",
       "      <th>2</th>\n",
       "      <td>375109</td>\n",
       "      <td>20.09</td>\n",
       "      <td>True</td>\n",
       "      <td>0</td>\n",
       "      <td>0</td>\n",
       "      <td>13.06</td>\n",
       "      <td>False</td>\n",
       "      <td>False</td>\n",
       "      <td>2018</td>\n",
       "      <td>5</td>\n",
       "      <td>31</td>\n",
       "      <td>1</td>\n",
       "      <td>3.0</td>\n",
       "      <td>57</td>\n",
       "      <td>54</td>\n",
       "      <td>15</td>\n",
       "      <td>33.15</td>\n",
       "    </tr>\n",
       "    <tr>\n",
       "      <th>3</th>\n",
       "      <td>375109</td>\n",
       "      <td>22.90</td>\n",
       "      <td>True</td>\n",
       "      <td>0</td>\n",
       "      <td>0</td>\n",
       "      <td>10.00</td>\n",
       "      <td>False</td>\n",
       "      <td>False</td>\n",
       "      <td>2018</td>\n",
       "      <td>5</td>\n",
       "      <td>31</td>\n",
       "      <td>1</td>\n",
       "      <td>4.0</td>\n",
       "      <td>86</td>\n",
       "      <td>7</td>\n",
       "      <td>17</td>\n",
       "      <td>32.90</td>\n",
       "    </tr>\n",
       "    <tr>\n",
       "      <th>4</th>\n",
       "      <td>375109</td>\n",
       "      <td>20.34</td>\n",
       "      <td>True</td>\n",
       "      <td>0</td>\n",
       "      <td>0</td>\n",
       "      <td>11.90</td>\n",
       "      <td>False</td>\n",
       "      <td>False</td>\n",
       "      <td>2018</td>\n",
       "      <td>5</td>\n",
       "      <td>31</td>\n",
       "      <td>1</td>\n",
       "      <td>4.0</td>\n",
       "      <td>79</td>\n",
       "      <td>39</td>\n",
       "      <td>10</td>\n",
       "      <td>32.24</td>\n",
       "    </tr>\n",
       "  </tbody>\n",
       "</table>\n",
       "</div>"
      ],
      "text/plain": [
       "    offer  price_currency  condition  seller_name  offer_ranking  \\\n",
       "0    7247           19.17       True            0              1   \n",
       "1  375109           17.50       True            0              0   \n",
       "2  375109           20.09       True            0              0   \n",
       "3  375109           22.90       True            0              0   \n",
       "4  375109           20.34       True            0              0   \n",
       "\n",
       "   shipping_cost  is_global_store  is_prime  year  month  day  has_rating  \\\n",
       "0           3.95            False     False  2018      5   31           1   \n",
       "1          17.90            False     False  2018      5   31           1   \n",
       "2          13.06            False     False  2018      5   31           1   \n",
       "3          10.00            False     False  2018      5   31           1   \n",
       "4          11.90            False     False  2018      5   31           1   \n",
       "\n",
       "   rating_mark  positive_percentage  number_of_rates  delivery_length  \\\n",
       "0          5.0                   98             1876                7   \n",
       "1          5.0                  100                1               10   \n",
       "2          3.0                   57               54               15   \n",
       "3          4.0                   86                7               17   \n",
       "4          4.0                   79               39               10   \n",
       "\n",
       "   total_price  \n",
       "0        23.12  \n",
       "1        35.40  \n",
       "2        33.15  \n",
       "3        32.90  \n",
       "4        32.24  "
      ]
     },
     "execution_count": 155,
     "metadata": {},
     "output_type": "execute_result"
    }
   ],
   "source": [
    "data.head()"
   ]
  },
  {
   "cell_type": "markdown",
   "metadata": {},
   "source": [
    "Maintenant je vais utiliser une **Matrice de corrélation** pour voir quelles sont les features qui influent le plus sur le ranking de l'offre.<br /><br />\n",
    "Mais avant je supprime la colonne **year** car lors de l'affichage de la matrice la colonne/ligne liée à **year** était blanche ce qui signifie que **year** ne dispose que d'une seule valeur qui est '2018'."
   ]
  },
  {
   "cell_type": "code",
   "execution_count": 156,
   "metadata": {},
   "outputs": [
    {
     "data": {
      "text/plain": [
       "2018    547173\n",
       "Name: year, dtype: int64"
      ]
     },
     "execution_count": 156,
     "metadata": {},
     "output_type": "execute_result"
    }
   ],
   "source": [
    "data.year.value_counts()"
   ]
  },
  {
   "cell_type": "code",
   "execution_count": 157,
   "metadata": {},
   "outputs": [],
   "source": [
    "data = data.drop(['year'], axis=1)"
   ]
  },
  {
   "cell_type": "code",
   "execution_count": 158,
   "metadata": {},
   "outputs": [
    {
     "data": {
      "text/html": [
       "<div>\n",
       "<style scoped>\n",
       "    .dataframe tbody tr th:only-of-type {\n",
       "        vertical-align: middle;\n",
       "    }\n",
       "\n",
       "    .dataframe tbody tr th {\n",
       "        vertical-align: top;\n",
       "    }\n",
       "\n",
       "    .dataframe thead th {\n",
       "        text-align: right;\n",
       "    }\n",
       "</style>\n",
       "<table border=\"1\" class=\"dataframe\">\n",
       "  <thead>\n",
       "    <tr style=\"text-align: right;\">\n",
       "      <th></th>\n",
       "      <th>offer</th>\n",
       "      <th>price_currency</th>\n",
       "      <th>condition</th>\n",
       "      <th>seller_name</th>\n",
       "      <th>offer_ranking</th>\n",
       "      <th>shipping_cost</th>\n",
       "      <th>is_global_store</th>\n",
       "      <th>is_prime</th>\n",
       "      <th>month</th>\n",
       "      <th>day</th>\n",
       "      <th>has_rating</th>\n",
       "      <th>rating_mark</th>\n",
       "      <th>positive_percentage</th>\n",
       "      <th>number_of_rates</th>\n",
       "      <th>delivery_length</th>\n",
       "      <th>total_price</th>\n",
       "    </tr>\n",
       "  </thead>\n",
       "  <tbody>\n",
       "    <tr>\n",
       "      <th>0</th>\n",
       "      <td>7247</td>\n",
       "      <td>19.17</td>\n",
       "      <td>True</td>\n",
       "      <td>0</td>\n",
       "      <td>1</td>\n",
       "      <td>3.95</td>\n",
       "      <td>False</td>\n",
       "      <td>False</td>\n",
       "      <td>5</td>\n",
       "      <td>31</td>\n",
       "      <td>1</td>\n",
       "      <td>5.0</td>\n",
       "      <td>98</td>\n",
       "      <td>1876</td>\n",
       "      <td>7</td>\n",
       "      <td>23.12</td>\n",
       "    </tr>\n",
       "    <tr>\n",
       "      <th>1</th>\n",
       "      <td>375109</td>\n",
       "      <td>17.50</td>\n",
       "      <td>True</td>\n",
       "      <td>0</td>\n",
       "      <td>0</td>\n",
       "      <td>17.90</td>\n",
       "      <td>False</td>\n",
       "      <td>False</td>\n",
       "      <td>5</td>\n",
       "      <td>31</td>\n",
       "      <td>1</td>\n",
       "      <td>5.0</td>\n",
       "      <td>100</td>\n",
       "      <td>1</td>\n",
       "      <td>10</td>\n",
       "      <td>35.40</td>\n",
       "    </tr>\n",
       "    <tr>\n",
       "      <th>2</th>\n",
       "      <td>375109</td>\n",
       "      <td>20.09</td>\n",
       "      <td>True</td>\n",
       "      <td>0</td>\n",
       "      <td>0</td>\n",
       "      <td>13.06</td>\n",
       "      <td>False</td>\n",
       "      <td>False</td>\n",
       "      <td>5</td>\n",
       "      <td>31</td>\n",
       "      <td>1</td>\n",
       "      <td>3.0</td>\n",
       "      <td>57</td>\n",
       "      <td>54</td>\n",
       "      <td>15</td>\n",
       "      <td>33.15</td>\n",
       "    </tr>\n",
       "    <tr>\n",
       "      <th>3</th>\n",
       "      <td>375109</td>\n",
       "      <td>22.90</td>\n",
       "      <td>True</td>\n",
       "      <td>0</td>\n",
       "      <td>0</td>\n",
       "      <td>10.00</td>\n",
       "      <td>False</td>\n",
       "      <td>False</td>\n",
       "      <td>5</td>\n",
       "      <td>31</td>\n",
       "      <td>1</td>\n",
       "      <td>4.0</td>\n",
       "      <td>86</td>\n",
       "      <td>7</td>\n",
       "      <td>17</td>\n",
       "      <td>32.90</td>\n",
       "    </tr>\n",
       "    <tr>\n",
       "      <th>4</th>\n",
       "      <td>375109</td>\n",
       "      <td>20.34</td>\n",
       "      <td>True</td>\n",
       "      <td>0</td>\n",
       "      <td>0</td>\n",
       "      <td>11.90</td>\n",
       "      <td>False</td>\n",
       "      <td>False</td>\n",
       "      <td>5</td>\n",
       "      <td>31</td>\n",
       "      <td>1</td>\n",
       "      <td>4.0</td>\n",
       "      <td>79</td>\n",
       "      <td>39</td>\n",
       "      <td>10</td>\n",
       "      <td>32.24</td>\n",
       "    </tr>\n",
       "  </tbody>\n",
       "</table>\n",
       "</div>"
      ],
      "text/plain": [
       "    offer  price_currency  condition  seller_name  offer_ranking  \\\n",
       "0    7247           19.17       True            0              1   \n",
       "1  375109           17.50       True            0              0   \n",
       "2  375109           20.09       True            0              0   \n",
       "3  375109           22.90       True            0              0   \n",
       "4  375109           20.34       True            0              0   \n",
       "\n",
       "   shipping_cost  is_global_store  is_prime  month  day  has_rating  \\\n",
       "0           3.95            False     False      5   31           1   \n",
       "1          17.90            False     False      5   31           1   \n",
       "2          13.06            False     False      5   31           1   \n",
       "3          10.00            False     False      5   31           1   \n",
       "4          11.90            False     False      5   31           1   \n",
       "\n",
       "   rating_mark  positive_percentage  number_of_rates  delivery_length  \\\n",
       "0          5.0                   98             1876                7   \n",
       "1          5.0                  100                1               10   \n",
       "2          3.0                   57               54               15   \n",
       "3          4.0                   86                7               17   \n",
       "4          4.0                   79               39               10   \n",
       "\n",
       "   total_price  \n",
       "0        23.12  \n",
       "1        35.40  \n",
       "2        33.15  \n",
       "3        32.90  \n",
       "4        32.24  "
      ]
     },
     "execution_count": 158,
     "metadata": {},
     "output_type": "execute_result"
    }
   ],
   "source": [
    "data.head()"
   ]
  },
  {
   "cell_type": "code",
   "execution_count": 159,
   "metadata": {},
   "outputs": [
    {
     "data": {
      "image/png": "[encoded data removed]",
      "text/plain": [
       "<Figure size 1440x1440 with 2 Axes>"
      ]
     },
     "metadata": {},
     "output_type": "display_data"
    }
   ],
   "source": [
    "import numpy as np\n",
    "import seaborn as sns\n",
    "import matplotlib.pyplot as plt\n",
    "\n",
    "\n",
    "corrmat = data.corr()\n",
    "top_corr_features = corrmat.index\n",
    "plt.figure(figsize=(20,20))\n",
    "\n",
    "g=sns.heatmap(data[top_corr_features].corr(),annot=True,cmap=\"RdYlGn\")"
   ]
  },
  {
   "cell_type": "markdown",
   "metadata": {},
   "source": [
    "On s'intéresse à la colonne **offer_ranking** et plus particulièrement aux corrélations proches de 1 et -1. D'après la matrice il y a une relation entre **offer_ranking** et **seller_name**,**is_prime**,**has_rating** et **rating_mark**. <br /><br />\n"
   ]
  },
  {
   "cell_type": "markdown",
   "metadata": {},
   "source": [
    "***"
   ]
  },
  {
   "cell_type": "markdown",
   "metadata": {},
   "source": [
    "# 4. Gérer un dataset déséquilibré"
   ]
  },
  {
   "cell_type": "markdown",
   "metadata": {},
   "source": [
    "Un problème se pose avec mon choix sur la colonne cible : **offer_ranking**. En ayant choisi de mettre l'ensemble des offres gagnantes à 1 et les autres à 0, on obtient un dataset déséquilibré qui contiendra beaucoup plus de **offer_ranking=0** que de **offer_ranking=1**."
   ]
  },
  {
   "cell_type": "code",
   "execution_count": 160,
   "metadata": {},
   "outputs": [
    {
     "data": {
      "text/plain": [
       "0    467977\n",
       "1     79196\n",
       "Name: offer_ranking, dtype: int64"
      ]
     },
     "execution_count": 160,
     "metadata": {},
     "output_type": "execute_result"
    }
   ],
   "source": [
    "data.offer_ranking.value_counts()"
   ]
  },
  {
   "cell_type": "code",
   "execution_count": 161,
   "metadata": {},
   "outputs": [
    {
     "data": {
      "image/png": "[encoded data removed]",
      "text/plain": [
       "<Figure size 432x288 with 1 Axes>"
      ]
     },
     "metadata": {},
     "output_type": "display_data"
    }
   ],
   "source": [
    "target_count = data.offer_ranking.value_counts()\n",
    "\n",
    "\n",
    "target_count.plot(kind='bar', title='Répartition des valeurs de la colonne \"offer_ranking\"');"
   ]
  },
  {
   "cell_type": "code",
   "execution_count": 162,
   "metadata": {},
   "outputs": [
    {
     "name": "stdout",
     "output_type": "stream",
     "text": [
      "Proportion: 5.91 : 1\n"
     ]
    }
   ],
   "source": [
    "print('Proportion:', round(target_count[0] / target_count[1], 2), ': 1')"
   ]
  },
  {
   "cell_type": "markdown",
   "metadata": {},
   "source": [
    "Comme le montre le graphique ci-dessus, la disparité entre les 2 valeurs est beaucoup trop importante. Cela posera un problème lorsque l'on entrainera notre modèle, on obtiendra une **précision** élevée mais qui sera biaisée du fait que la majorité des 0 seront correctement évalués alors que les 1 seront presque tous faux. <br /><br />\n",
    "Pour montrer ce phénomène on va entrainer un modèle avec le dataset déséquilibré et un autre que l'on aura équilibré."
   ]
  },
  {
   "cell_type": "markdown",
   "metadata": {},
   "source": [
    "On sépare les **features** et la **target** : "
   ]
  },
  {
   "cell_type": "code",
   "execution_count": 163,
   "metadata": {},
   "outputs": [],
   "source": [
    "# Import des différentes classifiers que je vais utiliser par la suite.\n",
    "from sklearn.linear_model import LogisticRegression\n",
    "from sklearn.ensemble import RandomForestClassifier\n",
    "from sklearn.neighbors import KNeighborsClassifier\n",
    "\n",
    "\n",
    "y = data[\"offer_ranking\"] \n",
    "X = data.drop(\"offer_ranking\",1)  \n",
    "         "
   ]
  },
  {
   "cell_type": "markdown",
   "metadata": {},
   "source": [
    "On sépare le dataset en 2 : \n",
    "\n",
    "- **Le training set** : qui va nous permettre d’entraîner notre modèle, et sera utilisé par l’algorithme d’apprentissage\n",
    "- **Le testing set** : qui permet de mesurer l’erreur du modèle final sur des données qu’il n’a jamais vues."
   ]
  },
  {
   "cell_type": "code",
   "execution_count": 164,
   "metadata": {},
   "outputs": [],
   "source": [
    "from sklearn.model_selection import train_test_split\n",
    "\n",
    "train_X, test_X, train_y, test_y = train_test_split(X, y, test_size=0.3, random_state=0)"
   ]
  },
  {
   "cell_type": "markdown",
   "metadata": {},
   "source": [
    "Pour montrer la différence je vais utiliser une **Regression Logistique** qui est un modèle de classification de base et qui devrait prendre peu de temps à entraîner."
   ]
  },
  {
   "cell_type": "code",
   "execution_count": 165,
   "metadata": {},
   "outputs": [],
   "source": [
    "# Création du modèle\n",
    "logisticRegr = LogisticRegression()"
   ]
  },
  {
   "cell_type": "markdown",
   "metadata": {},
   "source": [
    "Ensuite on entraîne le modèle."
   ]
  },
  {
   "cell_type": "code",
   "execution_count": 166,
   "metadata": {},
   "outputs": [
    {
     "data": {
      "text/plain": [
       "LogisticRegression(C=1.0, class_weight=None, dual=False, fit_intercept=True,\n",
       "          intercept_scaling=1, max_iter=100, multi_class='ovr', n_jobs=1,\n",
       "          penalty='l2', random_state=None, solver='liblinear', tol=0.0001,\n",
       "          verbose=0, warm_start=False)"
      ]
     },
     "execution_count": 166,
     "metadata": {},
     "output_type": "execute_result"
    }
   ],
   "source": [
    "# Train the model\n",
    "logisticRegr.fit(train_X, train_y)"
   ]
  },
  {
   "cell_type": "code",
   "execution_count": 167,
   "metadata": {},
   "outputs": [
    {
     "name": "stdout",
     "output_type": "stream",
     "text": [
      "Régression Logistique sans optimisation et avec un dataset déséquilibré\n",
      "Echantillons mal classés: 21952\n",
      "Précision: 0.87\n"
     ]
    }
   ],
   "source": [
    "from sklearn.metrics import accuracy_score\n",
    "y_pred = logisticRegr.predict(test_X)\n",
    "print('Régression Logistique sans optimisation et avec un dataset déséquilibré')\n",
    "print('Echantillons mal classés: %d' % (test_y != y_pred).sum())\n",
    "print('Précision: %.2f' % accuracy_score(test_y, y_pred))"
   ]
  },
  {
   "cell_type": "markdown",
   "metadata": {},
   "source": [
    "J'utilise une **matrice de confusion** pour évaluer où se situent les 13% d'erreurs :"
   ]
  },
  {
   "cell_type": "code",
   "execution_count": 168,
   "metadata": {},
   "outputs": [
    {
     "name": "stdout",
     "output_type": "stream",
     "text": [
      "Matrice de Confusion:\n",
      " [[137925   2399]\n",
      " [ 19553   4275]]\n"
     ]
    },
    {
     "data": {
      "image/png": "[encoded data removed]",
      "text/plain": [
       "<Figure size 432x288 with 2 Axes>"
      ]
     },
     "metadata": {},
     "output_type": "display_data"
    }
   ],
   "source": [
    "from sklearn.metrics import confusion_matrix\n",
    "\n",
    "conf_mat = confusion_matrix(y_true=test_y, y_pred=y_pred)\n",
    "print('Matrice de Confusion:\\n', conf_mat)\n",
    "\n",
    "labels = ['Class 0', 'Class 1']\n",
    "fig = plt.figure()\n",
    "ax = fig.add_subplot(111)\n",
    "cax = ax.matshow(conf_mat, cmap=plt.cm.Blues)\n",
    "fig.colorbar(cax)\n",
    "ax.set_xticklabels([''] + labels)\n",
    "ax.set_yticklabels([''] + labels)\n",
    "plt.xlabel('Prédit')\n",
    "plt.ylabel('Attendu')\n",
    "plt.show()"
   ]
  },
  {
   "cell_type": "markdown",
   "metadata": {},
   "source": [
    "Comme prévu on voit que sur :\n",
    "\n",
    "- Sur **140 324** prédictions (137 925 + 2 399) de la **classe 0**, seulement **2399** (1,7%) ont été mal classés en **classe 1**\n",
    "- Sur **23 828** prédictions (19 553 + 4 275) de la **classe 1**,  **19 553** (82%) ont été mal classés en **classe 0**\n",
    "\n",
    "Ainsi notre modèle prédit plutôt correctement les offres qui ne gagnent pas la Buy Box mais se trompe plus de 3 fois sur 4 sur celles qui gagnent la Buy Box. Un problème étant donné que notre but est de savoir les offres gagnantes.\n"
   ]
  },
  {
   "cell_type": "markdown",
   "metadata": {},
   "source": [
    "***"
   ]
  },
  {
   "cell_type": "markdown",
   "metadata": {},
   "source": [
    "Pour pallier ce problème j'ai décidé d'utiliser **l'undersampling** pour réduire le nombre de la **classe 0** afin qu'elle soit équilibrée avec la **classe 1**"
   ]
  },
  {
   "cell_type": "code",
   "execution_count": 169,
   "metadata": {},
   "outputs": [],
   "source": [
    "# On sépare les 2 classes (0 et 1)\n",
    "count_class_0, count_class_1 = data.offer_ranking.value_counts()\n",
    "\n",
    "\n",
    "df_class_0 = data[data['offer_ranking'] == 0]\n",
    "df_class_1 = data[data['offer_ranking'] == 1]"
   ]
  },
  {
   "cell_type": "markdown",
   "metadata": {},
   "source": [
    "On applique la fonction **sample()** sur **df_class_0** qui possède l'ensemble des lignes avec un **offer_ranking égale à 0** pour réduire au nombre de lignes de **df_class_1** qui possède des **offer_ranking à 1**"
   ]
  },
  {
   "cell_type": "code",
   "execution_count": 170,
   "metadata": {},
   "outputs": [
    {
     "name": "stdout",
     "output_type": "stream",
     "text": [
      "Under Sampling Aléatoire:\n",
      "1    79196\n",
      "0    79196\n",
      "Name: offer_ranking, dtype: int64\n"
     ]
    },
    {
     "data": {
      "image/png": "[encoded data removed]",
      "text/plain": [
       "<Figure size 432x288 with 1 Axes>"
      ]
     },
     "metadata": {},
     "output_type": "display_data"
    }
   ],
   "source": [
    "df_class_0_under = df_class_0.sample(count_class_1)\n",
    "df_test_under = pd.concat([df_class_0_under, df_class_1], axis=0)\n",
    "\n",
    "print('Under Sampling Aléatoire:')\n",
    "print(df_test_under.offer_ranking.value_counts())\n",
    "\n",
    "df_test_under.offer_ranking.value_counts().plot(kind='bar', title='Répartition des valeurs de la colonne \"offer_ranking\"');"
   ]
  },
  {
   "cell_type": "markdown",
   "metadata": {},
   "source": [
    "Maintenant on a bien notre dataset qui est équilibré au niveau de la colonne de target, on va pouvoir re-entrainer notre modèle pour voir comme il réagit."
   ]
  },
  {
   "cell_type": "code",
   "execution_count": 171,
   "metadata": {},
   "outputs": [],
   "source": [
    "y_under = df_test_under[\"offer_ranking\"] \n",
    "X_under = df_test_under.drop(\"offer_ranking\",1)  "
   ]
  },
  {
   "cell_type": "code",
   "execution_count": 172,
   "metadata": {},
   "outputs": [],
   "source": [
    "train_X, test_X, train_y, test_y = train_test_split(X_under, y_under, test_size=0.3, random_state=0)"
   ]
  },
  {
   "cell_type": "code",
   "execution_count": 173,
   "metadata": {},
   "outputs": [],
   "source": [
    "logisticRegr = LogisticRegression()"
   ]
  },
  {
   "cell_type": "code",
   "execution_count": 174,
   "metadata": {},
   "outputs": [
    {
     "data": {
      "text/plain": [
       "LogisticRegression(C=1.0, class_weight=None, dual=False, fit_intercept=True,\n",
       "          intercept_scaling=1, max_iter=100, multi_class='ovr', n_jobs=1,\n",
       "          penalty='l2', random_state=None, solver='liblinear', tol=0.0001,\n",
       "          verbose=0, warm_start=False)"
      ]
     },
     "execution_count": 174,
     "metadata": {},
     "output_type": "execute_result"
    }
   ],
   "source": [
    "logisticRegr.fit(train_X, train_y)"
   ]
  },
  {
   "cell_type": "code",
   "execution_count": 175,
   "metadata": {},
   "outputs": [
    {
     "name": "stdout",
     "output_type": "stream",
     "text": [
      "Régression Logistique sans optimisation et avec un dataset équilibré\n",
      "Echantillons mal classés: 13617\n",
      "Précision: 0.71\n"
     ]
    }
   ],
   "source": [
    "y_pred = logisticRegr.predict(test_X)\n",
    "print('Régression Logistique sans optimisation et avec un dataset équilibré')\n",
    "print('Echantillons mal classés: %d' % (test_y != y_pred).sum())\n",
    "print('Précision: %.2f' % accuracy_score(test_y, y_pred))"
   ]
  },
  {
   "cell_type": "markdown",
   "metadata": {},
   "source": [
    "Cette fois la précision a diminué de 0.87 à 0.71 mais allons vérifier les valeurs qui ont été mal classées."
   ]
  },
  {
   "cell_type": "code",
   "execution_count": 176,
   "metadata": {},
   "outputs": [
    {
     "name": "stdout",
     "output_type": "stream",
     "text": [
      "Matrice de Confusion:\n",
      " [[19164  4366]\n",
      " [ 9251 14737]]\n"
     ]
    },
    {
     "data": {
      "image/png": "[encoded data removed]",
      "text/plain": [
       "<Figure size 432x288 with 2 Axes>"
      ]
     },
     "metadata": {},
     "output_type": "display_data"
    }
   ],
   "source": [
    "conf_mat = confusion_matrix(y_true=test_y, y_pred=y_pred)\n",
    "print('Matrice de Confusion:\\n', conf_mat)\n",
    "\n",
    "labels = ['Class 0', 'Class 1']\n",
    "fig = plt.figure()\n",
    "ax = fig.add_subplot(111)\n",
    "cax = ax.matshow(conf_mat, cmap=plt.cm.Blues)\n",
    "fig.colorbar(cax)\n",
    "ax.set_xticklabels([''] + labels)\n",
    "ax.set_yticklabels([''] + labels)\n",
    "plt.xlabel('Prédit')\n",
    "plt.ylabel('Attendu')\n",
    "plt.show()"
   ]
  },
  {
   "cell_type": "markdown",
   "metadata": {},
   "source": [
    "Cette fois-ci le résultat est nettement mieux.\n",
    "\n",
    "- Sur **23 530** prédictions (19 164 + 4 366) de la **classe 0**, **4 366** (18%) ont été mal classés en **classe 1**\n",
    "- Sur **23 988** prédictions (9 251 + 14 737) de la **classe 1**,  **9 251** (38%) ont été mal classés en **classe 0**\n",
    "\n",
    "Les résultats sont loins d'êtres encore parfaits mais malgré que le modèle est perdu en précision sur la **classe 0** **(1,7% -> 18% d'erreurs)**, la prédiction de la **classe 1** est bien meilleure **(82% -> 38% d'erreurs)**.\n",
    "\n",
    "Notre modèle est donc plus fiable, maintenant il faut encore **choisir le bon modèle** car la régression logistique n'est probablement pas le modèle le plus optimal et ensuite il faut encore **optimiser les hyperparamètres** du modèle choisi."
   ]
  },
  {
   "cell_type": "markdown",
   "metadata": {},
   "source": [
    "***"
   ]
  },
  {
   "cell_type": "markdown",
   "metadata": {},
   "source": [
    "# 5. Choisir et évaluer un modèle"
   ]
  },
  {
   "cell_type": "markdown",
   "metadata": {},
   "source": [
    "Il me reste encore à choisir quel modèle choisir pour classer mes données.\n",
    "\n",
    "Tout d'abord il faut tenir compte de nos données et de la cible que l'on cherche à définir.\n",
    "\n",
    "Ici on traite un problème de **supervised learning** car on possède les labels de la colonne offer_ranking. De plus, notre problème est un problème de **classification** car on cherche à trier nos offres perdantes et gagnantes, on peut même parler de **classification binaire** comme il s'agit déterminer si notre offre fait partie de la classe 1 ou 0."
   ]
  },
  {
   "cell_type": "markdown",
   "metadata": {},
   "source": [
    "Je choisis donc de m'orienter vers 3 modèles qui me paraissent adaptés à la situation et différents des uns des autres :\n",
    "\n",
    "- **Régression Linéaire** : un algorithme performant pour la classification binaire.\n",
    "- **Random Forest** : un bon choix pour de la classification à plusieurs classes.\n",
    "- **K-Nearest Neighbors (KNN)** : une méthode simple pour classifier par rapport à des groupes de points."
   ]
  },
  {
   "cell_type": "markdown",
   "metadata": {},
   "source": [
    "### Régression Logistique"
   ]
  },
  {
   "cell_type": "code",
   "execution_count": 177,
   "metadata": {},
   "outputs": [],
   "source": [
    "logisticRegr = LogisticRegression()"
   ]
  },
  {
   "cell_type": "code",
   "execution_count": 178,
   "metadata": {},
   "outputs": [
    {
     "data": {
      "text/plain": [
       "LogisticRegression(C=1.0, class_weight=None, dual=False, fit_intercept=True,\n",
       "          intercept_scaling=1, max_iter=100, multi_class='ovr', n_jobs=1,\n",
       "          penalty='l2', random_state=None, solver='liblinear', tol=0.0001,\n",
       "          verbose=0, warm_start=False)"
      ]
     },
     "execution_count": 178,
     "metadata": {},
     "output_type": "execute_result"
    }
   ],
   "source": [
    "logisticRegr.fit(train_X, train_y)"
   ]
  },
  {
   "cell_type": "code",
   "execution_count": 179,
   "metadata": {},
   "outputs": [
    {
     "name": "stdout",
     "output_type": "stream",
     "text": [
      "Régression Logistique sans optimisation et avec un dataset équilibré\n",
      "Echantillons mal classés: 13617\n",
      "Précision: 0.71\n"
     ]
    }
   ],
   "source": [
    "y_pred = logisticRegr.predict(test_X)\n",
    "print('Régression Logistique sans optimisation et avec un dataset équilibré')\n",
    "print('Echantillons mal classés: %d' % (test_y != y_pred).sum())\n",
    "print('Précision: %.2f' % accuracy_score(test_y, y_pred))"
   ]
  },
  {
   "cell_type": "markdown",
   "metadata": {},
   "source": [
    "### Random Forest"
   ]
  },
  {
   "cell_type": "code",
   "execution_count": 180,
   "metadata": {},
   "outputs": [],
   "source": [
    "forest = RandomForestClassifier()"
   ]
  },
  {
   "cell_type": "code",
   "execution_count": 181,
   "metadata": {},
   "outputs": [
    {
     "data": {
      "text/plain": [
       "RandomForestClassifier(bootstrap=True, class_weight=None, criterion='gini',\n",
       "            max_depth=None, max_features='auto', max_leaf_nodes=None,\n",
       "            min_impurity_decrease=0.0, min_impurity_split=None,\n",
       "            min_samples_leaf=1, min_samples_split=2,\n",
       "            min_weight_fraction_leaf=0.0, n_estimators=10, n_jobs=1,\n",
       "            oob_score=False, random_state=None, verbose=0,\n",
       "            warm_start=False)"
      ]
     },
     "execution_count": 181,
     "metadata": {},
     "output_type": "execute_result"
    }
   ],
   "source": [
    "forest.fit(train_X, train_y)"
   ]
  },
  {
   "cell_type": "code",
   "execution_count": 182,
   "metadata": {},
   "outputs": [
    {
     "name": "stdout",
     "output_type": "stream",
     "text": [
      "Random Forest sans optimisation et avec un dataset équilibré:\n",
      "Echantillons mal classés: 3788\n",
      "Précision: 0.92\n"
     ]
    }
   ],
   "source": [
    "y_predF = forest.predict(test_X)\n",
    "print('Random Forest sans optimisation et avec un dataset équilibré:')\n",
    "print('Echantillons mal classés: %d' % (test_y != y_predF).sum())\n",
    "print('Précision: %.2f' % accuracy_score(test_y, y_predF))"
   ]
  },
  {
   "cell_type": "markdown",
   "metadata": {},
   "source": [
    "### K-Nearest Neighbors"
   ]
  },
  {
   "cell_type": "code",
   "execution_count": 183,
   "metadata": {},
   "outputs": [],
   "source": [
    "knn = KNeighborsClassifier()"
   ]
  },
  {
   "cell_type": "code",
   "execution_count": 184,
   "metadata": {},
   "outputs": [
    {
     "data": {
      "text/plain": [
       "KNeighborsClassifier(algorithm='auto', leaf_size=30, metric='minkowski',\n",
       "           metric_params=None, n_jobs=1, n_neighbors=5, p=2,\n",
       "           weights='uniform')"
      ]
     },
     "execution_count": 184,
     "metadata": {},
     "output_type": "execute_result"
    }
   ],
   "source": [
    "knn.fit(train_X, train_y)"
   ]
  },
  {
   "cell_type": "code",
   "execution_count": 185,
   "metadata": {},
   "outputs": [
    {
     "name": "stdout",
     "output_type": "stream",
     "text": [
      "KNN sans optimisation et avec un dataset équilibré:\n",
      "Echantillons mal classés: 5551\n",
      "Précision: 0.88\n"
     ]
    }
   ],
   "source": [
    "y_predK = knn.predict(test_X)\n",
    "print('KNN sans optimisation et avec un dataset équilibré:')\n",
    "print('Echantillons mal classés: %d' % (test_y != y_predK).sum())\n",
    "print('Précision: %.2f' % accuracy_score(test_y, y_predK))"
   ]
  },
  {
   "cell_type": "markdown",
   "metadata": {},
   "source": [
    "Après avoir utilisé ces 3 modèles on obtient une précision :\n",
    "\n",
    "- **Régression Linéaire** : 0.71\n",
    "- **Random Forest** : 0.92\n",
    "- **K-Nearest Neighbors (KNN)** : 0.88\n",
    "\n",
    "Maintenant on va chercher à améliorer la performance de nos modèles en modifiant les hyper paramètres."
   ]
  },
  {
   "cell_type": "markdown",
   "metadata": {},
   "source": [
    "# 6. Régler les paramètres des modèles"
   ]
  },
  {
   "cell_type": "markdown",
   "metadata": {},
   "source": [
    "Pour finir je vais utiliser un processus de **grid-searching** pour trouver les paramètres optimaux de mes modèles.\n",
    "\n",
    "À noter que la liste de paramètres que j'utilise pour chaque modèle est assez restreinte compte tenu du fait que ma puissance de calcul est assez limitée et que certains **grid-search** peuvent durer plusieurs heures."
   ]
  },
  {
   "cell_type": "markdown",
   "metadata": {},
   "source": [
    "<div class=\"alert alert-block alert-info\">\n",
    "    <b>Remarque:</b> Ici je fais une erreur en utilisant un GridSearch sur un échantillon de ma donnée et non pas sur le dataset entier car le Random Forest va subir de l'overfitting ce dont je vais aperçevoir par la suite.\n",
    "</div>"
   ]
  },
  {
   "cell_type": "markdown",
   "metadata": {},
   "source": [
    "### Optimisation Régression Logistique"
   ]
  },
  {
   "cell_type": "code",
   "execution_count": 97,
   "metadata": {},
   "outputs": [],
   "source": [
    "# Optimisation pour la régression logistique\n",
    "\n",
    "def logisticR_param_selection(X, y, nfolds):\n",
    "    \n",
    "    # On définit les paramètres à tester\n",
    "    param_grid = {\"C\":np.logspace(-3,3,7), \"penalty\":[\"l1\",\"l2\"]}\n",
    "    \n",
    "    grid_search = GridSearchCV(LogisticRegression(), param_grid, cv=nfolds)\n",
    "    grid_search.fit(X, y)\n",
    "    grid_search.best_params_\n",
    "    \n",
    "    return grid_search.best_params_"
   ]
  },
  {
   "cell_type": "code",
   "execution_count": 98,
   "metadata": {},
   "outputs": [
    {
     "data": {
      "text/plain": [
       "{'C': 1000.0, 'penalty': 'l1'}"
      ]
     },
     "execution_count": 98,
     "metadata": {},
     "output_type": "execute_result"
    }
   ],
   "source": [
    "from sklearn.model_selection import GridSearchCV\n",
    "\n",
    "logisticR_param_selection(train_X,train_y,5)"
   ]
  },
  {
   "cell_type": "markdown",
   "metadata": {},
   "source": [
    "### Optimisation Random Forest"
   ]
  },
  {
   "cell_type": "code",
   "execution_count": 90,
   "metadata": {},
   "outputs": [],
   "source": [
    "#Optimisation pour le random forest\n",
    "\n",
    "def randomF_param_selection(X, y, nfolds):\n",
    "    \n",
    "     # On définit les paramètres à tester\n",
    "    param_grid = {'n_estimators': [200, 500],\n",
    "    'max_features': ['auto', 'sqrt', 'log2'],\n",
    "    'max_depth' : [4,5,6,7,8],\n",
    "    'criterion' :['gini', 'entropy']}\n",
    "    \n",
    "    grid_search = GridSearchCV(RandomForestClassifier(), param_grid, cv=nfolds)\n",
    "    grid_search.fit(X, y)\n",
    "    grid_search.best_params_\n",
    "    \n",
    "    return grid_search.best_params_"
   ]
  },
  {
   "cell_type": "code",
   "execution_count": 91,
   "metadata": {},
   "outputs": [
    {
     "data": {
      "text/plain": [
       "{'criterion': 'gini',\n",
       " 'max_depth': 8,\n",
       " 'max_features': 'sqrt',\n",
       " 'n_estimators': 200}"
      ]
     },
     "execution_count": 91,
     "metadata": {},
     "output_type": "execute_result"
    }
   ],
   "source": [
    "randomF_param_selection(train_X,train_y,5)"
   ]
  },
  {
   "cell_type": "markdown",
   "metadata": {},
   "source": [
    "### Optimisation KNN"
   ]
  },
  {
   "cell_type": "code",
   "execution_count": 92,
   "metadata": {},
   "outputs": [],
   "source": [
    "# Optimisation pour le KNN\n",
    "\n",
    "def knn_param_selection(X, y, nfolds):\n",
    "    \n",
    "     # On définit les paramètres à tester\n",
    "    param_grid = {'n_neighbors':[4,5,6,7],\n",
    "              'leaf_size':[1,3,5],\n",
    "              'algorithm':['auto', 'kd_tree'],\n",
    "              'n_jobs':[-1]}\n",
    "    \n",
    "    grid_search = GridSearchCV(KNeighborsClassifier(), param_grid, cv=nfolds)\n",
    "    grid_search.fit(X, y)\n",
    "    grid_search.best_params_\n",
    "    \n",
    "    return grid_search.best_params_"
   ]
  },
  {
   "cell_type": "code",
   "execution_count": 93,
   "metadata": {},
   "outputs": [
    {
     "data": {
      "text/plain": [
       "{'algorithm': 'auto', 'leaf_size': 1, 'n_jobs': -1, 'n_neighbors': 4}"
      ]
     },
     "execution_count": 93,
     "metadata": {},
     "output_type": "execute_result"
    }
   ],
   "source": [
    "knn_param_selection(train_X,train_y,5)"
   ]
  },
  {
   "cell_type": "markdown",
   "metadata": {},
   "source": [
    "On a une liste de paramètres optimaux pour chaque algorithme, on va donc les utiliser sur le dataset entier pour faire nos prédictions."
   ]
  },
  {
   "cell_type": "markdown",
   "metadata": {},
   "source": [
    "***"
   ]
  },
  {
   "cell_type": "markdown",
   "metadata": {},
   "source": [
    "## Evaluation sur le dataset entier"
   ]
  },
  {
   "cell_type": "markdown",
   "metadata": {},
   "source": [
    "Pour chaque algorithme, je vais faire 2 prédictions sur le dataset entier : \n",
    "\n",
    "- La première utilisera les hyper paramètres optimisés précedement.\n",
    "- La deuxième utilisera les hyper paramètres par défaut."
   ]
  },
  {
   "cell_type": "markdown",
   "metadata": {},
   "source": [
    "### Régression Logistique"
   ]
  },
  {
   "cell_type": "markdown",
   "metadata": {},
   "source": [
    "#### Avec paramètres optimaux"
   ]
  },
  {
   "cell_type": "code",
   "execution_count": 195,
   "metadata": {},
   "outputs": [],
   "source": [
    "logisticRegr = LogisticRegression(C=1000, penalty=\"l1\")"
   ]
  },
  {
   "cell_type": "code",
   "execution_count": 196,
   "metadata": {},
   "outputs": [
    {
     "data": {
      "text/plain": [
       "LogisticRegression(C=1000, class_weight=None, dual=False, fit_intercept=True,\n",
       "          intercept_scaling=1, max_iter=100, multi_class='ovr', n_jobs=1,\n",
       "          penalty='l1', random_state=None, solver='liblinear', tol=0.0001,\n",
       "          verbose=0, warm_start=False)"
      ]
     },
     "execution_count": 196,
     "metadata": {},
     "output_type": "execute_result"
    }
   ],
   "source": [
    "logisticRegr.fit(train_X, train_y)"
   ]
  },
  {
   "cell_type": "code",
   "execution_count": 197,
   "metadata": {},
   "outputs": [
    {
     "name": "stdout",
     "output_type": "stream",
     "text": [
      "Régression Logistique avec optimisation et avec un dataset équilibré\n",
      "Echantillons mal classés: 76962\n",
      "Précision: 0.86\n"
     ]
    }
   ],
   "source": [
    "y_pred2 = logisticRegr.predict(X)\n",
    "print('Régression Logistique avec optimisation sur le dataset entier')\n",
    "print('Echantillons mal classés: %d' % (y != y_pred2).sum())\n",
    "print('Précision: %.2f' % accuracy_score(y, y_pred2))"
   ]
  },
  {
   "cell_type": "markdown",
   "metadata": {},
   "source": [
    "#### Sans paramètres optimaux"
   ]
  },
  {
   "cell_type": "code",
   "execution_count": 212,
   "metadata": {},
   "outputs": [],
   "source": [
    "logisticRegr2 = LogisticRegression()"
   ]
  },
  {
   "cell_type": "code",
   "execution_count": 213,
   "metadata": {},
   "outputs": [
    {
     "data": {
      "text/plain": [
       "LogisticRegression(C=1.0, class_weight=None, dual=False, fit_intercept=True,\n",
       "          intercept_scaling=1, max_iter=100, multi_class='ovr', n_jobs=1,\n",
       "          penalty='l2', random_state=None, solver='liblinear', tol=0.0001,\n",
       "          verbose=0, warm_start=False)"
      ]
     },
     "execution_count": 213,
     "metadata": {},
     "output_type": "execute_result"
    }
   ],
   "source": [
    "logisticRegr2.fit(train_X, train_y)"
   ]
  },
  {
   "cell_type": "code",
   "execution_count": 214,
   "metadata": {},
   "outputs": [
    {
     "name": "stdout",
     "output_type": "stream",
     "text": [
      "Régression Logistique avec optimisation sur le dataset entier\n",
      "Echantillons mal classés: 117093\n",
      "Précision: 0.79\n"
     ]
    }
   ],
   "source": [
    "y_pred3 = logisticRegr2.predict(X)\n",
    "print('Régression Logistique avec optimisation sur le dataset entier')\n",
    "print('Echantillons mal classés: %d' % (y != y_pred3).sum())\n",
    "print('Précision: %.2f' % accuracy_score(y, y_pred3))"
   ]
  },
  {
   "cell_type": "markdown",
   "metadata": {},
   "source": [
    "### Random Forest"
   ]
  },
  {
   "cell_type": "markdown",
   "metadata": {},
   "source": [
    "#### Avec paramètres optimaux"
   ]
  },
  {
   "cell_type": "code",
   "execution_count": 198,
   "metadata": {},
   "outputs": [],
   "source": [
    "forest = RandomForestClassifier(criterion='gini', max_depth=8, max_features='sqrt',n_estimators=200 )"
   ]
  },
  {
   "cell_type": "code",
   "execution_count": 199,
   "metadata": {},
   "outputs": [
    {
     "data": {
      "text/plain": [
       "RandomForestClassifier(bootstrap=True, class_weight=None, criterion='gini',\n",
       "            max_depth=8, max_features='sqrt', max_leaf_nodes=None,\n",
       "            min_impurity_decrease=0.0, min_impurity_split=None,\n",
       "            min_samples_leaf=1, min_samples_split=2,\n",
       "            min_weight_fraction_leaf=0.0, n_estimators=200, n_jobs=1,\n",
       "            oob_score=False, random_state=None, verbose=0,\n",
       "            warm_start=False)"
      ]
     },
     "execution_count": 199,
     "metadata": {},
     "output_type": "execute_result"
    }
   ],
   "source": [
    "forest.fit(train_X, train_y)"
   ]
  },
  {
   "cell_type": "code",
   "execution_count": 200,
   "metadata": {},
   "outputs": [
    {
     "name": "stdout",
     "output_type": "stream",
     "text": [
      "Random Forest avec optimisation et avec un dataset équilibré:\n",
      "Echantillons mal classés: 68370\n",
      "Précision: 0.88\n"
     ]
    }
   ],
   "source": [
    "y_predF2 = forest.predict(X)\n",
    "print('Random Forest avec optimisation sur le dataset entier:')\n",
    "print('Echantillons mal classés: %d' % (y != y_predF2).sum())\n",
    "print('Précision: %.2f' % accuracy_score(y, y_predF2))"
   ]
  },
  {
   "cell_type": "markdown",
   "metadata": {},
   "source": [
    "#### Sans paramètres optimaux"
   ]
  },
  {
   "cell_type": "code",
   "execution_count": 205,
   "metadata": {},
   "outputs": [],
   "source": [
    "forest2 = RandomForestClassifier()"
   ]
  },
  {
   "cell_type": "code",
   "execution_count": 206,
   "metadata": {},
   "outputs": [
    {
     "data": {
      "text/plain": [
       "RandomForestClassifier(bootstrap=True, class_weight=None, criterion='gini',\n",
       "            max_depth=None, max_features='auto', max_leaf_nodes=None,\n",
       "            min_impurity_decrease=0.0, min_impurity_split=None,\n",
       "            min_samples_leaf=1, min_samples_split=2,\n",
       "            min_weight_fraction_leaf=0.0, n_estimators=10, n_jobs=1,\n",
       "            oob_score=False, random_state=None, verbose=0,\n",
       "            warm_start=False)"
      ]
     },
     "execution_count": 206,
     "metadata": {},
     "output_type": "execute_result"
    }
   ],
   "source": [
    "forest2.fit(train_X, train_y)"
   ]
  },
  {
   "cell_type": "code",
   "execution_count": 208,
   "metadata": {},
   "outputs": [
    {
     "name": "stdout",
     "output_type": "stream",
     "text": [
      "Random Forest avec optimisation sur le dataset entier:\n",
      "Echantillons mal classés: 33375\n",
      "Précision: 0.94\n"
     ]
    }
   ],
   "source": [
    "y_predF3 = forest2.predict(X)\n",
    "print('Random Forest avec optimisation sur le dataset entier:')\n",
    "print('Echantillons mal classés: %d' % (y != y_predF3).sum())\n",
    "print('Précision: %.2f' % accuracy_score(y, y_predF3))"
   ]
  },
  {
   "cell_type": "markdown",
   "metadata": {},
   "source": [
    "### K-Nearest Neighbors"
   ]
  },
  {
   "cell_type": "markdown",
   "metadata": {},
   "source": [
    "#### Avec paramètres optimaux"
   ]
  },
  {
   "cell_type": "code",
   "execution_count": 201,
   "metadata": {},
   "outputs": [],
   "source": [
    "knn = KNeighborsClassifier(algorithm='auto', leaf_size=1, n_jobs=-1, n_neighbors=4)"
   ]
  },
  {
   "cell_type": "code",
   "execution_count": 202,
   "metadata": {},
   "outputs": [
    {
     "data": {
      "text/plain": [
       "KNeighborsClassifier(algorithm='auto', leaf_size=1, metric='minkowski',\n",
       "           metric_params=None, n_jobs=-1, n_neighbors=4, p=2,\n",
       "           weights='uniform')"
      ]
     },
     "execution_count": 202,
     "metadata": {},
     "output_type": "execute_result"
    }
   ],
   "source": [
    "knn.fit(train_X, train_y)"
   ]
  },
  {
   "cell_type": "code",
   "execution_count": 203,
   "metadata": {},
   "outputs": [
    {
     "name": "stdout",
     "output_type": "stream",
     "text": [
      "KNN sans optimisation et avec un dataset équilibré:\n",
      "Echantillons mal classés: 52266\n",
      "Précision: 0.90\n"
     ]
    }
   ],
   "source": [
    "y_predK2 = knn.predict(X)\n",
    "print('KNN sans optimisation sur le dataset entier:')\n",
    "print('Echantillons mal classés: %d' % (y != y_predK2).sum())\n",
    "print('Précision: %.2f' % accuracy_score(y, y_predK2))"
   ]
  },
  {
   "cell_type": "markdown",
   "metadata": {},
   "source": [
    "#### Sans paramètres optimaux"
   ]
  },
  {
   "cell_type": "code",
   "execution_count": 209,
   "metadata": {},
   "outputs": [],
   "source": [
    "knn2 = KNeighborsClassifier()"
   ]
  },
  {
   "cell_type": "code",
   "execution_count": 210,
   "metadata": {},
   "outputs": [
    {
     "data": {
      "text/plain": [
       "KNeighborsClassifier(algorithm='auto', leaf_size=30, metric='minkowski',\n",
       "           metric_params=None, n_jobs=1, n_neighbors=5, p=2,\n",
       "           weights='uniform')"
      ]
     },
     "execution_count": 210,
     "metadata": {},
     "output_type": "execute_result"
    }
   ],
   "source": [
    "knn2.fit(train_X, train_y)"
   ]
  },
  {
   "cell_type": "code",
   "execution_count": 211,
   "metadata": {},
   "outputs": [
    {
     "name": "stdout",
     "output_type": "stream",
     "text": [
      "KNN sans optimisation sur le dataset entier:\n",
      "Echantillons mal classés: 72994\n",
      "Précision: 0.87\n"
     ]
    }
   ],
   "source": [
    "y_predK3 = knn2.predict(X)\n",
    "print('KNN sans optimisation sur le dataset entier:')\n",
    "print('Echantillons mal classés: %d' % (y != y_predK3).sum())\n",
    "print('Précision: %.2f' % accuracy_score(y, y_predK3))"
   ]
  },
  {
   "cell_type": "markdown",
   "metadata": {},
   "source": [
    "### Matrice de confusion du meilleur modèle (Random Forest sans optimisation)"
   ]
  },
  {
   "cell_type": "code",
   "execution_count": 216,
   "metadata": {},
   "outputs": [
    {
     "name": "stdout",
     "output_type": "stream",
     "text": [
      "Matrice de Confusion:\n",
      " [[436991  30986]\n",
      " [  2389  76807]]\n"
     ]
    },
    {
     "data": {
      "image/png": "[encoded data removed]",
      "text/plain": [
       "<Figure size 432x288 with 2 Axes>"
      ]
     },
     "metadata": {},
     "output_type": "display_data"
    }
   ],
   "source": [
    "conf_mat = confusion_matrix(y_true=y, y_pred=y_predF3)\n",
    "print('Matrice de Confusion:\\n', conf_mat)\n",
    "\n",
    "labels = ['Class 0', 'Class 1']\n",
    "fig = plt.figure()\n",
    "ax = fig.add_subplot(111)\n",
    "cax = ax.matshow(conf_mat, cmap=plt.cm.Blues)\n",
    "fig.colorbar(cax)\n",
    "ax.set_xticklabels([''] + labels)\n",
    "ax.set_yticklabels([''] + labels)\n",
    "plt.xlabel('Prédit')\n",
    "plt.ylabel('Attendu')\n",
    "plt.show()"
   ]
  },
  {
   "cell_type": "code",
   "execution_count": 303,
   "metadata": {},
   "outputs": [],
   "source": [
    "results = [\n",
    "    [0.79,0.86],\n",
    "    [0.94,0.88],\n",
    "    [0.87,0.90],    \n",
    "]"
   ]
  },
  {
   "cell_type": "code",
   "execution_count": 304,
   "metadata": {},
   "outputs": [
    {
     "data": {
      "image/png": "[encoded data removed]",
      "text/plain": [
       "<Figure size 576x288 with 1 Axes>"
      ]
     },
     "metadata": {},
     "output_type": "display_data"
    }
   ],
   "source": [
    "x= np.arange(2)\n",
    "\n",
    "algo = \"Sans optimisation\", \"Avec optimisation\"\n",
    "\n",
    "\n",
    "plt.figure(figsize=(8,4))\n",
    "plt.bar(x+0.00, results[0], color=\"b\", width=0.25, label = \"Régression Linéaire\" )\n",
    "plt.bar(x+0.25, results[1], color=\"r\", width=0.25, label = \"Random Forest\" )\n",
    "plt.bar(x+0.5, results[2], color=\"g\", width=0.25, label = \"K-Nearest Neighbors\" )\n",
    "\n",
    "plt.title(\"PRECISION DES MODELES\", fontsize = 17)\n",
    "plt.legend(fontsize = 15, loc = (1.05,0.4))\n",
    "\n",
    "\n",
    "\n",
    "plt.xticks(x,algo)\n",
    "\n",
    "plt.show()"
   ]
  },
  {
   "cell_type": "markdown",
   "metadata": {},
   "source": [
    "On obtient les résultats suivants : \n",
    "\n",
    "- **Régression Linéaire** : **0.79 -> 0.86** de précision avec l'optimisation des paramètres, soit une **augmentation** de **0.07**\n",
    "- **Random Forest** : **0.94 -> 0.88** de précision avec l'optimisation des paramètres, soit une **baisse** de **0.06**\n",
    "- **K-Nearest Neighbors (KNN)** : **0.87 -> 0.90** de précision avec l'optimisation des paramètres, soit une **augmentation** de **0.03**"
   ]
  },
  {
   "cell_type": "markdown",
   "metadata": {},
   "source": [
    "On conclut donc que notre meilleur modèle pour prédire si une offre remporte la Buy Box est le Random Forest sans optimisation avec une précision de 0.94. Cependant **on constate qu'avec l'optimisation le score a baissé ce qui n'est pas normal** et que je vais expliquer dans la partie Bilan qui suit."
   ]
  },
  {
   "cell_type": "markdown",
   "metadata": {},
   "source": [
    "***\n"
   ]
  },
  {
   "cell_type": "markdown",
   "metadata": {},
   "source": [
    "# 7. Bilan\n"
   ]
  },
  {
   "cell_type": "markdown",
   "metadata": {},
   "source": [
    "Tout d'abord ce hackathon était très enrichissant et intéressant puisqu'il s'agissait d'un cas d'étude vraiment concret. Le but était de **construire un modèle pour prédire quelle offre remporte la Buy box** et aussi **d'expliquer quels sont les paramètres les plus importants**.\n",
    "\n",
    "Pour la partie modèle j'ai répondu à la problématique en utilisant un algorithme de **Random Forest** qui a obtenu une précision de **0.94** ce qui est élevé. Néanmoins j'aurais pu améliorer le score si j'avais mieux utilisé le **GridSearching** et je reviendrai sur ce point juste après. Je suis conscient aussi que le score que j'ai obtenu est loin de représenter la véritable efficacité de ce modèle puisque je l'ai utilisé uniquement sur un dataset et que la précision pour un dataset totalement différent sera probablement plus faible.\n",
    "\n",
    "Pour la partie sur l'importance des paramètres, je pensais que le prix et le cout de la livraison allaient être les paramètres les plus influents sur la position de l'offre. Or j'avais tort le **nom du vendeur**, **le nombre d'avis**, **les notes obtenues par l'offre** ainsi que s'il s'agit d'une offre **prime** ont été d'après mes analyses les paramètres les plus importants. J'en déduis donc qu'en général une personne préfère dépenser plus si elle est sûre que le produit a une bonne notation et est vendu par un vendeur de confiance.\n",
    "\n",
    "\n",
    "Enfin, j'aimerais revenir sur certaines parties que j'estime avoir mal traité ou sur lesquels j'ai des doutes : \n",
    "\n",
    "- **Sur la colonne seller_name où je décide de remplacer les cases vides par Amazon** : Après avoir approfondi mes recherches sur le fichier, je me suis rendu compte que certains vendeurs autres que Amazon étaient aussi remplis de valeurs null et que donc j'avais fait une erreur. J'aurais donc dû faire preuve davantage de vigilance et revoir comment parser cette colonne.\n",
    "\n",
    "\n",
    "- **Sur la colonne buy_box_owner où je décide de supprimer la colonne** : Comme avant j'ai manqué de l'information et j'ai aperçu que dans la grande majorité des cas cette colonne possédait le nom de l'expéditeur ainsi que celui du vendeur. De ce fait, j'aurais pu ajouter une colonne 'Expediteur' pour analyser si celui-ci avait un impact sur le classement de l'offre.\n",
    "\n",
    "\n",
    "- **Sur les fonctions pour traiter les commentaires** : Les fonctions pour trouver le nombre de commentaires ou encore le pourcentage de commentaires positifs sont très basiques et peu robustes. J'aurais dû utiliser des **expressions régulières** pour m'assurer une meilleure robustesse.\n",
    "\n",
    "\n",
    "- **Sur la fonction pour calculer le temps de livraison** : Cette fonction est une approximation du temps de livraison car je ne prends pas en considération chaque mois et me base uniquement sur un mois à 31 jours alors que certains sont à 30 jours. Ainsi ma fonction est moins précise, j'aurais dû aussi parser les mois pour ensuite les transformer en chiffres et les comparer avec ma colonne \"Month\"\n",
    "\n",
    "\n",
    "- **Sur la méthode d'undersampling** : J'ai utilisé un undersampling aléatoire pour réduire ma classe en surnombre ce qui reste une méthode basique. Avec un peu de recherche je suis convaincu de pouvoir trouver une méthode plus performante.\n",
    "\n",
    "\n",
    "- **Sur le choix de l'undersampling** : J'ai choisi l'undersampling car cela me paraissait judicieux car je redoutais l'overfitting en oversamplant la classe 1. Néanmoins je n'ai pas testé les 2 méthodes, chose que j'aurai dû faire pour m'assurer que ma décision était la bonne.\n",
    "\n",
    "\n",
    "- **La normalisation** : Je n'ai pas normalisé mes données ce qui je pense avec du recul est aussi une erreur étant que mes différentes features ont toutes des portées différentes. Cela aurait probablement amélioré la précision de mon modèle.\n",
    "\n",
    "\n",
    "- **La baisse de précision du random forest avec l'optimisation** : Ici je pense avoir fait l'erreur d'effectuer mon GridSearch sur un sample du dataset et pas le dataset lui-même. Le résultat est que mes paramètres ont subi de l'overfitting et qu'ils n'étaient pas adaptés pour le dataset entier ce qui résulte d'une perte de précision."
   ]
  }
 ],
 "metadata": {
  "kernelspec": {
   "display_name": "Python 3",
   "language": "python",
   "name": "python3"
  },
  "language_info": {
   "codemirror_mode": {
    "name": "ipython",
    "version": 3
   },
   "file_extension": ".py",
   "mimetype": "text/x-python",
   "name": "python",
   "nbconvert_exporter": "python",
   "pygments_lexer": "ipython3",
   "version": "3.6.5"
  }
 },
 "nbformat": 4,
 "nbformat_minor": 2
}
